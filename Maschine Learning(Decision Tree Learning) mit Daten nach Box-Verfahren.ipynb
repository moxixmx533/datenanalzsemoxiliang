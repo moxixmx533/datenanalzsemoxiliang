{
 "cells": [
  {
   "cell_type": "code",
   "execution_count": 1,
   "metadata": {},
   "outputs": [],
   "source": [
    "import pandas as pd"
   ]
  },
  {
   "cell_type": "code",
   "execution_count": 4,
   "metadata": {},
   "outputs": [
    {
     "data": {
      "text/html": [
       "<div>\n",
       "<style scoped>\n",
       "    .dataframe tbody tr th:only-of-type {\n",
       "        vertical-align: middle;\n",
       "    }\n",
       "\n",
       "    .dataframe tbody tr th {\n",
       "        vertical-align: top;\n",
       "    }\n",
       "\n",
       "    .dataframe thead th {\n",
       "        text-align: right;\n",
       "    }\n",
       "</style>\n",
       "<table border=\"1\" class=\"dataframe\">\n",
       "  <thead>\n",
       "    <tr style=\"text-align: right;\">\n",
       "      <th></th>\n",
       "      <th>Depth [m]</th>\n",
       "      <th>Rope Force Main Winch [t]</th>\n",
       "      <th>Speed of Rotary Drive [U/min]</th>\n",
       "      <th>Pressure Pump 1 [bar]</th>\n",
       "      <th>Pressure Pump 2 [bar]</th>\n",
       "      <th>Pressure Pump 3 [bar]</th>\n",
       "      <th>Pressure Pump 4 [bar]</th>\n",
       "      <th>Crowd-Force [t]</th>\n",
       "      <th>Torque [kNm]</th>\n",
       "      <th>Main Winch Rope Speed [cm/min]</th>\n",
       "      <th>time</th>\n",
       "      <th>activity from avtivitydaten</th>\n",
       "    </tr>\n",
       "  </thead>\n",
       "  <tbody>\n",
       "    <tr>\n",
       "      <th>0</th>\n",
       "      <td>-0.482</td>\n",
       "      <td>15.60</td>\n",
       "      <td>0.0</td>\n",
       "      <td>3.2</td>\n",
       "      <td>147.2</td>\n",
       "      <td>192.0</td>\n",
       "      <td>160.0</td>\n",
       "      <td>18.26</td>\n",
       "      <td>0.0</td>\n",
       "      <td>23.776</td>\n",
       "      <td>2019-10-14 07:24:22</td>\n",
       "      <td>Nebenprozesszeit - Leeren</td>\n",
       "    </tr>\n",
       "    <tr>\n",
       "      <th>1</th>\n",
       "      <td>-0.284</td>\n",
       "      <td>15.54</td>\n",
       "      <td>0.0</td>\n",
       "      <td>3.4</td>\n",
       "      <td>147.2</td>\n",
       "      <td>200.8</td>\n",
       "      <td>221.0</td>\n",
       "      <td>18.26</td>\n",
       "      <td>0.0</td>\n",
       "      <td>22.370</td>\n",
       "      <td>2019-10-14 07:24:23</td>\n",
       "      <td>Nebenprozesszeit - Leeren</td>\n",
       "    </tr>\n",
       "    <tr>\n",
       "      <th>2</th>\n",
       "      <td>-0.106</td>\n",
       "      <td>15.08</td>\n",
       "      <td>0.0</td>\n",
       "      <td>3.6</td>\n",
       "      <td>100.8</td>\n",
       "      <td>179.0</td>\n",
       "      <td>188.4</td>\n",
       "      <td>15.14</td>\n",
       "      <td>0.0</td>\n",
       "      <td>20.230</td>\n",
       "      <td>2019-10-14 07:24:24</td>\n",
       "      <td>Nebenprozesszeit - Leeren</td>\n",
       "    </tr>\n",
       "    <tr>\n",
       "      <th>3</th>\n",
       "      <td>0.000</td>\n",
       "      <td>14.68</td>\n",
       "      <td>0.0</td>\n",
       "      <td>3.6</td>\n",
       "      <td>92.8</td>\n",
       "      <td>153.4</td>\n",
       "      <td>179.6</td>\n",
       "      <td>0.70</td>\n",
       "      <td>0.0</td>\n",
       "      <td>15.402</td>\n",
       "      <td>2019-10-14 07:24:25</td>\n",
       "      <td>Nebenprozesszeit - Leeren</td>\n",
       "    </tr>\n",
       "    <tr>\n",
       "      <th>4</th>\n",
       "      <td>-0.002</td>\n",
       "      <td>14.58</td>\n",
       "      <td>0.0</td>\n",
       "      <td>3.8</td>\n",
       "      <td>76.2</td>\n",
       "      <td>121.0</td>\n",
       "      <td>162.6</td>\n",
       "      <td>-11.26</td>\n",
       "      <td>0.0</td>\n",
       "      <td>17.040</td>\n",
       "      <td>2019-10-14 07:24:26</td>\n",
       "      <td>Nebenprozesszeit - Leeren</td>\n",
       "    </tr>\n",
       "  </tbody>\n",
       "</table>\n",
       "</div>"
      ],
      "text/plain": [
       "   Depth [m]  Rope Force Main Winch [t]  Speed of Rotary Drive [U/min]  \\\n",
       "0     -0.482                      15.60                            0.0   \n",
       "1     -0.284                      15.54                            0.0   \n",
       "2     -0.106                      15.08                            0.0   \n",
       "3      0.000                      14.68                            0.0   \n",
       "4     -0.002                      14.58                            0.0   \n",
       "\n",
       "   Pressure Pump 1 [bar]  Pressure Pump 2 [bar]  Pressure Pump 3 [bar]  \\\n",
       "0                    3.2                  147.2                  192.0   \n",
       "1                    3.4                  147.2                  200.8   \n",
       "2                    3.6                  100.8                  179.0   \n",
       "3                    3.6                   92.8                  153.4   \n",
       "4                    3.8                   76.2                  121.0   \n",
       "\n",
       "   Pressure Pump 4 [bar]  Crowd-Force [t]  Torque [kNm]  \\\n",
       "0                  160.0            18.26           0.0   \n",
       "1                  221.0            18.26           0.0   \n",
       "2                  188.4            15.14           0.0   \n",
       "3                  179.6             0.70           0.0   \n",
       "4                  162.6           -11.26           0.0   \n",
       "\n",
       "   Main Winch Rope Speed [cm/min]                 time  \\\n",
       "0                          23.776  2019-10-14 07:24:22   \n",
       "1                          22.370  2019-10-14 07:24:23   \n",
       "2                          20.230  2019-10-14 07:24:24   \n",
       "3                          15.402  2019-10-14 07:24:25   \n",
       "4                          17.040  2019-10-14 07:24:26   \n",
       "\n",
       "  activity from avtivitydaten  \n",
       "0   Nebenprozesszeit - Leeren  \n",
       "1   Nebenprozesszeit - Leeren  \n",
       "2   Nebenprozesszeit - Leeren  \n",
       "3   Nebenprozesszeit - Leeren  \n",
       "4   Nebenprozesszeit - Leeren  "
      ]
     },
     "execution_count": 4,
     "metadata": {},
     "output_type": "execute_result"
    }
   ],
   "source": [
    "df = pd.read_csv(\"reine Daten nach Box-Verfahren.csv\")\n",
    "df.drop(['Unnamed: 0'], axis=1,inplace=True)\n",
    "df.drop(['Torque [%]','Boring threshold [m]','Casing Length [m]','Crowd Depth [m]','Gear Mode Main Winch []','Inclination X [Grad]','Inclination Y [Grad]','Rope Force Aux. Winch. [t]','Status Rig [ ]','Torque Steps [K=1;M=2;G=3]'], axis=1,inplace=True)\n",
    "df.head()"
   ]
  },
  {
   "cell_type": "code",
   "execution_count": 5,
   "metadata": {},
   "outputs": [
    {
     "data": {
      "text/plain": [
       "array(['Nebenprozesszeit - Leeren', 'Hauptzeit - Ablassen',\n",
       "       'Hauptzeit - Verrohrung eindrehen', 'Hauptzeit - Ziehen',\n",
       "       'Hauptzeit - Bohren'], dtype=object)"
      ]
     },
     "execution_count": 5,
     "metadata": {},
     "output_type": "execute_result"
    }
   ],
   "source": [
    "df['activity from avtivitydaten'].unique( )"
   ]
  },
  {
   "cell_type": "code",
   "execution_count": 6,
   "metadata": {},
   "outputs": [
    {
     "data": {
      "text/html": [
       "<div>\n",
       "<style scoped>\n",
       "    .dataframe tbody tr th:only-of-type {\n",
       "        vertical-align: middle;\n",
       "    }\n",
       "\n",
       "    .dataframe tbody tr th {\n",
       "        vertical-align: top;\n",
       "    }\n",
       "\n",
       "    .dataframe thead th {\n",
       "        text-align: right;\n",
       "    }\n",
       "</style>\n",
       "<table border=\"1\" class=\"dataframe\">\n",
       "  <thead>\n",
       "    <tr style=\"text-align: right;\">\n",
       "      <th></th>\n",
       "      <th>y0</th>\n",
       "      <th>y1</th>\n",
       "      <th>y2</th>\n",
       "      <th>y3</th>\n",
       "      <th>y4</th>\n",
       "    </tr>\n",
       "  </thead>\n",
       "  <tbody>\n",
       "    <tr>\n",
       "      <th>0</th>\n",
       "      <td>1</td>\n",
       "      <td>0</td>\n",
       "      <td>0</td>\n",
       "      <td>0</td>\n",
       "      <td>0</td>\n",
       "    </tr>\n",
       "    <tr>\n",
       "      <th>1</th>\n",
       "      <td>1</td>\n",
       "      <td>0</td>\n",
       "      <td>0</td>\n",
       "      <td>0</td>\n",
       "      <td>0</td>\n",
       "    </tr>\n",
       "    <tr>\n",
       "      <th>2</th>\n",
       "      <td>1</td>\n",
       "      <td>0</td>\n",
       "      <td>0</td>\n",
       "      <td>0</td>\n",
       "      <td>0</td>\n",
       "    </tr>\n",
       "    <tr>\n",
       "      <th>3</th>\n",
       "      <td>1</td>\n",
       "      <td>0</td>\n",
       "      <td>0</td>\n",
       "      <td>0</td>\n",
       "      <td>0</td>\n",
       "    </tr>\n",
       "    <tr>\n",
       "      <th>4</th>\n",
       "      <td>1</td>\n",
       "      <td>0</td>\n",
       "      <td>0</td>\n",
       "      <td>0</td>\n",
       "      <td>0</td>\n",
       "    </tr>\n",
       "    <tr>\n",
       "      <th>...</th>\n",
       "      <td>...</td>\n",
       "      <td>...</td>\n",
       "      <td>...</td>\n",
       "      <td>...</td>\n",
       "      <td>...</td>\n",
       "    </tr>\n",
       "    <tr>\n",
       "      <th>112709</th>\n",
       "      <td>0</td>\n",
       "      <td>0</td>\n",
       "      <td>0</td>\n",
       "      <td>0</td>\n",
       "      <td>1</td>\n",
       "    </tr>\n",
       "    <tr>\n",
       "      <th>112710</th>\n",
       "      <td>0</td>\n",
       "      <td>0</td>\n",
       "      <td>0</td>\n",
       "      <td>0</td>\n",
       "      <td>1</td>\n",
       "    </tr>\n",
       "    <tr>\n",
       "      <th>112711</th>\n",
       "      <td>0</td>\n",
       "      <td>0</td>\n",
       "      <td>0</td>\n",
       "      <td>0</td>\n",
       "      <td>1</td>\n",
       "    </tr>\n",
       "    <tr>\n",
       "      <th>112712</th>\n",
       "      <td>0</td>\n",
       "      <td>0</td>\n",
       "      <td>0</td>\n",
       "      <td>0</td>\n",
       "      <td>1</td>\n",
       "    </tr>\n",
       "    <tr>\n",
       "      <th>112713</th>\n",
       "      <td>0</td>\n",
       "      <td>0</td>\n",
       "      <td>0</td>\n",
       "      <td>0</td>\n",
       "      <td>1</td>\n",
       "    </tr>\n",
       "  </tbody>\n",
       "</table>\n",
       "<p>112714 rows × 5 columns</p>\n",
       "</div>"
      ],
      "text/plain": [
       "        y0  y1  y2  y3  y4\n",
       "0        1   0   0   0   0\n",
       "1        1   0   0   0   0\n",
       "2        1   0   0   0   0\n",
       "3        1   0   0   0   0\n",
       "4        1   0   0   0   0\n",
       "...     ..  ..  ..  ..  ..\n",
       "112709   0   0   0   0   1\n",
       "112710   0   0   0   0   1\n",
       "112711   0   0   0   0   1\n",
       "112712   0   0   0   0   1\n",
       "112713   0   0   0   0   1\n",
       "\n",
       "[112714 rows x 5 columns]"
      ]
     },
     "execution_count": 6,
     "metadata": {},
     "output_type": "execute_result"
    }
   ],
   "source": [
    "Class = df.iloc[:,11].unique()\n",
    "Class_dict = dict(zip(Class, range(len(Class))))\n",
    "df['Aktivität mit Nr'] = df.iloc[:,11].apply(lambda x: Class_dict[x])\n",
    "\n",
    "import pandas as pd\n",
    "from sklearn.model_selection import train_test_split\n",
    "from sklearn.preprocessing import LabelBinarizer\n",
    "\n",
    "lb = LabelBinarizer()\n",
    "lb.fit(list(Class_dict.values()))\n",
    "transformed_labels = lb.transform(df['Aktivität mit Nr'])\n",
    "y_bin_labels = []  # 对多分类进行0-1编码的变量\n",
    "for i in range(transformed_labels.shape[1]):\n",
    "    y_bin_labels.append('y' + str(i))\n",
    "    df['y' + str(i)] = transformed_labels[:, i]\n",
    "    \n",
    "df[y_bin_labels]"
   ]
  },
  {
   "cell_type": "code",
   "execution_count": 7,
   "metadata": {},
   "outputs": [],
   "source": [
    "# Feature festlegen\n",
    "X = df.iloc[:,0:10]\n",
    "# Ziel (y) festlegen\n"
   ]
  },
  {
   "cell_type": "code",
   "execution_count": 8,
   "metadata": {},
   "outputs": [],
   "source": [
    "# Splitting the dataset into the Training set and Test set\n",
    "from sklearn.model_selection import train_test_split\n",
    "X_train, X_test, y_train, y_test = train_test_split(X, df[y_bin_labels], test_size = 0.2, random_state = 42)\n",
    "\n",
    "# Feature Scaling, da die Einheit von jeder Feature miteinander nicht gleich ist.\n",
    "from sklearn.preprocessing import StandardScaler\n",
    "sc = StandardScaler()\n",
    "X_train = sc.fit_transform(X_train)\n",
    "X_test = sc.transform(X_test)"
   ]
  },
  {
   "cell_type": "code",
   "execution_count": 12,
   "metadata": {},
   "outputs": [
    {
     "data": {
      "text/plain": [
       "DecisionTreeClassifier(ccp_alpha=0.0, class_weight=None, criterion='entropy',\n",
       "                       max_depth=None, max_features=None, max_leaf_nodes=None,\n",
       "                       min_impurity_decrease=0.0, min_impurity_split=None,\n",
       "                       min_samples_leaf=1, min_samples_split=2,\n",
       "                       min_weight_fraction_leaf=0.0, presort='deprecated',\n",
       "                       random_state=None, splitter='best')"
      ]
     },
     "execution_count": 12,
     "metadata": {},
     "output_type": "execute_result"
    }
   ],
   "source": [
    "from sklearn.tree import DecisionTreeClassifier\n",
    "dt_model = DecisionTreeClassifier(criterion = 'entropy')\n",
    "dt_model.fit(X_train,y_train)\n"
   ]
  },
  {
   "cell_type": "code",
   "execution_count": 33,
   "metadata": {},
   "outputs": [
    {
     "data": {
      "text/plain": [
       "array([0.93280106, 0.92569591, 0.92691583, 0.92713763, 0.93035378,\n",
       "       0.93146279, 0.93512255, 0.93101919, 0.93268271, 0.92802484])"
      ]
     },
     "execution_count": 33,
     "metadata": {},
     "output_type": "execute_result"
    }
   ],
   "source": [
    "from sklearn.model_selection import cross_val_score\n",
    "score = cross_val_score(dt_model, X_train, y_train, cv=10,scoring='accuracy')\n",
    "score"
   ]
  },
  {
   "cell_type": "code",
   "execution_count": 32,
   "metadata": {},
   "outputs": [
    {
     "data": {
      "text/plain": [
       "0.930665059539959"
      ]
     },
     "execution_count": 32,
     "metadata": {},
     "output_type": "execute_result"
    }
   ],
   "source": [
    "# durchschnittliche Genauigkeit vom den Model \"Decision Tree\" \n",
    "score.mean()    "
   ]
  },
  {
   "cell_type": "markdown",
   "metadata": {},
   "source": [
    "### prediction the X_test"
   ]
  },
  {
   "cell_type": "code",
   "execution_count": 17,
   "metadata": {},
   "outputs": [
    {
     "name": "stdout",
     "output_type": "stream",
     "text": [
      "predict_results: [[0 0 1 0 0]\n",
      " [0 0 0 0 1]\n",
      " [0 0 1 0 0]\n",
      " ...\n",
      " [1 0 0 0 0]\n",
      " [0 0 0 1 0]\n",
      " [0 0 1 0 0]]\n",
      "target_test:         y0  y1  y2  y3  y4\n",
      "45497    0   0   1   0   0\n",
      "100687   0   0   0   0   1\n",
      "60163    0   0   1   0   0\n",
      "92192    0   0   0   1   0\n",
      "92136    0   0   0   1   0\n",
      "...     ..  ..  ..  ..  ..\n",
      "31078    0   1   0   0   0\n",
      "48615    0   0   1   0   0\n",
      "6757     1   0   0   0   0\n",
      "81303    0   0   0   1   0\n",
      "68952    0   0   1   0   0\n",
      "\n",
      "[22543 rows x 5 columns]\n"
     ]
    }
   ],
   "source": [
    "predict_results = dt_model.predict(X_test)\n",
    "print('predict_results:', predict_results)\n",
    "print('target_test:', y_test)"
   ]
  },
  {
   "cell_type": "code",
   "execution_count": 19,
   "metadata": {},
   "outputs": [
    {
     "name": "stdout",
     "output_type": "stream",
     "text": [
      "0.9320409883334073\n"
     ]
    }
   ],
   "source": [
    "from sklearn.metrics import accuracy_score\n",
    "\n",
    "print(accuracy_score(predict_results, y_test))"
   ]
  },
  {
   "cell_type": "code",
   "execution_count": 28,
   "metadata": {},
   "outputs": [
    {
     "data": {
      "text/plain": [
       "array([[4665,  173,  145,   39,   69],\n",
       "       [ 172, 2229,   89,   93,   61],\n",
       "       [ 147,   65, 6288,   45,   12],\n",
       "       [  31,   96,   53, 4237,   55],\n",
       "       [  74,   52,   11,   48, 3594]], dtype=int64)"
      ]
     },
     "execution_count": 28,
     "metadata": {},
     "output_type": "execute_result"
    }
   ],
   "source": [
    "# Confusion Matrix\n",
    "from sklearn.metrics import confusion_matrix\n",
    "confusion_matrix(\n",
    "    y_test.values.argmax(axis=1), predict_results.argmax(axis=1))"
   ]
  }
 ],
 "metadata": {
  "kernelspec": {
   "display_name": "Python 3",
   "language": "python",
   "name": "python3"
  },
  "language_info": {
   "codemirror_mode": {
    "name": "ipython",
    "version": 3
   },
   "file_extension": ".py",
   "mimetype": "text/x-python",
   "name": "python",
   "nbconvert_exporter": "python",
   "pygments_lexer": "ipython3",
   "version": "3.7.7"
  }
 },
 "nbformat": 4,
 "nbformat_minor": 4
}
