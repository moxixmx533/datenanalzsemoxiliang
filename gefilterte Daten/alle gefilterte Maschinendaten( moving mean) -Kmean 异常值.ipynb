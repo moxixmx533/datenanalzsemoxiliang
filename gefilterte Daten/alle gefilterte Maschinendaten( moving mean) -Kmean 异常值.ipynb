{
 "cells": [
  {
   "cell_type": "code",
   "execution_count": 1,
   "metadata": {},
   "outputs": [],
   "source": [
    "import pandas as pd"
   ]
  },
  {
   "cell_type": "code",
   "execution_count": 2,
   "metadata": {},
   "outputs": [],
   "source": [
    "df1 = pd.read_excel(\"reine Daten mit Filter 14.10.19.xls\")"
   ]
  },
  {
   "cell_type": "code",
   "execution_count": 3,
   "metadata": {},
   "outputs": [],
   "source": [
    "df1.drop(['Unnamed: 0'], axis=1,inplace=True)"
   ]
  },
  {
   "cell_type": "code",
   "execution_count": 4,
   "metadata": {},
   "outputs": [],
   "source": [
    "df2 = pd.read_excel(\"reine Daten mit Filter 16.10.19.xls\")"
   ]
  },
  {
   "cell_type": "code",
   "execution_count": 5,
   "metadata": {},
   "outputs": [],
   "source": [
    "df2.drop(['Unnamed: 0'], axis=1,inplace=True)"
   ]
  },
  {
   "cell_type": "code",
   "execution_count": 6,
   "metadata": {},
   "outputs": [],
   "source": [
    "df3 = pd.read_excel(\"reine Daten mit Filter 21.10.19.xls\")"
   ]
  },
  {
   "cell_type": "code",
   "execution_count": 7,
   "metadata": {},
   "outputs": [],
   "source": [
    "df3.drop(['Unnamed: 0'], axis=1,inplace=True)"
   ]
  },
  {
   "cell_type": "code",
   "execution_count": 8,
   "metadata": {},
   "outputs": [],
   "source": [
    "df4 = pd.read_excel(\"reine Daten mit Filter 23.10.19.xls\")"
   ]
  },
  {
   "cell_type": "code",
   "execution_count": 9,
   "metadata": {},
   "outputs": [],
   "source": [
    "df4.drop(['Unnamed: 0'], axis=1,inplace=True)"
   ]
  },
  {
   "cell_type": "code",
   "execution_count": 10,
   "metadata": {},
   "outputs": [],
   "source": [
    "df5 = pd.read_excel(\"reine Daten mit Filter 25.10.19.xls\")"
   ]
  },
  {
   "cell_type": "code",
   "execution_count": 11,
   "metadata": {},
   "outputs": [],
   "source": [
    "df5.drop(['Unnamed: 0'], axis=1,inplace=True)"
   ]
  },
  {
   "cell_type": "code",
   "execution_count": 12,
   "metadata": {},
   "outputs": [],
   "source": [
    "df6 = pd.read_excel(\"reine Daten mit Filter 28.10.19.xls\")"
   ]
  },
  {
   "cell_type": "code",
   "execution_count": 13,
   "metadata": {},
   "outputs": [],
   "source": [
    "df6.drop(['Unnamed: 0'], axis=1,inplace=True)"
   ]
  },
  {
   "cell_type": "code",
   "execution_count": 14,
   "metadata": {},
   "outputs": [],
   "source": [
    "df7 = pd.read_excel(\"reine Daten mit Filter 30.10.19.xls\")"
   ]
  },
  {
   "cell_type": "code",
   "execution_count": 15,
   "metadata": {},
   "outputs": [],
   "source": [
    "df7.drop(['Unnamed: 0'], axis=1,inplace=True)"
   ]
  },
  {
   "cell_type": "code",
   "execution_count": 16,
   "metadata": {},
   "outputs": [],
   "source": [
    "df8 = pd.read_excel(\"reine Daten mit Filter 06.11.19.xls\")   "
   ]
  },
  {
   "cell_type": "code",
   "execution_count": 17,
   "metadata": {},
   "outputs": [],
   "source": [
    "df8.drop(['Unnamed: 0'], axis=1,inplace=True)"
   ]
  },
  {
   "cell_type": "code",
   "execution_count": 18,
   "metadata": {},
   "outputs": [],
   "source": [
    "df9 = pd.read_excel(\"reine Daten mit Filter 11.11.19.xls\")   "
   ]
  },
  {
   "cell_type": "code",
   "execution_count": 19,
   "metadata": {},
   "outputs": [],
   "source": [
    "df9.drop(['Unnamed: 0'], axis=1,inplace=True)"
   ]
  },
  {
   "cell_type": "code",
   "execution_count": 20,
   "metadata": {},
   "outputs": [],
   "source": [
    "df9.drop([0],inplace=True)"
   ]
  },
  {
   "cell_type": "code",
   "execution_count": 21,
   "metadata": {},
   "outputs": [],
   "source": [
    "df10 = pd.read_excel(\"reine Daten mit Filter 13.11.19.xls\")"
   ]
  },
  {
   "cell_type": "code",
   "execution_count": 22,
   "metadata": {},
   "outputs": [],
   "source": [
    "df10.drop(['Unnamed: 0'], axis=1,inplace=True)    "
   ]
  },
  {
   "cell_type": "code",
   "execution_count": 23,
   "metadata": {},
   "outputs": [],
   "source": [
    "df11 = pd.read_excel(\"reine Daten mit Filter 18.11.19.xls\")"
   ]
  },
  {
   "cell_type": "code",
   "execution_count": 24,
   "metadata": {},
   "outputs": [],
   "source": [
    "df11.drop(['Unnamed: 0'], axis=1,inplace=True)  "
   ]
  },
  {
   "cell_type": "code",
   "execution_count": 25,
   "metadata": {},
   "outputs": [],
   "source": [
    "df12 = pd.read_excel(\"reine Daten mit Filter 20.11.19.xls\")"
   ]
  },
  {
   "cell_type": "code",
   "execution_count": 26,
   "metadata": {},
   "outputs": [],
   "source": [
    "df12.drop(['Unnamed: 0'], axis=1,inplace=True)  "
   ]
  },
  {
   "cell_type": "code",
   "execution_count": 27,
   "metadata": {},
   "outputs": [],
   "source": [
    "df13 = pd.read_excel(\"reine Daten mit Filter 25.11.19.xls\")  "
   ]
  },
  {
   "cell_type": "code",
   "execution_count": 28,
   "metadata": {},
   "outputs": [],
   "source": [
    "df13.drop([0],inplace=True)"
   ]
  },
  {
   "cell_type": "code",
   "execution_count": 29,
   "metadata": {},
   "outputs": [],
   "source": [
    "df13.reset_index(drop=True, inplace=True)"
   ]
  },
  {
   "cell_type": "code",
   "execution_count": 30,
   "metadata": {},
   "outputs": [],
   "source": [
    "df13.drop(['Unnamed: 0'], axis=1,inplace=True)  "
   ]
  },
  {
   "cell_type": "code",
   "execution_count": 31,
   "metadata": {},
   "outputs": [],
   "source": [
    "df14 = pd.read_excel(\"reine Daten mit Filter 27.11.19.xls\")"
   ]
  },
  {
   "cell_type": "code",
   "execution_count": 32,
   "metadata": {},
   "outputs": [],
   "source": [
    "df14.drop(['Unnamed: 0'], axis=1,inplace=True)"
   ]
  },
  {
   "cell_type": "code",
   "execution_count": 33,
   "metadata": {},
   "outputs": [],
   "source": [
    "df15 = pd.read_excel(\"reine Daten mit Filter 02.12.19.xls\")"
   ]
  },
  {
   "cell_type": "code",
   "execution_count": 34,
   "metadata": {},
   "outputs": [],
   "source": [
    "df15.drop(['Unnamed: 0.1'], axis=1,inplace=True)"
   ]
  },
  {
   "cell_type": "code",
   "execution_count": 35,
   "metadata": {},
   "outputs": [],
   "source": [
    "df16 = pd.read_excel(\"reine Daten mit Filter 04.12.19.xls\")"
   ]
  },
  {
   "cell_type": "code",
   "execution_count": 36,
   "metadata": {},
   "outputs": [],
   "source": [
    "df16.drop(['Unnamed: 0'], axis=1,inplace=True)"
   ]
  },
  {
   "cell_type": "code",
   "execution_count": 37,
   "metadata": {},
   "outputs": [
    {
     "name": "stderr",
     "output_type": "stream",
     "text": [
      "C:\\Users\\moxi\\Anaconda3\\lib\\site-packages\\ipykernel_launcher.py:1: FutureWarning: Sorting because non-concatenation axis is not aligned. A future version\n",
      "of pandas will change to not sort by default.\n",
      "\n",
      "To accept the future behavior, pass 'sort=False'.\n",
      "\n",
      "To retain the current behavior and silence the warning, pass 'sort=True'.\n",
      "\n",
      "  \"\"\"Entry point for launching an IPython kernel.\n"
     ]
    }
   ],
   "source": [
    "df = pd.concat([df1,df2,df3,df4,df5,df6,df7,df8,df9,df10,df11,df12,df13,df14,df15,df16],axis=0)\n",
    "df.reset_index(drop=True, inplace=True)"
   ]
  },
  {
   "cell_type": "code",
   "execution_count": 38,
   "metadata": {},
   "outputs": [
    {
     "data": {
      "text/plain": [
       "array(['Hauptzeit - Verrohrung eindrehen', 'Hauptzeit - Ablassen',\n",
       "       'Hauptzeit - Ziehen', 'Nebenprozesszeit - Leeren',\n",
       "       'Hauptzeit - Bohren'], dtype=object)"
      ]
     },
     "execution_count": 38,
     "metadata": {},
     "output_type": "execute_result"
    }
   ],
   "source": [
    "df['activity from avtivitydaten'].unique()"
   ]
  },
  {
   "cell_type": "code",
   "execution_count": 39,
   "metadata": {},
   "outputs": [
    {
     "data": {
      "text/html": [
       "<div>\n",
       "<style scoped>\n",
       "    .dataframe tbody tr th:only-of-type {\n",
       "        vertical-align: middle;\n",
       "    }\n",
       "\n",
       "    .dataframe tbody tr th {\n",
       "        vertical-align: top;\n",
       "    }\n",
       "\n",
       "    .dataframe thead th {\n",
       "        text-align: right;\n",
       "    }\n",
       "</style>\n",
       "<table border=\"1\" class=\"dataframe\">\n",
       "  <thead>\n",
       "    <tr style=\"text-align: right;\">\n",
       "      <th></th>\n",
       "      <th>Boring threshold [m]</th>\n",
       "      <th>Casing Length [m]</th>\n",
       "      <th>Crowd Depth [m]</th>\n",
       "      <th>Crowd-Force [t]</th>\n",
       "      <th>Depth [m]</th>\n",
       "      <th>Gear Mode Main Winch []</th>\n",
       "      <th>Inclination X [Grad]</th>\n",
       "      <th>Inclination Y [Grad]</th>\n",
       "      <th>Main Winch Rope Speed [cm/min]</th>\n",
       "      <th>Pressure Pump 1 [bar]</th>\n",
       "      <th>...</th>\n",
       "      <th>Pressure Pump 3 [bar]</th>\n",
       "      <th>Pressure Pump 4 [bar]</th>\n",
       "      <th>Rope Force Aux. Winch. [t]</th>\n",
       "      <th>Rope Force Main Winch [t]</th>\n",
       "      <th>Speed of Rotary Drive [U/min]</th>\n",
       "      <th>Status Rig [ ]</th>\n",
       "      <th>Torque Steps [K=1;M=2;G=3]</th>\n",
       "      <th>Torque [%]</th>\n",
       "      <th>Torque [kNm]</th>\n",
       "      <th>Unnamed: 0</th>\n",
       "    </tr>\n",
       "  </thead>\n",
       "  <tbody>\n",
       "    <tr>\n",
       "      <td>count</td>\n",
       "      <td>141928.0</td>\n",
       "      <td>141928.0</td>\n",
       "      <td>141928.000000</td>\n",
       "      <td>141928.000000</td>\n",
       "      <td>141928.000000</td>\n",
       "      <td>141928.000000</td>\n",
       "      <td>141928.000000</td>\n",
       "      <td>141928.000000</td>\n",
       "      <td>141928.000000</td>\n",
       "      <td>141928.000000</td>\n",
       "      <td>...</td>\n",
       "      <td>141928.000000</td>\n",
       "      <td>141928.000000</td>\n",
       "      <td>141928.000000</td>\n",
       "      <td>141928.000000</td>\n",
       "      <td>141928.000000</td>\n",
       "      <td>141928.0</td>\n",
       "      <td>141928.000000</td>\n",
       "      <td>141928.000000</td>\n",
       "      <td>141928.000000</td>\n",
       "      <td>13045.000000</td>\n",
       "    </tr>\n",
       "    <tr>\n",
       "      <td>mean</td>\n",
       "      <td>0.0</td>\n",
       "      <td>0.0</td>\n",
       "      <td>0.002262</td>\n",
       "      <td>-0.780979</td>\n",
       "      <td>-9.791942</td>\n",
       "      <td>1.341019</td>\n",
       "      <td>-0.090739</td>\n",
       "      <td>-0.011240</td>\n",
       "      <td>10.912068</td>\n",
       "      <td>88.042069</td>\n",
       "      <td>...</td>\n",
       "      <td>65.198431</td>\n",
       "      <td>32.987832</td>\n",
       "      <td>0.015678</td>\n",
       "      <td>13.411589</td>\n",
       "      <td>6.139934</td>\n",
       "      <td>0.0</td>\n",
       "      <td>2.806148</td>\n",
       "      <td>16.163083</td>\n",
       "      <td>64.012836</td>\n",
       "      <td>6522.000000</td>\n",
       "    </tr>\n",
       "    <tr>\n",
       "      <td>std</td>\n",
       "      <td>0.0</td>\n",
       "      <td>0.0</td>\n",
       "      <td>0.025207</td>\n",
       "      <td>8.440836</td>\n",
       "      <td>10.233691</td>\n",
       "      <td>0.820573</td>\n",
       "      <td>0.458383</td>\n",
       "      <td>0.642951</td>\n",
       "      <td>14.943762</td>\n",
       "      <td>116.531848</td>\n",
       "      <td>...</td>\n",
       "      <td>64.888265</td>\n",
       "      <td>49.687942</td>\n",
       "      <td>0.359609</td>\n",
       "      <td>4.221273</td>\n",
       "      <td>10.094807</td>\n",
       "      <td>0.0</td>\n",
       "      <td>0.567528</td>\n",
       "      <td>28.897182</td>\n",
       "      <td>109.038200</td>\n",
       "      <td>3765.911466</td>\n",
       "    </tr>\n",
       "    <tr>\n",
       "      <td>min</td>\n",
       "      <td>0.0</td>\n",
       "      <td>0.0</td>\n",
       "      <td>0.000000</td>\n",
       "      <td>-40.320000</td>\n",
       "      <td>-42.509998</td>\n",
       "      <td>0.000000</td>\n",
       "      <td>-3.720000</td>\n",
       "      <td>-3.900000</td>\n",
       "      <td>0.000000</td>\n",
       "      <td>0.800000</td>\n",
       "      <td>...</td>\n",
       "      <td>0.000000</td>\n",
       "      <td>0.200000</td>\n",
       "      <td>0.000000</td>\n",
       "      <td>0.560000</td>\n",
       "      <td>0.000000</td>\n",
       "      <td>0.0</td>\n",
       "      <td>1.000000</td>\n",
       "      <td>0.000000</td>\n",
       "      <td>0.000000</td>\n",
       "      <td>0.000000</td>\n",
       "    </tr>\n",
       "    <tr>\n",
       "      <td>25%</td>\n",
       "      <td>0.0</td>\n",
       "      <td>0.0</td>\n",
       "      <td>0.000000</td>\n",
       "      <td>-3.580000</td>\n",
       "      <td>-13.704000</td>\n",
       "      <td>1.000000</td>\n",
       "      <td>-0.060000</td>\n",
       "      <td>-0.080000</td>\n",
       "      <td>0.004000</td>\n",
       "      <td>2.000000</td>\n",
       "      <td>...</td>\n",
       "      <td>0.000000</td>\n",
       "      <td>1.600000</td>\n",
       "      <td>0.000000</td>\n",
       "      <td>11.980000</td>\n",
       "      <td>0.000000</td>\n",
       "      <td>0.0</td>\n",
       "      <td>3.000000</td>\n",
       "      <td>0.000000</td>\n",
       "      <td>0.000000</td>\n",
       "      <td>3261.000000</td>\n",
       "    </tr>\n",
       "    <tr>\n",
       "      <td>50%</td>\n",
       "      <td>0.0</td>\n",
       "      <td>0.0</td>\n",
       "      <td>0.000000</td>\n",
       "      <td>0.000000</td>\n",
       "      <td>-4.820000</td>\n",
       "      <td>2.000000</td>\n",
       "      <td>0.000000</td>\n",
       "      <td>0.000000</td>\n",
       "      <td>3.472000</td>\n",
       "      <td>15.000000</td>\n",
       "      <td>...</td>\n",
       "      <td>55.200000</td>\n",
       "      <td>10.600000</td>\n",
       "      <td>0.000000</td>\n",
       "      <td>14.780000</td>\n",
       "      <td>0.800000</td>\n",
       "      <td>0.0</td>\n",
       "      <td>3.000000</td>\n",
       "      <td>0.000000</td>\n",
       "      <td>4.800000</td>\n",
       "      <td>6522.000000</td>\n",
       "    </tr>\n",
       "    <tr>\n",
       "      <td>75%</td>\n",
       "      <td>0.0</td>\n",
       "      <td>0.0</td>\n",
       "      <td>0.000000</td>\n",
       "      <td>0.000000</td>\n",
       "      <td>-2.976000</td>\n",
       "      <td>2.000000</td>\n",
       "      <td>0.000000</td>\n",
       "      <td>0.000000</td>\n",
       "      <td>14.946000</td>\n",
       "      <td>142.400000</td>\n",
       "      <td>...</td>\n",
       "      <td>115.600000</td>\n",
       "      <td>41.000000</td>\n",
       "      <td>0.000000</td>\n",
       "      <td>16.600000</td>\n",
       "      <td>9.600000</td>\n",
       "      <td>0.0</td>\n",
       "      <td>3.000000</td>\n",
       "      <td>19.000000</td>\n",
       "      <td>76.000000</td>\n",
       "      <td>9783.000000</td>\n",
       "    </tr>\n",
       "    <tr>\n",
       "      <td>max</td>\n",
       "      <td>0.0</td>\n",
       "      <td>0.0</td>\n",
       "      <td>0.710000</td>\n",
       "      <td>33.660000</td>\n",
       "      <td>0.000000</td>\n",
       "      <td>2.000000</td>\n",
       "      <td>2.740000</td>\n",
       "      <td>6.440000</td>\n",
       "      <td>62.321999</td>\n",
       "      <td>355.400000</td>\n",
       "      <td>...</td>\n",
       "      <td>343.600000</td>\n",
       "      <td>304.800000</td>\n",
       "      <td>13.700000</td>\n",
       "      <td>41.099999</td>\n",
       "      <td>48.200000</td>\n",
       "      <td>0.0</td>\n",
       "      <td>3.000000</td>\n",
       "      <td>100.000000</td>\n",
       "      <td>390.000000</td>\n",
       "      <td>13044.000000</td>\n",
       "    </tr>\n",
       "  </tbody>\n",
       "</table>\n",
       "<p>8 rows × 21 columns</p>\n",
       "</div>"
      ],
      "text/plain": [
       "       Boring threshold [m]  Casing Length [m]  Crowd Depth [m]  \\\n",
       "count              141928.0           141928.0    141928.000000   \n",
       "mean                    0.0                0.0         0.002262   \n",
       "std                     0.0                0.0         0.025207   \n",
       "min                     0.0                0.0         0.000000   \n",
       "25%                     0.0                0.0         0.000000   \n",
       "50%                     0.0                0.0         0.000000   \n",
       "75%                     0.0                0.0         0.000000   \n",
       "max                     0.0                0.0         0.710000   \n",
       "\n",
       "       Crowd-Force [t]      Depth [m]  Gear Mode Main Winch []  \\\n",
       "count    141928.000000  141928.000000            141928.000000   \n",
       "mean         -0.780979      -9.791942                 1.341019   \n",
       "std           8.440836      10.233691                 0.820573   \n",
       "min         -40.320000     -42.509998                 0.000000   \n",
       "25%          -3.580000     -13.704000                 1.000000   \n",
       "50%           0.000000      -4.820000                 2.000000   \n",
       "75%           0.000000      -2.976000                 2.000000   \n",
       "max          33.660000       0.000000                 2.000000   \n",
       "\n",
       "       Inclination X [Grad]  Inclination Y [Grad]  \\\n",
       "count         141928.000000         141928.000000   \n",
       "mean              -0.090739             -0.011240   \n",
       "std                0.458383              0.642951   \n",
       "min               -3.720000             -3.900000   \n",
       "25%               -0.060000             -0.080000   \n",
       "50%                0.000000              0.000000   \n",
       "75%                0.000000              0.000000   \n",
       "max                2.740000              6.440000   \n",
       "\n",
       "       Main Winch Rope Speed [cm/min]  Pressure Pump 1 [bar]  ...  \\\n",
       "count                   141928.000000          141928.000000  ...   \n",
       "mean                        10.912068              88.042069  ...   \n",
       "std                         14.943762             116.531848  ...   \n",
       "min                          0.000000               0.800000  ...   \n",
       "25%                          0.004000               2.000000  ...   \n",
       "50%                          3.472000              15.000000  ...   \n",
       "75%                         14.946000             142.400000  ...   \n",
       "max                         62.321999             355.400000  ...   \n",
       "\n",
       "       Pressure Pump 3 [bar]  Pressure Pump 4 [bar]  \\\n",
       "count          141928.000000          141928.000000   \n",
       "mean               65.198431              32.987832   \n",
       "std                64.888265              49.687942   \n",
       "min                 0.000000               0.200000   \n",
       "25%                 0.000000               1.600000   \n",
       "50%                55.200000              10.600000   \n",
       "75%               115.600000              41.000000   \n",
       "max               343.600000             304.800000   \n",
       "\n",
       "       Rope Force Aux. Winch. [t]  Rope Force Main Winch [t]  \\\n",
       "count               141928.000000              141928.000000   \n",
       "mean                     0.015678                  13.411589   \n",
       "std                      0.359609                   4.221273   \n",
       "min                      0.000000                   0.560000   \n",
       "25%                      0.000000                  11.980000   \n",
       "50%                      0.000000                  14.780000   \n",
       "75%                      0.000000                  16.600000   \n",
       "max                     13.700000                  41.099999   \n",
       "\n",
       "       Speed of Rotary Drive [U/min]  Status Rig [ ]  \\\n",
       "count                  141928.000000        141928.0   \n",
       "mean                        6.139934             0.0   \n",
       "std                        10.094807             0.0   \n",
       "min                         0.000000             0.0   \n",
       "25%                         0.000000             0.0   \n",
       "50%                         0.800000             0.0   \n",
       "75%                         9.600000             0.0   \n",
       "max                        48.200000             0.0   \n",
       "\n",
       "       Torque Steps [K=1;M=2;G=3]     Torque [%]   Torque [kNm]    Unnamed: 0  \n",
       "count               141928.000000  141928.000000  141928.000000  13045.000000  \n",
       "mean                     2.806148      16.163083      64.012836   6522.000000  \n",
       "std                      0.567528      28.897182     109.038200   3765.911466  \n",
       "min                      1.000000       0.000000       0.000000      0.000000  \n",
       "25%                      3.000000       0.000000       0.000000   3261.000000  \n",
       "50%                      3.000000       0.000000       4.800000   6522.000000  \n",
       "75%                      3.000000      19.000000      76.000000   9783.000000  \n",
       "max                      3.000000     100.000000     390.000000  13044.000000  \n",
       "\n",
       "[8 rows x 21 columns]"
      ]
     },
     "execution_count": 39,
     "metadata": {},
     "output_type": "execute_result"
    }
   ],
   "source": [
    "df.describe()"
   ]
  },
  {
   "cell_type": "code",
   "execution_count": 40,
   "metadata": {},
   "outputs": [],
   "source": [
    "df.drop(['Unnamed: 0'], axis=1,inplace=True)"
   ]
  },
  {
   "cell_type": "code",
   "execution_count": 43,
   "metadata": {},
   "outputs": [
    {
     "data": {
      "text/html": [
       "<div>\n",
       "<style scoped>\n",
       "    .dataframe tbody tr th:only-of-type {\n",
       "        vertical-align: middle;\n",
       "    }\n",
       "\n",
       "    .dataframe tbody tr th {\n",
       "        vertical-align: top;\n",
       "    }\n",
       "\n",
       "    .dataframe thead th {\n",
       "        text-align: right;\n",
       "    }\n",
       "</style>\n",
       "<table border=\"1\" class=\"dataframe\">\n",
       "  <thead>\n",
       "    <tr style=\"text-align: right;\">\n",
       "      <th></th>\n",
       "      <th>Boring threshold [m]</th>\n",
       "      <th>Casing Length [m]</th>\n",
       "      <th>Crowd Depth [m]</th>\n",
       "      <th>Crowd-Force [t]</th>\n",
       "      <th>Depth [m]</th>\n",
       "      <th>Gear Mode Main Winch []</th>\n",
       "      <th>Inclination X [Grad]</th>\n",
       "      <th>Inclination Y [Grad]</th>\n",
       "      <th>Main Winch Rope Speed [cm/min]</th>\n",
       "      <th>Pressure Pump 1 [bar]</th>\n",
       "      <th>Pressure Pump 2 [bar]</th>\n",
       "      <th>Pressure Pump 3 [bar]</th>\n",
       "      <th>Pressure Pump 4 [bar]</th>\n",
       "      <th>Rope Force Aux. Winch. [t]</th>\n",
       "      <th>Rope Force Main Winch [t]</th>\n",
       "      <th>Speed of Rotary Drive [U/min]</th>\n",
       "      <th>Status Rig [ ]</th>\n",
       "      <th>Torque Steps [K=1;M=2;G=3]</th>\n",
       "      <th>Torque [%]</th>\n",
       "      <th>Torque [kNm]</th>\n",
       "    </tr>\n",
       "  </thead>\n",
       "  <tbody>\n",
       "    <tr>\n",
       "      <td>count</td>\n",
       "      <td>141928.0</td>\n",
       "      <td>141928.0</td>\n",
       "      <td>141928.000000</td>\n",
       "      <td>141928.000000</td>\n",
       "      <td>141928.000000</td>\n",
       "      <td>141928.000000</td>\n",
       "      <td>141928.000000</td>\n",
       "      <td>141928.000000</td>\n",
       "      <td>141928.000000</td>\n",
       "      <td>141928.000000</td>\n",
       "      <td>141928.000000</td>\n",
       "      <td>141928.000000</td>\n",
       "      <td>141928.000000</td>\n",
       "      <td>141928.000000</td>\n",
       "      <td>141928.000000</td>\n",
       "      <td>141928.000000</td>\n",
       "      <td>141928.0</td>\n",
       "      <td>141928.000000</td>\n",
       "      <td>141928.000000</td>\n",
       "      <td>141928.000000</td>\n",
       "    </tr>\n",
       "    <tr>\n",
       "      <td>mean</td>\n",
       "      <td>0.0</td>\n",
       "      <td>0.0</td>\n",
       "      <td>0.002262</td>\n",
       "      <td>-0.780979</td>\n",
       "      <td>-9.791942</td>\n",
       "      <td>1.341019</td>\n",
       "      <td>-0.090739</td>\n",
       "      <td>-0.011240</td>\n",
       "      <td>10.912068</td>\n",
       "      <td>88.042069</td>\n",
       "      <td>102.014303</td>\n",
       "      <td>65.198431</td>\n",
       "      <td>32.987832</td>\n",
       "      <td>0.015678</td>\n",
       "      <td>13.411589</td>\n",
       "      <td>6.139934</td>\n",
       "      <td>0.0</td>\n",
       "      <td>2.806148</td>\n",
       "      <td>16.163083</td>\n",
       "      <td>64.012836</td>\n",
       "    </tr>\n",
       "    <tr>\n",
       "      <td>std</td>\n",
       "      <td>0.0</td>\n",
       "      <td>0.0</td>\n",
       "      <td>0.025207</td>\n",
       "      <td>8.440836</td>\n",
       "      <td>10.233691</td>\n",
       "      <td>0.820573</td>\n",
       "      <td>0.458383</td>\n",
       "      <td>0.642951</td>\n",
       "      <td>14.943762</td>\n",
       "      <td>116.531848</td>\n",
       "      <td>114.757873</td>\n",
       "      <td>64.888265</td>\n",
       "      <td>49.687942</td>\n",
       "      <td>0.359609</td>\n",
       "      <td>4.221273</td>\n",
       "      <td>10.094807</td>\n",
       "      <td>0.0</td>\n",
       "      <td>0.567528</td>\n",
       "      <td>28.897182</td>\n",
       "      <td>109.038200</td>\n",
       "    </tr>\n",
       "    <tr>\n",
       "      <td>min</td>\n",
       "      <td>0.0</td>\n",
       "      <td>0.0</td>\n",
       "      <td>0.000000</td>\n",
       "      <td>-40.320000</td>\n",
       "      <td>-42.509998</td>\n",
       "      <td>0.000000</td>\n",
       "      <td>-3.720000</td>\n",
       "      <td>-3.900000</td>\n",
       "      <td>0.000000</td>\n",
       "      <td>0.800000</td>\n",
       "      <td>0.400000</td>\n",
       "      <td>0.000000</td>\n",
       "      <td>0.200000</td>\n",
       "      <td>0.000000</td>\n",
       "      <td>0.560000</td>\n",
       "      <td>0.000000</td>\n",
       "      <td>0.0</td>\n",
       "      <td>1.000000</td>\n",
       "      <td>0.000000</td>\n",
       "      <td>0.000000</td>\n",
       "    </tr>\n",
       "    <tr>\n",
       "      <td>25%</td>\n",
       "      <td>0.0</td>\n",
       "      <td>0.0</td>\n",
       "      <td>0.000000</td>\n",
       "      <td>-3.580000</td>\n",
       "      <td>-13.704000</td>\n",
       "      <td>1.000000</td>\n",
       "      <td>-0.060000</td>\n",
       "      <td>-0.080000</td>\n",
       "      <td>0.004000</td>\n",
       "      <td>2.000000</td>\n",
       "      <td>1.600000</td>\n",
       "      <td>0.000000</td>\n",
       "      <td>1.600000</td>\n",
       "      <td>0.000000</td>\n",
       "      <td>11.980000</td>\n",
       "      <td>0.000000</td>\n",
       "      <td>0.0</td>\n",
       "      <td>3.000000</td>\n",
       "      <td>0.000000</td>\n",
       "      <td>0.000000</td>\n",
       "    </tr>\n",
       "    <tr>\n",
       "      <td>50%</td>\n",
       "      <td>0.0</td>\n",
       "      <td>0.0</td>\n",
       "      <td>0.000000</td>\n",
       "      <td>0.000000</td>\n",
       "      <td>-4.820000</td>\n",
       "      <td>2.000000</td>\n",
       "      <td>0.000000</td>\n",
       "      <td>0.000000</td>\n",
       "      <td>3.472000</td>\n",
       "      <td>15.000000</td>\n",
       "      <td>60.000000</td>\n",
       "      <td>55.200000</td>\n",
       "      <td>10.600000</td>\n",
       "      <td>0.000000</td>\n",
       "      <td>14.780000</td>\n",
       "      <td>0.800000</td>\n",
       "      <td>0.0</td>\n",
       "      <td>3.000000</td>\n",
       "      <td>0.000000</td>\n",
       "      <td>4.800000</td>\n",
       "    </tr>\n",
       "    <tr>\n",
       "      <td>75%</td>\n",
       "      <td>0.0</td>\n",
       "      <td>0.0</td>\n",
       "      <td>0.000000</td>\n",
       "      <td>0.000000</td>\n",
       "      <td>-2.976000</td>\n",
       "      <td>2.000000</td>\n",
       "      <td>0.000000</td>\n",
       "      <td>0.000000</td>\n",
       "      <td>14.946000</td>\n",
       "      <td>142.400000</td>\n",
       "      <td>173.200000</td>\n",
       "      <td>115.600000</td>\n",
       "      <td>41.000000</td>\n",
       "      <td>0.000000</td>\n",
       "      <td>16.600000</td>\n",
       "      <td>9.600000</td>\n",
       "      <td>0.0</td>\n",
       "      <td>3.000000</td>\n",
       "      <td>19.000000</td>\n",
       "      <td>76.000000</td>\n",
       "    </tr>\n",
       "    <tr>\n",
       "      <td>max</td>\n",
       "      <td>0.0</td>\n",
       "      <td>0.0</td>\n",
       "      <td>0.710000</td>\n",
       "      <td>33.660000</td>\n",
       "      <td>0.000000</td>\n",
       "      <td>2.000000</td>\n",
       "      <td>2.740000</td>\n",
       "      <td>6.440000</td>\n",
       "      <td>62.321999</td>\n",
       "      <td>355.400000</td>\n",
       "      <td>361.200000</td>\n",
       "      <td>343.600000</td>\n",
       "      <td>304.800000</td>\n",
       "      <td>13.700000</td>\n",
       "      <td>41.099999</td>\n",
       "      <td>48.200000</td>\n",
       "      <td>0.0</td>\n",
       "      <td>3.000000</td>\n",
       "      <td>100.000000</td>\n",
       "      <td>390.000000</td>\n",
       "    </tr>\n",
       "  </tbody>\n",
       "</table>\n",
       "</div>"
      ],
      "text/plain": [
       "       Boring threshold [m]  Casing Length [m]  Crowd Depth [m]  \\\n",
       "count              141928.0           141928.0    141928.000000   \n",
       "mean                    0.0                0.0         0.002262   \n",
       "std                     0.0                0.0         0.025207   \n",
       "min                     0.0                0.0         0.000000   \n",
       "25%                     0.0                0.0         0.000000   \n",
       "50%                     0.0                0.0         0.000000   \n",
       "75%                     0.0                0.0         0.000000   \n",
       "max                     0.0                0.0         0.710000   \n",
       "\n",
       "       Crowd-Force [t]      Depth [m]  Gear Mode Main Winch []  \\\n",
       "count    141928.000000  141928.000000            141928.000000   \n",
       "mean         -0.780979      -9.791942                 1.341019   \n",
       "std           8.440836      10.233691                 0.820573   \n",
       "min         -40.320000     -42.509998                 0.000000   \n",
       "25%          -3.580000     -13.704000                 1.000000   \n",
       "50%           0.000000      -4.820000                 2.000000   \n",
       "75%           0.000000      -2.976000                 2.000000   \n",
       "max          33.660000       0.000000                 2.000000   \n",
       "\n",
       "       Inclination X [Grad]  Inclination Y [Grad]  \\\n",
       "count         141928.000000         141928.000000   \n",
       "mean              -0.090739             -0.011240   \n",
       "std                0.458383              0.642951   \n",
       "min               -3.720000             -3.900000   \n",
       "25%               -0.060000             -0.080000   \n",
       "50%                0.000000              0.000000   \n",
       "75%                0.000000              0.000000   \n",
       "max                2.740000              6.440000   \n",
       "\n",
       "       Main Winch Rope Speed [cm/min]  Pressure Pump 1 [bar]  \\\n",
       "count                   141928.000000          141928.000000   \n",
       "mean                        10.912068              88.042069   \n",
       "std                         14.943762             116.531848   \n",
       "min                          0.000000               0.800000   \n",
       "25%                          0.004000               2.000000   \n",
       "50%                          3.472000              15.000000   \n",
       "75%                         14.946000             142.400000   \n",
       "max                         62.321999             355.400000   \n",
       "\n",
       "       Pressure Pump 2 [bar]  Pressure Pump 3 [bar]  Pressure Pump 4 [bar]  \\\n",
       "count          141928.000000          141928.000000          141928.000000   \n",
       "mean              102.014303              65.198431              32.987832   \n",
       "std               114.757873              64.888265              49.687942   \n",
       "min                 0.400000               0.000000               0.200000   \n",
       "25%                 1.600000               0.000000               1.600000   \n",
       "50%                60.000000              55.200000              10.600000   \n",
       "75%               173.200000             115.600000              41.000000   \n",
       "max               361.200000             343.600000             304.800000   \n",
       "\n",
       "       Rope Force Aux. Winch. [t]  Rope Force Main Winch [t]  \\\n",
       "count               141928.000000              141928.000000   \n",
       "mean                     0.015678                  13.411589   \n",
       "std                      0.359609                   4.221273   \n",
       "min                      0.000000                   0.560000   \n",
       "25%                      0.000000                  11.980000   \n",
       "50%                      0.000000                  14.780000   \n",
       "75%                      0.000000                  16.600000   \n",
       "max                     13.700000                  41.099999   \n",
       "\n",
       "       Speed of Rotary Drive [U/min]  Status Rig [ ]  \\\n",
       "count                  141928.000000        141928.0   \n",
       "mean                        6.139934             0.0   \n",
       "std                        10.094807             0.0   \n",
       "min                         0.000000             0.0   \n",
       "25%                         0.000000             0.0   \n",
       "50%                         0.800000             0.0   \n",
       "75%                         9.600000             0.0   \n",
       "max                        48.200000             0.0   \n",
       "\n",
       "       Torque Steps [K=1;M=2;G=3]     Torque [%]   Torque [kNm]  \n",
       "count               141928.000000  141928.000000  141928.000000  \n",
       "mean                     2.806148      16.163083      64.012836  \n",
       "std                      0.567528      28.897182     109.038200  \n",
       "min                      1.000000       0.000000       0.000000  \n",
       "25%                      3.000000       0.000000       0.000000  \n",
       "50%                      3.000000       0.000000       4.800000  \n",
       "75%                      3.000000      19.000000      76.000000  \n",
       "max                      3.000000     100.000000     390.000000  "
      ]
     },
     "execution_count": 43,
     "metadata": {},
     "output_type": "execute_result"
    }
   ],
   "source": [
    "df.describe()"
   ]
  },
  {
   "cell_type": "code",
   "execution_count": 44,
   "metadata": {},
   "outputs": [],
   "source": [
    "import numpy as np\n",
    "import matplotlib.pyplot as plt"
   ]
  },
  {
   "cell_type": "code",
   "execution_count": null,
   "metadata": {},
   "outputs": [],
   "source": [
    "df.hist(figsize=(20,15))"
   ]
  },
  {
   "cell_type": "code",
   "execution_count": null,
   "metadata": {},
   "outputs": [],
   "source": []
  },
  {
   "cell_type": "code",
   "execution_count": null,
   "metadata": {},
   "outputs": [],
   "source": []
  },
  {
   "cell_type": "code",
   "execution_count": null,
   "metadata": {},
   "outputs": [],
   "source": []
  },
  {
   "cell_type": "code",
   "execution_count": null,
   "metadata": {},
   "outputs": [],
   "source": []
  },
  {
   "cell_type": "code",
   "execution_count": null,
   "metadata": {},
   "outputs": [],
   "source": []
  },
  {
   "cell_type": "markdown",
   "metadata": {},
   "source": [
    "## Visualisierung der Eigenschaftsveränderung pro Prozess -->"
   ]
  },
  {
   "cell_type": "markdown",
   "metadata": {},
   "source": [
    "## Leeren"
   ]
  },
  {
   "cell_type": "code",
   "execution_count": null,
   "metadata": {},
   "outputs": [],
   "source": [
    "from matplotlib.dates import AutoDateLocator, DateFormatter\n",
    "from pandas import DataFrame,Series\n"
   ]
  },
  {
   "cell_type": "code",
   "execution_count": null,
   "metadata": {},
   "outputs": [],
   "source": [
    "df_leeren = df.loc[df['activity from avtivitydaten']=='Nebenprozesszeit - Leeren']\n",
    "df_leeren.reset_index(drop=True, inplace=True)"
   ]
  },
  {
   "cell_type": "code",
   "execution_count": null,
   "metadata": {},
   "outputs": [],
   "source": [
    "df_leeren.describe()"
   ]
  },
  {
   "cell_type": "code",
   "execution_count": null,
   "metadata": {},
   "outputs": [],
   "source": [
    "plt.figure(figsize=(30,25))  \n",
    "df_leeren.boxplot(whis=3.0)\n",
    "plt.xticks(rotation=45) "
   ]
  },
  {
   "cell_type": "markdown",
   "metadata": {},
   "source": [
    "下四分位数是Q1 0.25 上四分位数是Q3 0.75"
   ]
  },
  {
   "cell_type": "code",
   "execution_count": null,
   "metadata": {},
   "outputs": [],
   "source": [
    "x= df_leeren.time   #以时间作为坐标\n",
    "y = df_leeren['Pressure Pump 1 [bar]']\n",
    "\n",
    "ax.xaxis.set_major_formatter(DateFormatter('%Y-%m-%d %H:%M:%S'))  \n",
    "\n",
    "plt.figure(figsize=(20,15))\n",
    "plt.plot_date(x, y, fmt='b.')\n",
    "plt.xticks(rotation=45)"
   ]
  },
  {
   "cell_type": "code",
   "execution_count": null,
   "metadata": {},
   "outputs": [],
   "source": [
    "x= df_leeren.time\n",
    "y = df_leeren['Depth [m]']\n",
    "\n",
    "ax.xaxis.set_major_formatter(DateFormatter('%Y-%m-%d %H:%M:%S'))  \n",
    "\n",
    "plt.figure(figsize=(20,15))\n",
    "plt.plot_date(x, y, fmt='b.')\n",
    "plt.xticks(rotation=45)"
   ]
  },
  {
   "cell_type": "markdown",
   "metadata": {},
   "source": [
    "# Anomale Daten zu finden am Beispiel Leeren. find outliers  用BOX来画图吧\n",
    "\n",
    "\n",
    "Box-Whisker-Plot  Kastengrafik Methode\n",
    "Box Verfahren kann die selbst definerten anomalen Daten finden und filtern, aber bei unserer Daten müssen wir zuerst überlegen, welche Eigenschaften wichtig für Zustand sind. Wenn die anomale Daten für alle Eigenschaften gefiltert wird, dann wird es viele Daten weggelassen, das ist nicht gewünscht. Z.b hier fast 10000 Daten für Leeren werden weggelassen. "
   ]
  },
  {
   "cell_type": "markdown",
   "metadata": {},
   "source": [
    "## Box Verfahren"
   ]
  },
  {
   "cell_type": "code",
   "execution_count": 86,
   "metadata": {},
   "outputs": [
    {
     "data": {
      "text/html": [
       "<div>\n",
       "<style scoped>\n",
       "    .dataframe tbody tr th:only-of-type {\n",
       "        vertical-align: middle;\n",
       "    }\n",
       "\n",
       "    .dataframe tbody tr th {\n",
       "        vertical-align: top;\n",
       "    }\n",
       "\n",
       "    .dataframe thead th {\n",
       "        text-align: right;\n",
       "    }\n",
       "</style>\n",
       "<table border=\"1\" class=\"dataframe\">\n",
       "  <thead>\n",
       "    <tr style=\"text-align: right;\">\n",
       "      <th></th>\n",
       "      <th>Boring threshold [m]</th>\n",
       "      <th>Casing Length [m]</th>\n",
       "      <th>Crowd Depth [m]</th>\n",
       "      <th>Crowd-Force [t]</th>\n",
       "      <th>Depth [m]</th>\n",
       "      <th>Gear Mode Main Winch []</th>\n",
       "      <th>Inclination X [Grad]</th>\n",
       "      <th>Inclination Y [Grad]</th>\n",
       "      <th>Main Winch Rope Speed [cm/min]</th>\n",
       "      <th>Pressure Pump 1 [bar]</th>\n",
       "      <th>...</th>\n",
       "      <th>principal_feature1</th>\n",
       "      <th>principal_feature2</th>\n",
       "      <th>principal_feature3</th>\n",
       "      <th>principal_feature4</th>\n",
       "      <th>principal_feature5</th>\n",
       "      <th>principal_feature6</th>\n",
       "      <th>principal_feature7</th>\n",
       "      <th>principal_feature8</th>\n",
       "      <th>cluster</th>\n",
       "      <th>anomaly1</th>\n",
       "    </tr>\n",
       "  </thead>\n",
       "  <tbody>\n",
       "    <tr>\n",
       "      <td>count</td>\n",
       "      <td>27944.0</td>\n",
       "      <td>27944.0</td>\n",
       "      <td>27944.000000</td>\n",
       "      <td>27944.000000</td>\n",
       "      <td>27944.000000</td>\n",
       "      <td>27944.000000</td>\n",
       "      <td>27944.000000</td>\n",
       "      <td>27944.000000</td>\n",
       "      <td>27944.000000</td>\n",
       "      <td>27944.000000</td>\n",
       "      <td>...</td>\n",
       "      <td>2.794400e+04</td>\n",
       "      <td>2.794400e+04</td>\n",
       "      <td>2.794400e+04</td>\n",
       "      <td>2.794400e+04</td>\n",
       "      <td>2.794400e+04</td>\n",
       "      <td>2.794400e+04</td>\n",
       "      <td>2.794400e+04</td>\n",
       "      <td>2.794400e+04</td>\n",
       "      <td>27944.000000</td>\n",
       "      <td>27944.000000</td>\n",
       "    </tr>\n",
       "    <tr>\n",
       "      <td>mean</td>\n",
       "      <td>0.0</td>\n",
       "      <td>0.0</td>\n",
       "      <td>0.001062</td>\n",
       "      <td>3.491722</td>\n",
       "      <td>-2.447470</td>\n",
       "      <td>1.461788</td>\n",
       "      <td>-0.239296</td>\n",
       "      <td>-0.286089</td>\n",
       "      <td>14.052940</td>\n",
       "      <td>21.060135</td>\n",
       "      <td>...</td>\n",
       "      <td>-1.442607e-16</td>\n",
       "      <td>-9.324300e-17</td>\n",
       "      <td>9.812585e-17</td>\n",
       "      <td>3.832780e-17</td>\n",
       "      <td>3.258638e-16</td>\n",
       "      <td>-1.381740e-16</td>\n",
       "      <td>1.164097e-17</td>\n",
       "      <td>5.157557e-16</td>\n",
       "      <td>4.717184</td>\n",
       "      <td>0.199971</td>\n",
       "    </tr>\n",
       "    <tr>\n",
       "      <td>std</td>\n",
       "      <td>0.0</td>\n",
       "      <td>0.0</td>\n",
       "      <td>0.022074</td>\n",
       "      <td>13.249462</td>\n",
       "      <td>2.910600</td>\n",
       "      <td>0.881487</td>\n",
       "      <td>0.686355</td>\n",
       "      <td>0.589579</td>\n",
       "      <td>11.994610</td>\n",
       "      <td>29.716705</td>\n",
       "      <td>...</td>\n",
       "      <td>1.000018e+00</td>\n",
       "      <td>1.000018e+00</td>\n",
       "      <td>1.000018e+00</td>\n",
       "      <td>1.000018e+00</td>\n",
       "      <td>1.000018e+00</td>\n",
       "      <td>1.000018e+00</td>\n",
       "      <td>1.000018e+00</td>\n",
       "      <td>1.000018e+00</td>\n",
       "      <td>3.399204</td>\n",
       "      <td>0.399986</td>\n",
       "    </tr>\n",
       "    <tr>\n",
       "      <td>min</td>\n",
       "      <td>0.0</td>\n",
       "      <td>0.0</td>\n",
       "      <td>0.000000</td>\n",
       "      <td>-37.200000</td>\n",
       "      <td>-37.853999</td>\n",
       "      <td>0.000000</td>\n",
       "      <td>-3.580000</td>\n",
       "      <td>-3.900000</td>\n",
       "      <td>0.000000</td>\n",
       "      <td>1.000000</td>\n",
       "      <td>...</td>\n",
       "      <td>-2.633798e+00</td>\n",
       "      <td>-1.930006e+00</td>\n",
       "      <td>-6.520335e+00</td>\n",
       "      <td>-7.052979e+00</td>\n",
       "      <td>-3.736810e+00</td>\n",
       "      <td>-3.734091e+00</td>\n",
       "      <td>-2.998086e+00</td>\n",
       "      <td>-6.851783e+00</td>\n",
       "      <td>0.000000</td>\n",
       "      <td>0.000000</td>\n",
       "    </tr>\n",
       "    <tr>\n",
       "      <td>25%</td>\n",
       "      <td>0.0</td>\n",
       "      <td>0.0</td>\n",
       "      <td>0.000000</td>\n",
       "      <td>0.000000</td>\n",
       "      <td>-3.632000</td>\n",
       "      <td>0.000000</td>\n",
       "      <td>-0.760000</td>\n",
       "      <td>-0.580000</td>\n",
       "      <td>4.622000</td>\n",
       "      <td>3.000000</td>\n",
       "      <td>...</td>\n",
       "      <td>-6.753282e-01</td>\n",
       "      <td>-8.543742e-01</td>\n",
       "      <td>-4.935932e-01</td>\n",
       "      <td>-3.297105e-01</td>\n",
       "      <td>-5.407033e-01</td>\n",
       "      <td>-5.461598e-01</td>\n",
       "      <td>-2.924338e-01</td>\n",
       "      <td>-6.346370e-01</td>\n",
       "      <td>2.000000</td>\n",
       "      <td>0.000000</td>\n",
       "    </tr>\n",
       "    <tr>\n",
       "      <td>50%</td>\n",
       "      <td>0.0</td>\n",
       "      <td>0.0</td>\n",
       "      <td>0.000000</td>\n",
       "      <td>0.000000</td>\n",
       "      <td>-1.804000</td>\n",
       "      <td>2.000000</td>\n",
       "      <td>-0.120000</td>\n",
       "      <td>-0.100000</td>\n",
       "      <td>12.190000</td>\n",
       "      <td>7.600000</td>\n",
       "      <td>...</td>\n",
       "      <td>6.732364e-02</td>\n",
       "      <td>-1.608696e-01</td>\n",
       "      <td>5.907580e-02</td>\n",
       "      <td>7.151365e-02</td>\n",
       "      <td>-9.262951e-02</td>\n",
       "      <td>4.756335e-02</td>\n",
       "      <td>7.632894e-02</td>\n",
       "      <td>-8.915018e-02</td>\n",
       "      <td>3.000000</td>\n",
       "      <td>0.000000</td>\n",
       "    </tr>\n",
       "    <tr>\n",
       "      <td>75%</td>\n",
       "      <td>0.0</td>\n",
       "      <td>0.0</td>\n",
       "      <td>0.000000</td>\n",
       "      <td>12.700000</td>\n",
       "      <td>-0.570000</td>\n",
       "      <td>2.000000</td>\n",
       "      <td>0.180000</td>\n",
       "      <td>0.040000</td>\n",
       "      <td>21.114500</td>\n",
       "      <td>27.000000</td>\n",
       "      <td>...</td>\n",
       "      <td>7.021969e-01</td>\n",
       "      <td>6.920616e-01</td>\n",
       "      <td>6.214577e-01</td>\n",
       "      <td>4.057316e-01</td>\n",
       "      <td>4.368566e-01</td>\n",
       "      <td>5.806762e-01</td>\n",
       "      <td>2.627079e-01</td>\n",
       "      <td>5.420426e-01</td>\n",
       "      <td>9.000000</td>\n",
       "      <td>0.000000</td>\n",
       "    </tr>\n",
       "    <tr>\n",
       "      <td>max</td>\n",
       "      <td>0.0</td>\n",
       "      <td>0.0</td>\n",
       "      <td>0.710000</td>\n",
       "      <td>31.400000</td>\n",
       "      <td>0.000000</td>\n",
       "      <td>2.000000</td>\n",
       "      <td>2.280000</td>\n",
       "      <td>3.900000</td>\n",
       "      <td>62.036001</td>\n",
       "      <td>267.600000</td>\n",
       "      <td>...</td>\n",
       "      <td>3.698615e+00</td>\n",
       "      <td>4.330693e+00</td>\n",
       "      <td>8.614479e+00</td>\n",
       "      <td>2.251070e+01</td>\n",
       "      <td>2.392190e+01</td>\n",
       "      <td>1.966705e+01</td>\n",
       "      <td>6.037024e+01</td>\n",
       "      <td>1.411331e+01</td>\n",
       "      <td>9.000000</td>\n",
       "      <td>1.000000</td>\n",
       "    </tr>\n",
       "  </tbody>\n",
       "</table>\n",
       "<p>8 rows × 30 columns</p>\n",
       "</div>"
      ],
      "text/plain": [
       "       Boring threshold [m]  Casing Length [m]  Crowd Depth [m]  \\\n",
       "count               27944.0            27944.0     27944.000000   \n",
       "mean                    0.0                0.0         0.001062   \n",
       "std                     0.0                0.0         0.022074   \n",
       "min                     0.0                0.0         0.000000   \n",
       "25%                     0.0                0.0         0.000000   \n",
       "50%                     0.0                0.0         0.000000   \n",
       "75%                     0.0                0.0         0.000000   \n",
       "max                     0.0                0.0         0.710000   \n",
       "\n",
       "       Crowd-Force [t]     Depth [m]  Gear Mode Main Winch []  \\\n",
       "count     27944.000000  27944.000000             27944.000000   \n",
       "mean          3.491722     -2.447470                 1.461788   \n",
       "std          13.249462      2.910600                 0.881487   \n",
       "min         -37.200000    -37.853999                 0.000000   \n",
       "25%           0.000000     -3.632000                 0.000000   \n",
       "50%           0.000000     -1.804000                 2.000000   \n",
       "75%          12.700000     -0.570000                 2.000000   \n",
       "max          31.400000      0.000000                 2.000000   \n",
       "\n",
       "       Inclination X [Grad]  Inclination Y [Grad]  \\\n",
       "count          27944.000000          27944.000000   \n",
       "mean              -0.239296             -0.286089   \n",
       "std                0.686355              0.589579   \n",
       "min               -3.580000             -3.900000   \n",
       "25%               -0.760000             -0.580000   \n",
       "50%               -0.120000             -0.100000   \n",
       "75%                0.180000              0.040000   \n",
       "max                2.280000              3.900000   \n",
       "\n",
       "       Main Winch Rope Speed [cm/min]  Pressure Pump 1 [bar]  ...  \\\n",
       "count                    27944.000000           27944.000000  ...   \n",
       "mean                        14.052940              21.060135  ...   \n",
       "std                         11.994610              29.716705  ...   \n",
       "min                          0.000000               1.000000  ...   \n",
       "25%                          4.622000               3.000000  ...   \n",
       "50%                         12.190000               7.600000  ...   \n",
       "75%                         21.114500              27.000000  ...   \n",
       "max                         62.036001             267.600000  ...   \n",
       "\n",
       "       principal_feature1  principal_feature2  principal_feature3  \\\n",
       "count        2.794400e+04        2.794400e+04        2.794400e+04   \n",
       "mean        -1.442607e-16       -9.324300e-17        9.812585e-17   \n",
       "std          1.000018e+00        1.000018e+00        1.000018e+00   \n",
       "min         -2.633798e+00       -1.930006e+00       -6.520335e+00   \n",
       "25%         -6.753282e-01       -8.543742e-01       -4.935932e-01   \n",
       "50%          6.732364e-02       -1.608696e-01        5.907580e-02   \n",
       "75%          7.021969e-01        6.920616e-01        6.214577e-01   \n",
       "max          3.698615e+00        4.330693e+00        8.614479e+00   \n",
       "\n",
       "       principal_feature4  principal_feature5  principal_feature6  \\\n",
       "count        2.794400e+04        2.794400e+04        2.794400e+04   \n",
       "mean         3.832780e-17        3.258638e-16       -1.381740e-16   \n",
       "std          1.000018e+00        1.000018e+00        1.000018e+00   \n",
       "min         -7.052979e+00       -3.736810e+00       -3.734091e+00   \n",
       "25%         -3.297105e-01       -5.407033e-01       -5.461598e-01   \n",
       "50%          7.151365e-02       -9.262951e-02        4.756335e-02   \n",
       "75%          4.057316e-01        4.368566e-01        5.806762e-01   \n",
       "max          2.251070e+01        2.392190e+01        1.966705e+01   \n",
       "\n",
       "       principal_feature7  principal_feature8       cluster      anomaly1  \n",
       "count        2.794400e+04        2.794400e+04  27944.000000  27944.000000  \n",
       "mean         1.164097e-17        5.157557e-16      4.717184      0.199971  \n",
       "std          1.000018e+00        1.000018e+00      3.399204      0.399986  \n",
       "min         -2.998086e+00       -6.851783e+00      0.000000      0.000000  \n",
       "25%         -2.924338e-01       -6.346370e-01      2.000000      0.000000  \n",
       "50%          7.632894e-02       -8.915018e-02      3.000000      0.000000  \n",
       "75%          2.627079e-01        5.420426e-01      9.000000      0.000000  \n",
       "max          6.037024e+01        1.411331e+01      9.000000      1.000000  \n",
       "\n",
       "[8 rows x 30 columns]"
      ]
     },
     "execution_count": 86,
     "metadata": {},
     "output_type": "execute_result"
    }
   ],
   "source": [
    "df_leeren.describe()"
   ]
  },
  {
   "cell_type": "markdown",
   "metadata": {},
   "source": [
    "### Box Verfahren für Depth [m]"
   ]
  },
  {
   "cell_type": "code",
   "execution_count": 87,
   "metadata": {},
   "outputs": [
    {
     "data": {
      "text/plain": [
       "-12.818000090122222"
      ]
     },
     "execution_count": 87,
     "metadata": {},
     "output_type": "execute_result"
    }
   ],
   "source": [
    "# Calculate first and third quartile\n",
    "first_quartile = df_leeren['Depth [m]'].describe()['25%']\n",
    "third_quartile = df_leeren['Depth [m]'].describe()['75%']\n",
    "\n",
    "iqr = third_quartile - first_quartile\n",
    "first_quartile - 3.0 * iqr"
   ]
  },
  {
   "cell_type": "code",
   "execution_count": 88,
   "metadata": {},
   "outputs": [
    {
     "data": {
      "text/plain": [
       "8.616000080108641"
      ]
     },
     "execution_count": 88,
     "metadata": {},
     "output_type": "execute_result"
    }
   ],
   "source": [
    "third_quartile + 3.0 * iqr"
   ]
  },
  {
   "cell_type": "code",
   "execution_count": 89,
   "metadata": {},
   "outputs": [
    {
     "data": {
      "text/html": [
       "<div>\n",
       "<style scoped>\n",
       "    .dataframe tbody tr th:only-of-type {\n",
       "        vertical-align: middle;\n",
       "    }\n",
       "\n",
       "    .dataframe tbody tr th {\n",
       "        vertical-align: top;\n",
       "    }\n",
       "\n",
       "    .dataframe thead th {\n",
       "        text-align: right;\n",
       "    }\n",
       "</style>\n",
       "<table border=\"1\" class=\"dataframe\">\n",
       "  <thead>\n",
       "    <tr style=\"text-align: right;\">\n",
       "      <th></th>\n",
       "      <th>Boring threshold [m]</th>\n",
       "      <th>Casing Length [m]</th>\n",
       "      <th>Crowd Depth [m]</th>\n",
       "      <th>Crowd-Force [t]</th>\n",
       "      <th>Depth [m]</th>\n",
       "      <th>Gear Mode Main Winch []</th>\n",
       "      <th>Inclination X [Grad]</th>\n",
       "      <th>Inclination Y [Grad]</th>\n",
       "      <th>Main Winch Rope Speed [cm/min]</th>\n",
       "      <th>Pressure Pump 1 [bar]</th>\n",
       "      <th>...</th>\n",
       "      <th>principal_feature1</th>\n",
       "      <th>principal_feature2</th>\n",
       "      <th>principal_feature3</th>\n",
       "      <th>principal_feature4</th>\n",
       "      <th>principal_feature5</th>\n",
       "      <th>principal_feature6</th>\n",
       "      <th>principal_feature7</th>\n",
       "      <th>principal_feature8</th>\n",
       "      <th>cluster</th>\n",
       "      <th>anomaly1</th>\n",
       "    </tr>\n",
       "  </thead>\n",
       "  <tbody>\n",
       "    <tr>\n",
       "      <td>count</td>\n",
       "      <td>274.0</td>\n",
       "      <td>274.0</td>\n",
       "      <td>274.0</td>\n",
       "      <td>274.000000</td>\n",
       "      <td>274.000000</td>\n",
       "      <td>274.000000</td>\n",
       "      <td>274.000000</td>\n",
       "      <td>274.000000</td>\n",
       "      <td>274.000000</td>\n",
       "      <td>274.000000</td>\n",
       "      <td>...</td>\n",
       "      <td>274.000000</td>\n",
       "      <td>274.000000</td>\n",
       "      <td>274.000000</td>\n",
       "      <td>274.000000</td>\n",
       "      <td>274.000000</td>\n",
       "      <td>274.000000</td>\n",
       "      <td>274.000000</td>\n",
       "      <td>274.000000</td>\n",
       "      <td>274.000000</td>\n",
       "      <td>274.000000</td>\n",
       "    </tr>\n",
       "    <tr>\n",
       "      <td>mean</td>\n",
       "      <td>0.0</td>\n",
       "      <td>0.0</td>\n",
       "      <td>0.0</td>\n",
       "      <td>0.573869</td>\n",
       "      <td>-22.883854</td>\n",
       "      <td>1.576642</td>\n",
       "      <td>-0.007664</td>\n",
       "      <td>0.035036</td>\n",
       "      <td>23.249672</td>\n",
       "      <td>3.844526</td>\n",
       "      <td>...</td>\n",
       "      <td>0.535165</td>\n",
       "      <td>-1.034188</td>\n",
       "      <td>-4.471994</td>\n",
       "      <td>-0.489779</td>\n",
       "      <td>-0.014475</td>\n",
       "      <td>-0.562493</td>\n",
       "      <td>0.962291</td>\n",
       "      <td>1.851656</td>\n",
       "      <td>6.996350</td>\n",
       "      <td>0.777372</td>\n",
       "    </tr>\n",
       "    <tr>\n",
       "      <td>std</td>\n",
       "      <td>0.0</td>\n",
       "      <td>0.0</td>\n",
       "      <td>0.0</td>\n",
       "      <td>2.928910</td>\n",
       "      <td>6.686299</td>\n",
       "      <td>0.483010</td>\n",
       "      <td>0.023558</td>\n",
       "      <td>0.056764</td>\n",
       "      <td>12.572857</td>\n",
       "      <td>10.865164</td>\n",
       "      <td>...</td>\n",
       "      <td>0.493118</td>\n",
       "      <td>0.516053</td>\n",
       "      <td>1.023446</td>\n",
       "      <td>0.303431</td>\n",
       "      <td>0.436167</td>\n",
       "      <td>0.581203</td>\n",
       "      <td>0.395712</td>\n",
       "      <td>0.701457</td>\n",
       "      <td>0.060412</td>\n",
       "      <td>0.416772</td>\n",
       "    </tr>\n",
       "    <tr>\n",
       "      <td>min</td>\n",
       "      <td>0.0</td>\n",
       "      <td>0.0</td>\n",
       "      <td>0.0</td>\n",
       "      <td>0.000000</td>\n",
       "      <td>-37.853999</td>\n",
       "      <td>1.000000</td>\n",
       "      <td>-0.100000</td>\n",
       "      <td>-0.120000</td>\n",
       "      <td>0.000000</td>\n",
       "      <td>1.600000</td>\n",
       "      <td>...</td>\n",
       "      <td>-0.079841</td>\n",
       "      <td>-1.295230</td>\n",
       "      <td>-6.418457</td>\n",
       "      <td>-1.379997</td>\n",
       "      <td>-2.355214</td>\n",
       "      <td>-2.091613</td>\n",
       "      <td>-0.446358</td>\n",
       "      <td>0.620814</td>\n",
       "      <td>6.000000</td>\n",
       "      <td>0.000000</td>\n",
       "    </tr>\n",
       "    <tr>\n",
       "      <td>25%</td>\n",
       "      <td>0.0</td>\n",
       "      <td>0.0</td>\n",
       "      <td>0.0</td>\n",
       "      <td>0.000000</td>\n",
       "      <td>-27.626000</td>\n",
       "      <td>1.000000</td>\n",
       "      <td>0.000000</td>\n",
       "      <td>0.000000</td>\n",
       "      <td>14.851000</td>\n",
       "      <td>1.800000</td>\n",
       "      <td>...</td>\n",
       "      <td>0.094720</td>\n",
       "      <td>-1.181735</td>\n",
       "      <td>-5.277373</td>\n",
       "      <td>-0.662439</td>\n",
       "      <td>-0.240559</td>\n",
       "      <td>-0.904754</td>\n",
       "      <td>0.727548</td>\n",
       "      <td>1.256341</td>\n",
       "      <td>7.000000</td>\n",
       "      <td>1.000000</td>\n",
       "    </tr>\n",
       "    <tr>\n",
       "      <td>50%</td>\n",
       "      <td>0.0</td>\n",
       "      <td>0.0</td>\n",
       "      <td>0.0</td>\n",
       "      <td>0.000000</td>\n",
       "      <td>-22.238000</td>\n",
       "      <td>2.000000</td>\n",
       "      <td>0.000000</td>\n",
       "      <td>0.020000</td>\n",
       "      <td>16.632000</td>\n",
       "      <td>2.000000</td>\n",
       "      <td>...</td>\n",
       "      <td>0.623321</td>\n",
       "      <td>-1.137904</td>\n",
       "      <td>-4.442650</td>\n",
       "      <td>-0.508410</td>\n",
       "      <td>0.078821</td>\n",
       "      <td>-0.625494</td>\n",
       "      <td>0.900265</td>\n",
       "      <td>1.841870</td>\n",
       "      <td>7.000000</td>\n",
       "      <td>1.000000</td>\n",
       "    </tr>\n",
       "    <tr>\n",
       "      <td>75%</td>\n",
       "      <td>0.0</td>\n",
       "      <td>0.0</td>\n",
       "      <td>0.0</td>\n",
       "      <td>0.000000</td>\n",
       "      <td>-17.618500</td>\n",
       "      <td>2.000000</td>\n",
       "      <td>0.000000</td>\n",
       "      <td>0.100000</td>\n",
       "      <td>29.493000</td>\n",
       "      <td>2.000000</td>\n",
       "      <td>...</td>\n",
       "      <td>0.795461</td>\n",
       "      <td>-1.075761</td>\n",
       "      <td>-3.864510</td>\n",
       "      <td>-0.301645</td>\n",
       "      <td>0.245476</td>\n",
       "      <td>-0.086614</td>\n",
       "      <td>1.088942</td>\n",
       "      <td>2.429583</td>\n",
       "      <td>7.000000</td>\n",
       "      <td>1.000000</td>\n",
       "    </tr>\n",
       "    <tr>\n",
       "      <td>max</td>\n",
       "      <td>0.0</td>\n",
       "      <td>0.0</td>\n",
       "      <td>0.0</td>\n",
       "      <td>24.400000</td>\n",
       "      <td>-12.820000</td>\n",
       "      <td>2.000000</td>\n",
       "      <td>0.000000</td>\n",
       "      <td>0.100000</td>\n",
       "      <td>60.684000</td>\n",
       "      <td>78.000000</td>\n",
       "      <td>...</td>\n",
       "      <td>2.969844</td>\n",
       "      <td>2.343460</td>\n",
       "      <td>-1.291926</td>\n",
       "      <td>0.333641</td>\n",
       "      <td>1.965972</td>\n",
       "      <td>1.260027</td>\n",
       "      <td>2.894399</td>\n",
       "      <td>3.259681</td>\n",
       "      <td>7.000000</td>\n",
       "      <td>1.000000</td>\n",
       "    </tr>\n",
       "  </tbody>\n",
       "</table>\n",
       "<p>8 rows × 30 columns</p>\n",
       "</div>"
      ],
      "text/plain": [
       "       Boring threshold [m]  Casing Length [m]  Crowd Depth [m]  \\\n",
       "count                 274.0              274.0            274.0   \n",
       "mean                    0.0                0.0              0.0   \n",
       "std                     0.0                0.0              0.0   \n",
       "min                     0.0                0.0              0.0   \n",
       "25%                     0.0                0.0              0.0   \n",
       "50%                     0.0                0.0              0.0   \n",
       "75%                     0.0                0.0              0.0   \n",
       "max                     0.0                0.0              0.0   \n",
       "\n",
       "       Crowd-Force [t]   Depth [m]  Gear Mode Main Winch []  \\\n",
       "count       274.000000  274.000000               274.000000   \n",
       "mean          0.573869  -22.883854                 1.576642   \n",
       "std           2.928910    6.686299                 0.483010   \n",
       "min           0.000000  -37.853999                 1.000000   \n",
       "25%           0.000000  -27.626000                 1.000000   \n",
       "50%           0.000000  -22.238000                 2.000000   \n",
       "75%           0.000000  -17.618500                 2.000000   \n",
       "max          24.400000  -12.820000                 2.000000   \n",
       "\n",
       "       Inclination X [Grad]  Inclination Y [Grad]  \\\n",
       "count            274.000000            274.000000   \n",
       "mean              -0.007664              0.035036   \n",
       "std                0.023558              0.056764   \n",
       "min               -0.100000             -0.120000   \n",
       "25%                0.000000              0.000000   \n",
       "50%                0.000000              0.020000   \n",
       "75%                0.000000              0.100000   \n",
       "max                0.000000              0.100000   \n",
       "\n",
       "       Main Winch Rope Speed [cm/min]  Pressure Pump 1 [bar]  ...  \\\n",
       "count                      274.000000             274.000000  ...   \n",
       "mean                        23.249672               3.844526  ...   \n",
       "std                         12.572857              10.865164  ...   \n",
       "min                          0.000000               1.600000  ...   \n",
       "25%                         14.851000               1.800000  ...   \n",
       "50%                         16.632000               2.000000  ...   \n",
       "75%                         29.493000               2.000000  ...   \n",
       "max                         60.684000              78.000000  ...   \n",
       "\n",
       "       principal_feature1  principal_feature2  principal_feature3  \\\n",
       "count          274.000000          274.000000          274.000000   \n",
       "mean             0.535165           -1.034188           -4.471994   \n",
       "std              0.493118            0.516053            1.023446   \n",
       "min             -0.079841           -1.295230           -6.418457   \n",
       "25%              0.094720           -1.181735           -5.277373   \n",
       "50%              0.623321           -1.137904           -4.442650   \n",
       "75%              0.795461           -1.075761           -3.864510   \n",
       "max              2.969844            2.343460           -1.291926   \n",
       "\n",
       "       principal_feature4  principal_feature5  principal_feature6  \\\n",
       "count          274.000000          274.000000          274.000000   \n",
       "mean            -0.489779           -0.014475           -0.562493   \n",
       "std              0.303431            0.436167            0.581203   \n",
       "min             -1.379997           -2.355214           -2.091613   \n",
       "25%             -0.662439           -0.240559           -0.904754   \n",
       "50%             -0.508410            0.078821           -0.625494   \n",
       "75%             -0.301645            0.245476           -0.086614   \n",
       "max              0.333641            1.965972            1.260027   \n",
       "\n",
       "       principal_feature7  principal_feature8     cluster    anomaly1  \n",
       "count          274.000000          274.000000  274.000000  274.000000  \n",
       "mean             0.962291            1.851656    6.996350    0.777372  \n",
       "std              0.395712            0.701457    0.060412    0.416772  \n",
       "min             -0.446358            0.620814    6.000000    0.000000  \n",
       "25%              0.727548            1.256341    7.000000    1.000000  \n",
       "50%              0.900265            1.841870    7.000000    1.000000  \n",
       "75%              1.088942            2.429583    7.000000    1.000000  \n",
       "max              2.894399            3.259681    7.000000    1.000000  \n",
       "\n",
       "[8 rows x 30 columns]"
      ]
     },
     "execution_count": 89,
     "metadata": {},
     "output_type": "execute_result"
    }
   ],
   "source": [
    "df_leeren_Depth_filter = df_leeren[(df_leeren['Depth [m]'] < (first_quartile - 3.0 * iqr))]\n",
    "df_leeren_Depth_filter.describe() #这一段的数据怎么归类为其他的prozess，也有可能是Restprozess 所以这段数据不能用，unsicher zu festlegen"
   ]
  },
  {
   "cell_type": "code",
   "execution_count": null,
   "metadata": {},
   "outputs": [],
   "source": [
    "# Calculate first and third quartile\n",
    "first_quartile = df_leeren['Depth [m]'].describe()['25%']\n",
    "third_quartile = df_leeren['Depth [m]'].describe()['75%']\n",
    "\n",
    "iqr = third_quartile - first_quartile\n",
    "first_quartile - 1.5 * iqr\n",
    "\n",
    "df_leeren_Depth_filter_middle_outlier = df_leeren[(df_leeren['Depth [m]'] < (first_quartile - 1.5 * iqr))]\n",
    "df_leeren_Depth_filter_middle_outlier.describe()"
   ]
  },
  {
   "cell_type": "markdown",
   "metadata": {},
   "source": [
    "### Zusammenfassung: Es wird keine große Unterschiede(max_depth = -8.246m bei 1.5 und max_depth = -12.82m bei 3.0) zwischen 1.5 und 3.0."
   ]
  },
  {
   "cell_type": "code",
   "execution_count": null,
   "metadata": {},
   "outputs": [],
   "source": [
    "# Remove outliers\n",
    "df_leeren = df_leeren[(df_leeren['Depth [m]'] > (first_quartile - 3.0 * iqr)) &\n",
    "            (df_leeren['Depth [m]'] < (third_quartile + 3.0 * iqr))]"
   ]
  },
  {
   "cell_type": "code",
   "execution_count": null,
   "metadata": {},
   "outputs": [],
   "source": [
    "df_leeren.describe()"
   ]
  },
  {
   "cell_type": "markdown",
   "metadata": {},
   "source": [
    "### Box Verfahren für Inclination Y "
   ]
  },
  {
   "cell_type": "code",
   "execution_count": null,
   "metadata": {},
   "outputs": [],
   "source": [
    "# Calculate first and third quartile\n",
    "first_quartile = df_leeren['Inclination Y [Grad]'].describe()['25%']  \n",
    "third_quartile = df_leeren['Inclination Y [Grad]'].describe()['75%']\n",
    "\n",
    "iqr = third_quartile - first_quartile\n",
    "first_quartile - 3.0 * iqr"
   ]
  },
  {
   "cell_type": "code",
   "execution_count": null,
   "metadata": {},
   "outputs": [],
   "source": [
    "third_quartile + 3.0 * iqr"
   ]
  },
  {
   "cell_type": "code",
   "execution_count": null,
   "metadata": {},
   "outputs": [],
   "source": [
    "df_leeren_Inclination_Y_filter = df_leeren[(df_leeren['Inclination Y [Grad]'] < (first_quartile - 3.0 * iqr))]\n",
    "df_leeren_Inclination_Y_filter.describe() "
   ]
  },
  {
   "cell_type": "code",
   "execution_count": null,
   "metadata": {},
   "outputs": [],
   "source": [
    "df_leeren_Inclination_Y_filter = df_leeren[(df_leeren['Inclination Y [Grad]'] > (third_quartile + 3.0 * iqr))]\n",
    "df_leeren_Inclination_Y_filter.describe() "
   ]
  },
  {
   "cell_type": "code",
   "execution_count": null,
   "metadata": {},
   "outputs": [],
   "source": [
    "# Remove outliers\n",
    "df_leeren = df_leeren[(df_leeren['Inclination Y [Grad]'] > (first_quartile - 3.0 * iqr))&\n",
    "            (df_leeren['Inclination Y [Grad]'] < (third_quartile + 3.0 * iqr))]"
   ]
  },
  {
   "cell_type": "code",
   "execution_count": null,
   "metadata": {},
   "outputs": [],
   "source": [
    "df_leeren.describe()"
   ]
  },
  {
   "cell_type": "markdown",
   "metadata": {},
   "source": [
    "### Box Verfahren für Pressure Pump 1 [bar]"
   ]
  },
  {
   "cell_type": "code",
   "execution_count": null,
   "metadata": {},
   "outputs": [],
   "source": [
    "# Calculate first and third quartile\n",
    "first_quartile = df_leeren['Pressure Pump 1 [bar]'].describe()['25%']  \n",
    "third_quartile = df_leeren['Pressure Pump 1 [bar]'].describe()['75%']\n",
    "\n",
    "iqr = third_quartile - first_quartile\n",
    "first_quartile - 3.0 * iqr"
   ]
  },
  {
   "cell_type": "code",
   "execution_count": null,
   "metadata": {},
   "outputs": [],
   "source": [
    "third_quartile + 3.0 * iqr"
   ]
  },
  {
   "cell_type": "code",
   "execution_count": null,
   "metadata": {},
   "outputs": [],
   "source": [
    "df_leeren_Pressure_Pump1 = df_leeren[(df_leeren['Pressure Pump 1 [bar]'] > (third_quartile + 3.0 * iqr))]\n",
    "df_leeren_Pressure_Pump1.describe() "
   ]
  },
  {
   "cell_type": "code",
   "execution_count": null,
   "metadata": {},
   "outputs": [],
   "source": [
    "df_leeren_Pressure_Pump1 = df_leeren[(df_leeren['Pressure Pump 1 [bar]'] < (first_quartile - 3.0 * iqr))]\n",
    "df_leeren_Pressure_Pump1.describe() "
   ]
  },
  {
   "cell_type": "code",
   "execution_count": null,
   "metadata": {},
   "outputs": [],
   "source": [
    "# Remove outliers\n",
    "df_leeren = df_leeren[(df_leeren['Pressure Pump 1 [bar]'] > (first_quartile - 3.0 * iqr)) &\n",
    "            (df_leeren['Pressure Pump 1 [bar]'] < (third_quartile + 3.0 * iqr))]"
   ]
  },
  {
   "cell_type": "code",
   "execution_count": null,
   "metadata": {},
   "outputs": [],
   "source": [
    "df_leeren.describe()"
   ]
  },
  {
   "cell_type": "markdown",
   "metadata": {},
   "source": [
    "### Box Verfahren für Rope Force Main Winch [t]"
   ]
  },
  {
   "cell_type": "code",
   "execution_count": null,
   "metadata": {},
   "outputs": [],
   "source": [
    "first_quartile = df_leeren['Rope Force Main Winch [t]'].describe()['25%']\n",
    "third_quartile = df_leeren['Rope Force Main Winch [t]'].describe()['75%']\n",
    "iqr = third_quartile - first_quartile\n",
    "iqr\n",
    "first_quartile - 3.0 * iqr"
   ]
  },
  {
   "cell_type": "code",
   "execution_count": null,
   "metadata": {},
   "outputs": [],
   "source": [
    "third_quartile + 3.0 * iqr"
   ]
  },
  {
   "cell_type": "code",
   "execution_count": null,
   "metadata": {},
   "outputs": [],
   "source": [
    "df_leeren_Rope_Force_Main_Winch = df_leeren[(df_leeren['Rope Force Main Winch [t]'] < (first_quartile - 3.0 * iqr))]\n",
    "df_leeren_Rope_Force_Main_Winch.describe()"
   ]
  },
  {
   "cell_type": "code",
   "execution_count": null,
   "metadata": {},
   "outputs": [],
   "source": [
    "df_leeren_Rope_Force_Main_Winch = df_leeren[(df_leeren['Rope Force Main Winch [t]'] > (third_quartile + 3.0 * iqr))]\n",
    "df_leeren_Rope_Force_Main_Winch.describe()"
   ]
  },
  {
   "cell_type": "code",
   "execution_count": null,
   "metadata": {},
   "outputs": [],
   "source": [
    "# Remove outliers\n",
    "df_leeren = df_leeren[(df_leeren['Rope Force Main Winch [t]'] > (first_quartile - 3.0 * iqr)) &\n",
    "            (df_leeren['Rope Force Main Winch [t]'] < (third_quartile + 3.0 * iqr))]"
   ]
  },
  {
   "cell_type": "code",
   "execution_count": null,
   "metadata": {},
   "outputs": [],
   "source": [
    "df_leeren.describe()"
   ]
  },
  {
   "cell_type": "markdown",
   "metadata": {},
   "source": [
    "### Box Verfahren für Speed of Rotary Drive [U/min]"
   ]
  },
  {
   "cell_type": "code",
   "execution_count": null,
   "metadata": {},
   "outputs": [],
   "source": [
    "first_quartile = df_leeren['Speed of Rotary Drive [U/min]'].describe()['25%']\n",
    "third_quartile = df_leeren['Speed of Rotary Drive [U/min]'].describe()['75%']\n",
    "iqr = third_quartile - first_quartile\n",
    "iqr\n",
    "first_quartile - 3.0 * iqr"
   ]
  },
  {
   "cell_type": "code",
   "execution_count": null,
   "metadata": {},
   "outputs": [],
   "source": [
    "third_quartile + 3.0 * iqr"
   ]
  },
  {
   "cell_type": "code",
   "execution_count": null,
   "metadata": {},
   "outputs": [],
   "source": [
    "df_leeren_Speed_of_Rotary_Drive = df_leeren[(df_leeren['Speed of Rotary Drive [U/min]'] < (first_quartile - 3.0 * iqr))]\n",
    "df_leeren_Speed_of_Rotary_Drive.describe()"
   ]
  },
  {
   "cell_type": "code",
   "execution_count": null,
   "metadata": {},
   "outputs": [],
   "source": [
    "df_leeren_Speed_of_Rotary_Drive = df_leeren[(df_leeren['Speed of Rotary Drive [U/min]'] > (third_quartile + 3.0 * iqr))]\n",
    "df_leeren_Speed_of_Rotary_Drive.describe()"
   ]
  },
  {
   "cell_type": "code",
   "execution_count": null,
   "metadata": {},
   "outputs": [],
   "source": [
    "# Remove outliers\n",
    "df_leeren = df_leeren[(df_leeren['Speed of Rotary Drive [U/min]'] > (first_quartile - 3.0 * iqr)) &\n",
    "            (df_leeren['Speed of Rotary Drive [U/min]'] < (third_quartile + 3.0 * iqr))]"
   ]
  },
  {
   "cell_type": "code",
   "execution_count": null,
   "metadata": {},
   "outputs": [],
   "source": [
    "df_leeren.describe()"
   ]
  },
  {
   "cell_type": "markdown",
   "metadata": {},
   "source": [
    "### Box Verfahren für Drehmoment Torque [kNm] "
   ]
  },
  {
   "cell_type": "code",
   "execution_count": null,
   "metadata": {},
   "outputs": [],
   "source": [
    "first_quartile = df_leeren['Torque [kNm]'].describe()['25%']\n",
    "third_quartile = df_leeren['Torque [kNm]'].describe()['75%']\n",
    "iqr = third_quartile - first_quartile\n",
    "iqr\n",
    "first_quartile - 3.0 * iqr"
   ]
  },
  {
   "cell_type": "code",
   "execution_count": null,
   "metadata": {},
   "outputs": [],
   "source": [
    "third_quartile + 3.0 * iqr"
   ]
  },
  {
   "cell_type": "code",
   "execution_count": null,
   "metadata": {},
   "outputs": [],
   "source": [
    "df_leeren_Speed_of_Rotary_Drive = df_leeren[(df_leeren['Torque [kNm]'] < (first_quartile - 3.0 * iqr))]\n",
    "df_leeren_Speed_of_Rotary_Drive.describe()"
   ]
  },
  {
   "cell_type": "code",
   "execution_count": null,
   "metadata": {},
   "outputs": [],
   "source": [
    "df_leeren_Speed_of_Rotary_Drive = df_leeren[(df_leeren['Torque [kNm]'] > (third_quartile + 3.0 * iqr))]\n",
    "df_leeren_Speed_of_Rotary_Drive.describe()"
   ]
  },
  {
   "cell_type": "code",
   "execution_count": null,
   "metadata": {},
   "outputs": [],
   "source": [
    "# Remove outliers\n",
    "df_leeren = df_leeren[(df_leeren['Torque [kNm]'] > (first_quartile - 3.0 * iqr)) &\n",
    "            (df_leeren['Torque [kNm]'] < (third_quartile + 3.0 * iqr))]"
   ]
  },
  {
   "cell_type": "code",
   "execution_count": null,
   "metadata": {},
   "outputs": [],
   "source": [
    "# Calculate first and third quartile\n",
    "first_quartile = df_leeren['Pressure Pump 1 [bar]'].describe()['25%']  \n",
    "third_quartile = df_leeren['Pressure Pump 1 [bar]'].describe()['75%']\n",
    "\n",
    "iqr = third_quartile - first_quartile\n",
    "first_quartile - 3.0 * iqr"
   ]
  },
  {
   "cell_type": "code",
   "execution_count": null,
   "metadata": {},
   "outputs": [],
   "source": [
    "third_quartile + 3.0 * iqr"
   ]
  },
  {
   "cell_type": "code",
   "execution_count": null,
   "metadata": {},
   "outputs": [],
   "source": [
    "df_leeren_Pressure_Pump1 = df_leeren[(df_leeren['Pressure Pump 1 [bar]'] > (third_quartile + 3.0 * iqr))]\n",
    "df_leeren_Pressure_Pump1.describe() "
   ]
  },
  {
   "cell_type": "code",
   "execution_count": null,
   "metadata": {},
   "outputs": [],
   "source": [
    "# Remove outliers\n",
    "df_leeren = df_leeren[(df_leeren['Pressure Pump 1 [bar]'] > (first_quartile - 3.0 * iqr)) &\n",
    "            (df_leeren['Pressure Pump 1 [bar]'] < (third_quartile + 3.0 * iqr))]"
   ]
  },
  {
   "cell_type": "code",
   "execution_count": null,
   "metadata": {},
   "outputs": [],
   "source": [
    "df_leeren.describe()   #27944.0-24514.0 = 3430 points werden gefiltert."
   ]
  },
  {
   "cell_type": "code",
   "execution_count": null,
   "metadata": {},
   "outputs": [],
   "source": [
    "plt.figure(figsize=(30,25))  \n",
    "df_leeren.boxplot(whis=3.0)\n",
    "plt.xticks(rotation=45) "
   ]
  },
  {
   "cell_type": "markdown",
   "metadata": {},
   "source": [
    "Zusammenfassung: Ausreißer (für Drehmoment, Speed of Rotary Drive [U/min], Rope Force Main Winch [t], Pressure Pump 1 [bar], Inclination Y, Tiefe) werden gefiltert.  "
   ]
  },
  {
   "cell_type": "markdown",
   "metadata": {},
   "source": [
    "## 因为数据是多维数据 打算用isolotion forest 方法来处理异常值"
   ]
  },
  {
   "cell_type": "code",
   "execution_count": null,
   "metadata": {},
   "outputs": [],
   "source": []
  },
  {
   "cell_type": "code",
   "execution_count": null,
   "metadata": {},
   "outputs": [],
   "source": []
  },
  {
   "cell_type": "code",
   "execution_count": null,
   "metadata": {},
   "outputs": [],
   "source": []
  },
  {
   "cell_type": "code",
   "execution_count": null,
   "metadata": {},
   "outputs": [],
   "source": []
  },
  {
   "cell_type": "code",
   "execution_count": null,
   "metadata": {},
   "outputs": [],
   "source": []
  },
  {
   "cell_type": "code",
   "execution_count": null,
   "metadata": {},
   "outputs": [],
   "source": []
  },
  {
   "cell_type": "markdown",
   "metadata": {},
   "source": [
    "## Ablassen "
   ]
  },
  {
   "cell_type": "code",
   "execution_count": null,
   "metadata": {},
   "outputs": [],
   "source": [
    "df_ablassen = df.loc[df['activity from avtivitydaten']=='Hauptzeit - Ablassen']\n",
    "df_ablassen.reset_index(drop=True, inplace=True)\n",
    "df_ablassen.describe()"
   ]
  },
  {
   "cell_type": "code",
   "execution_count": null,
   "metadata": {},
   "outputs": [],
   "source": [
    "plt.figure(figsize=(30,25))\n",
    "df_ablassen.boxplot(whis=3.0)\n",
    "plt.xticks(rotation=45) "
   ]
  },
  {
   "cell_type": "code",
   "execution_count": null,
   "metadata": {},
   "outputs": [],
   "source": [
    "x= df_ablassen.time\n",
    "y = df_ablassen['Depth [m]']\n",
    "\n",
    "ax.xaxis.set_major_formatter(DateFormatter('%Y-%m-%d %H:%M:%S'))  \n",
    "\n",
    "plt.figure(figsize=(20,15))\n",
    "plt.plot_date(x, y, fmt='b.')\n",
    "plt.xticks(rotation=45)"
   ]
  },
  {
   "cell_type": "code",
   "execution_count": null,
   "metadata": {},
   "outputs": [],
   "source": [
    "# Calculate first and third quartile\n",
    "first_quartile = df_ablassen['Pressure Pump 1 [bar]'].describe()['25%']\n",
    "third_quartile = df_ablassen['Pressure Pump 1 [bar]'].describe()['75%']\n",
    "\n",
    "iqr = third_quartile - first_quartile\n",
    "first_quartile - 3.0 * iqr"
   ]
  },
  {
   "cell_type": "code",
   "execution_count": null,
   "metadata": {},
   "outputs": [],
   "source": [
    "third_quartile + 3.0 * iqr"
   ]
  },
  {
   "cell_type": "code",
   "execution_count": null,
   "metadata": {},
   "outputs": [],
   "source": [
    "df_ablassen_Pressure_Pump1 = df_ablassen[(df_ablassen['Pressure Pump 1 [bar]'] > (third_quartile + 3.0 * iqr))]\n",
    "df_ablassen_Pressure_Pump1.describe() "
   ]
  },
  {
   "cell_type": "code",
   "execution_count": null,
   "metadata": {},
   "outputs": [],
   "source": [
    "# Remove outliers\n",
    "df_ablassen = df_ablassen[(df_ablassen['Pressure Pump 1 [bar]'] > (first_quartile - 3.0 * iqr)) &\n",
    "            (df_ablassen['Pressure Pump 1 [bar]'] < (third_quartile + 3.0 * iqr))]"
   ]
  },
  {
   "cell_type": "code",
   "execution_count": null,
   "metadata": {},
   "outputs": [],
   "source": [
    "df_ablassen.describe()"
   ]
  },
  {
   "cell_type": "code",
   "execution_count": null,
   "metadata": {},
   "outputs": [],
   "source": [
    "# Calculate first and third quartile\n",
    "first_quartile = df_ablassen['Pressure Pump 2 [bar]'].describe()['25%']\n",
    "third_quartile = df_ablassen['Pressure Pump 2 [bar]'].describe()['75%']\n",
    "\n",
    "iqr = third_quartile - first_quartile\n",
    "third_quartile + 3.0 * iqr"
   ]
  },
  {
   "cell_type": "code",
   "execution_count": null,
   "metadata": {},
   "outputs": [],
   "source": [
    "df_ablassen_Pressure_Pump2 = df_ablassen[(df_ablassen['Pressure Pump 2 [bar]'] > (third_quartile + 3.0 * iqr))]\n",
    "df_ablassen_Pressure_Pump2.describe() "
   ]
  },
  {
   "cell_type": "code",
   "execution_count": null,
   "metadata": {},
   "outputs": [],
   "source": [
    "# Remove outliers\n",
    "df_ablassen = df_ablassen[(df_ablassen['Pressure Pump 2 [bar]'] > (first_quartile - 3.0 * iqr)) &\n",
    "            (df_ablassen['Pressure Pump 2 [bar]'] < (third_quartile + 3.0 * iqr))]"
   ]
  },
  {
   "cell_type": "code",
   "execution_count": null,
   "metadata": {},
   "outputs": [],
   "source": [
    "df_ablassen.describe()"
   ]
  },
  {
   "cell_type": "code",
   "execution_count": null,
   "metadata": {},
   "outputs": [],
   "source": [
    "# Calculate first and third quartile\n",
    "first_quartile = df_ablassen['Pressure Pump 4 [bar]'].describe()['25%']\n",
    "third_quartile = df_ablassen['Pressure Pump 4 [bar]'].describe()['75%']\n",
    "\n",
    "iqr = third_quartile - first_quartile\n",
    "third_quartile + 3.0 * iqr"
   ]
  },
  {
   "cell_type": "code",
   "execution_count": null,
   "metadata": {},
   "outputs": [],
   "source": [
    "df_ablassen_Pressure_Pump4 = df_ablassen[(df_ablassen['Pressure Pump 4 [bar]'] > (third_quartile + 3.0 * iqr))]\n",
    "df_ablassen_Pressure_Pump4.describe() "
   ]
  },
  {
   "cell_type": "code",
   "execution_count": null,
   "metadata": {},
   "outputs": [],
   "source": [
    "# Remove outliers\n",
    "df_ablassen = df_ablassen[(df_ablassen['Pressure Pump 4 [bar]'] > (first_quartile - 3.0 * iqr)) &\n",
    "            (df_ablassen['Pressure Pump 4 [bar]'] < (third_quartile + 3.0 * iqr))]"
   ]
  },
  {
   "cell_type": "code",
   "execution_count": null,
   "metadata": {},
   "outputs": [],
   "source": [
    "df_ablassen.describe()"
   ]
  },
  {
   "cell_type": "code",
   "execution_count": null,
   "metadata": {},
   "outputs": [],
   "source": [
    "plt.figure(figsize=(30,25))\n",
    "df_ablassen.boxplot(whis=3.0)\n",
    "plt.xticks(rotation=45) "
   ]
  },
  {
   "cell_type": "markdown",
   "metadata": {},
   "source": [
    "Zusammenfassung:  Ausreißer (für Pressure Pump 1 [bar], Pressure Pump 2 [bar], Pressure Pump 4 [bar], Inclination X, Crowd Force) werden gefiltert. Die andere Ausreißer z.b für Drehmoment werden mit Box-Verfahren nicht behandelt, weil Werte 25% und 75% gleich null sind. "
   ]
  },
  {
   "cell_type": "markdown",
   "metadata": {},
   "source": [
    "## Bohren"
   ]
  },
  {
   "cell_type": "code",
   "execution_count": null,
   "metadata": {
    "scrolled": true
   },
   "outputs": [],
   "source": [
    "df_Bohren = df.loc[df['activity from avtivitydaten']=='Hauptzeit - Bohren']\n",
    "df_Bohren.reset_index(drop=True, inplace=True)\n",
    "df_Bohren.describe()"
   ]
  },
  {
   "cell_type": "code",
   "execution_count": null,
   "metadata": {},
   "outputs": [],
   "source": [
    "plt.figure(figsize=(30,25))\n",
    "df_Bohren.boxplot(whis=3)\n",
    "plt.xticks(rotation=45) "
   ]
  },
  {
   "cell_type": "code",
   "execution_count": null,
   "metadata": {},
   "outputs": [],
   "source": [
    "x= df_Bohren.time\n",
    "y = df_Bohren['Depth [m]']\n",
    "\n",
    "ax.xaxis.set_major_formatter(DateFormatter('%Y-%m-%d %H:%M:%S'))  \n",
    "\n",
    "plt.figure(figsize=(20,15))\n",
    "plt.plot_date(x, y, fmt='b.')\n",
    "plt.xticks(rotation=45)"
   ]
  },
  {
   "cell_type": "code",
   "execution_count": null,
   "metadata": {},
   "outputs": [],
   "source": [
    "# Calculate first and third quartile\n",
    "first_quartile = df_Bohren['Pressure Pump 1 [bar]'].describe()['25%']\n",
    "third_quartile = df_Bohren['Pressure Pump 1 [bar]'].describe()['75%']\n",
    "\n",
    "iqr = third_quartile - first_quartile\n",
    "third_quartile + 3.0 * iqr"
   ]
  },
  {
   "cell_type": "code",
   "execution_count": null,
   "metadata": {},
   "outputs": [],
   "source": [
    "df_Bohren_Pressure_Pump1 = df_Bohren[(df_Bohren['Pressure Pump 1 [bar]'] > (third_quartile + 3.0 * iqr))]\n",
    "df_Bohren_Pressure_Pump1.describe() "
   ]
  },
  {
   "cell_type": "code",
   "execution_count": null,
   "metadata": {},
   "outputs": [],
   "source": [
    "# Remove outliers\n",
    "df_Bohren = df_Bohren[(df_Bohren['Pressure Pump 1 [bar]'] > (first_quartile - 3.0 * iqr)) &\n",
    "            (df_Bohren['Pressure Pump 1 [bar]'] < (third_quartile + 3.0 * iqr))]"
   ]
  },
  {
   "cell_type": "code",
   "execution_count": null,
   "metadata": {},
   "outputs": [],
   "source": [
    "df_Bohren.describe()"
   ]
  },
  {
   "cell_type": "code",
   "execution_count": null,
   "metadata": {},
   "outputs": [],
   "source": [
    "# Calculate first and third quartile\n",
    "first_quartile = df_Bohren['Pressure Pump 3 [bar]'].describe()['25%']\n",
    "third_quartile = df_Bohren['Pressure Pump 3 [bar]'].describe()['75%']\n",
    "\n",
    "iqr = third_quartile - first_quartile\n",
    "third_quartile + 3.0 * iqr"
   ]
  },
  {
   "cell_type": "code",
   "execution_count": null,
   "metadata": {},
   "outputs": [],
   "source": [
    "df_Bohren_Pressure_Pump3 = df_Bohren[(df_Bohren['Pressure Pump 3 [bar]'] > (third_quartile + 3.0 * iqr))]\n",
    "df_Bohren_Pressure_Pump3.describe()"
   ]
  },
  {
   "cell_type": "code",
   "execution_count": null,
   "metadata": {},
   "outputs": [],
   "source": [
    "# Remove outliers\n",
    "df_Bohren = df_Bohren[(df_Bohren['Pressure Pump 3 [bar]'] > (first_quartile - 3.0 * iqr)) &\n",
    "            (df_Bohren['Pressure Pump 3 [bar]'] < (third_quartile + 3.0 * iqr))]"
   ]
  },
  {
   "cell_type": "code",
   "execution_count": null,
   "metadata": {},
   "outputs": [],
   "source": [
    "df_Bohren.describe()"
   ]
  },
  {
   "cell_type": "code",
   "execution_count": null,
   "metadata": {},
   "outputs": [],
   "source": [
    "# Calculate first and third quartile\n",
    "first_quartile = df_Bohren['Pressure Pump 4 [bar]'].describe()['25%']\n",
    "third_quartile = df_Bohren['Pressure Pump 4 [bar]'].describe()['75%']\n",
    "\n",
    "iqr = third_quartile - first_quartile\n",
    "third_quartile + 3.0 * iqr"
   ]
  },
  {
   "cell_type": "code",
   "execution_count": null,
   "metadata": {},
   "outputs": [],
   "source": [
    "df_Bohren_Pressure_Pump4 = df_Bohren[(df_Bohren['Pressure Pump 4 [bar]'] > (third_quartile + 3.0 * iqr))]\n",
    "df_Bohren_Pressure_Pump4.describe()"
   ]
  },
  {
   "cell_type": "code",
   "execution_count": null,
   "metadata": {},
   "outputs": [],
   "source": [
    "# Remove outliers\n",
    "df_Bohren = df_Bohren[(df_Bohren['Pressure Pump 4 [bar]'] > (first_quartile - 3.0 * iqr)) &\n",
    "            (df_Bohren['Pressure Pump 4 [bar]'] < (third_quartile + 3.0 * iqr))]"
   ]
  },
  {
   "cell_type": "code",
   "execution_count": null,
   "metadata": {},
   "outputs": [],
   "source": [
    "df_Bohren.describe()"
   ]
  },
  {
   "cell_type": "code",
   "execution_count": null,
   "metadata": {},
   "outputs": [],
   "source": [
    "# Calculate first and third quartile\n",
    "first_quartile = df_Bohren['Torque [kNm]'].describe()['25%']\n",
    "third_quartile = df_Bohren['Torque [kNm]'].describe()['75%']\n",
    "\n",
    "iqr = third_quartile - first_quartile\n",
    "third_quartile + 3.0 * iqr"
   ]
  },
  {
   "cell_type": "code",
   "execution_count": null,
   "metadata": {},
   "outputs": [],
   "source": [
    "df_Bohren_Torque = df_Bohren[(df_Bohren['Torque [kNm]'] > (third_quartile + 3.0 * iqr))]\n",
    "df_Bohren_Torque.describe()"
   ]
  },
  {
   "cell_type": "code",
   "execution_count": null,
   "metadata": {},
   "outputs": [],
   "source": [
    "# Remove outliers\n",
    "df_Bohren = df_Bohren[(df_Bohren['Torque [kNm]'] > (first_quartile - 3.0 * iqr)) &\n",
    "            (df_Bohren['Torque [kNm]'] < (third_quartile + 3.0 * iqr))]"
   ]
  },
  {
   "cell_type": "code",
   "execution_count": null,
   "metadata": {},
   "outputs": [],
   "source": [
    "df_Bohren.describe()"
   ]
  },
  {
   "cell_type": "markdown",
   "metadata": {},
   "source": [
    "Zusammenfassung: Ausreißer (für Pressure Pump 1 [bar], Pressure Pump 3 [bar], Pressure Pump 4 [bar], Torque [kNm]) werden gefiltert."
   ]
  },
  {
   "cell_type": "code",
   "execution_count": null,
   "metadata": {},
   "outputs": [],
   "source": []
  },
  {
   "cell_type": "code",
   "execution_count": null,
   "metadata": {},
   "outputs": [],
   "source": []
  },
  {
   "cell_type": "markdown",
   "metadata": {},
   "source": [
    "## Ziehen"
   ]
  },
  {
   "cell_type": "code",
   "execution_count": null,
   "metadata": {},
   "outputs": [],
   "source": [
    "df_Ziehen = df.loc[df['activity from avtivitydaten']=='Hauptzeit - Ziehen']\n",
    "df_Ziehen.reset_index(drop=True, inplace=True)\n",
    "df_Ziehen.describe()"
   ]
  },
  {
   "cell_type": "code",
   "execution_count": null,
   "metadata": {},
   "outputs": [],
   "source": [
    "plt.figure(figsize=(30,25))\n",
    "df_Ziehen.boxplot(whis=3)\n",
    "plt.xticks(rotation=45) "
   ]
  },
  {
   "cell_type": "code",
   "execution_count": null,
   "metadata": {},
   "outputs": [],
   "source": [
    "x= df_Ziehen.time\n",
    "y = df_Ziehen['Depth [m]']\n",
    "\n",
    "ax.xaxis.set_major_formatter(DateFormatter('%Y-%m-%d %H:%M:%S'))  \n",
    "\n",
    "plt.figure(figsize=(20,15))\n",
    "plt.plot_date(x, y, fmt='b.')\n",
    "plt.xticks(rotation=45)"
   ]
  },
  {
   "cell_type": "code",
   "execution_count": null,
   "metadata": {},
   "outputs": [],
   "source": [
    "# Calculate first and third quartile\n",
    "first_quartile = df_Ziehen['Main Winch Rope Speed [cm/min]'].describe()['25%']\n",
    "third_quartile = df_Ziehen['Main Winch Rope Speed [cm/min]'].describe()['75%']\n",
    "\n",
    "iqr = third_quartile - first_quartile\n",
    "third_quartile + 3.0 * iqr"
   ]
  },
  {
   "cell_type": "code",
   "execution_count": null,
   "metadata": {},
   "outputs": [],
   "source": [
    "df_Ziehen_Main_Winch_Speed = df_Ziehen[(df_Ziehen['Main Winch Rope Speed [cm/min]'] > (third_quartile + 3.0 * iqr))]\n",
    "df_Ziehen_Main_Winch_Speed.describe()"
   ]
  },
  {
   "cell_type": "code",
   "execution_count": null,
   "metadata": {},
   "outputs": [],
   "source": [
    "# Remove outliers\n",
    "df_Ziehen = df_Ziehen[(df_Ziehen['Main Winch Rope Speed [cm/min]'] > (first_quartile - 3.0 * iqr)) &\n",
    "            (df_Ziehen['Main Winch Rope Speed [cm/min]'] < (third_quartile + 3.0 * iqr))]"
   ]
  },
  {
   "cell_type": "code",
   "execution_count": null,
   "metadata": {},
   "outputs": [],
   "source": [
    "df_Ziehen.describe()"
   ]
  },
  {
   "cell_type": "code",
   "execution_count": null,
   "metadata": {},
   "outputs": [],
   "source": [
    "# Calculate first and third quartile\n",
    "first_quartile = df_Ziehen['Pressure Pump 1 [bar]'].describe()['25%']\n",
    "third_quartile = df_Ziehen['Pressure Pump 1 [bar]'].describe()['75%']\n",
    "\n",
    "iqr = third_quartile - first_quartile\n",
    "third_quartile + 3.0 * iqr"
   ]
  },
  {
   "cell_type": "code",
   "execution_count": null,
   "metadata": {},
   "outputs": [],
   "source": [
    "df_Ziehen_Pressure_Pump1 = df_Ziehen[(df_Ziehen['Pressure Pump 1 [bar]'] > (third_quartile + 3.0 * iqr))]\n",
    "df_Ziehen_Pressure_Pump1.describe()"
   ]
  },
  {
   "cell_type": "code",
   "execution_count": null,
   "metadata": {},
   "outputs": [],
   "source": [
    "# Remove outliers\n",
    "df_Ziehen = df_Ziehen[(df_Ziehen['Pressure Pump 1 [bar]'] > (first_quartile - 3.0 * iqr)) &\n",
    "            (df_Ziehen['Pressure Pump 1 [bar]'] < (third_quartile + 3.0 * iqr))]"
   ]
  },
  {
   "cell_type": "code",
   "execution_count": null,
   "metadata": {},
   "outputs": [],
   "source": [
    "df_Ziehen.describe()"
   ]
  },
  {
   "cell_type": "code",
   "execution_count": null,
   "metadata": {},
   "outputs": [],
   "source": [
    "# Calculate first and third quartile\n",
    "first_quartile = df_Ziehen['Pressure Pump 2 [bar]'].describe()['25%']\n",
    "third_quartile = df_Ziehen['Pressure Pump 2 [bar]'].describe()['75%']\n",
    "\n",
    "iqr = third_quartile - first_quartile\n",
    "third_quartile + 3.0 * iqr"
   ]
  },
  {
   "cell_type": "code",
   "execution_count": null,
   "metadata": {},
   "outputs": [],
   "source": [
    "df_Ziehen_Pressure_Pump2 = df_Ziehen[(df_Ziehen['Pressure Pump 2 [bar]'] > (third_quartile + 3.0 * iqr))]\n",
    "df_Ziehen_Pressure_Pump2.describe()"
   ]
  },
  {
   "cell_type": "code",
   "execution_count": null,
   "metadata": {},
   "outputs": [],
   "source": [
    "# Remove outliers\n",
    "df_Ziehen = df_Ziehen[(df_Ziehen['Pressure Pump 2 [bar]'] > (first_quartile - 3.0 * iqr)) &\n",
    "            (df_Ziehen['Pressure Pump 2 [bar]'] < (third_quartile + 3.0 * iqr))]"
   ]
  },
  {
   "cell_type": "code",
   "execution_count": null,
   "metadata": {},
   "outputs": [],
   "source": [
    "df_Ziehen.describe()"
   ]
  },
  {
   "cell_type": "code",
   "execution_count": null,
   "metadata": {},
   "outputs": [],
   "source": [
    "# Calculate first and third quartile\n",
    "first_quartile = df_Ziehen['Pressure Pump 4 [bar]'].describe()['25%']\n",
    "third_quartile = df_Ziehen['Pressure Pump 4 [bar]'].describe()['75%']\n",
    "\n",
    "iqr = third_quartile - first_quartile\n",
    "third_quartile + 3.0 * iqr"
   ]
  },
  {
   "cell_type": "code",
   "execution_count": null,
   "metadata": {},
   "outputs": [],
   "source": [
    "df_Ziehen_Pressure_Pump4 = df_Ziehen[(df_Ziehen['Pressure Pump 4 [bar]'] > (third_quartile + 3.0 * iqr))]\n",
    "df_Ziehen_Pressure_Pump4.describe()"
   ]
  },
  {
   "cell_type": "code",
   "execution_count": null,
   "metadata": {},
   "outputs": [],
   "source": [
    "# Remove outliers\n",
    "df_Ziehen = df_Ziehen[(df_Ziehen['Pressure Pump 4 [bar]'] > (first_quartile - 3.0 * iqr)) &\n",
    "            (df_Ziehen['Pressure Pump 4 [bar]'] < (third_quartile + 3.0 * iqr))]"
   ]
  },
  {
   "cell_type": "code",
   "execution_count": null,
   "metadata": {},
   "outputs": [],
   "source": [
    "df_Ziehen.describe()"
   ]
  },
  {
   "cell_type": "markdown",
   "metadata": {},
   "source": [
    "Zusammenfassung: Ausreißer (für Pressure Pump 1 [bar], Pressure Pump 2 [bar], Pressure Pump 4 [bar], Main Winch Rope Speed [cm/min]) werden gefiltert.   33205.0-21886.0= 11319 Punkte werden gefiltert."
   ]
  },
  {
   "cell_type": "code",
   "execution_count": null,
   "metadata": {},
   "outputs": [],
   "source": []
  },
  {
   "cell_type": "code",
   "execution_count": null,
   "metadata": {},
   "outputs": [],
   "source": []
  },
  {
   "cell_type": "code",
   "execution_count": null,
   "metadata": {},
   "outputs": [],
   "source": []
  },
  {
   "cell_type": "code",
   "execution_count": null,
   "metadata": {},
   "outputs": [],
   "source": []
  },
  {
   "cell_type": "markdown",
   "metadata": {},
   "source": [
    "## Verrohrung eindrehen "
   ]
  },
  {
   "cell_type": "code",
   "execution_count": null,
   "metadata": {},
   "outputs": [],
   "source": [
    "df_verrohrung_eindrehen = df.loc[df['activity from avtivitydaten']=='Hauptzeit - Verrohrung eindrehen']\n",
    "df_verrohrung_eindrehen.reset_index(drop=True, inplace=True)\n",
    "df_verrohrung_eindrehen.describe()"
   ]
  },
  {
   "cell_type": "code",
   "execution_count": null,
   "metadata": {},
   "outputs": [],
   "source": [
    "plt.figure(figsize=(30,25))\n",
    "df_verrohrung_eindrehen.boxplot(whis=3)\n",
    "plt.xticks(rotation=45) "
   ]
  },
  {
   "cell_type": "code",
   "execution_count": null,
   "metadata": {},
   "outputs": [],
   "source": [
    "x= df_verrohrung_eindrehen.time\n",
    "y = df_verrohrung_eindrehen['Depth [m]']\n",
    "\n",
    "ax.xaxis.set_major_formatter(DateFormatter('%Y-%m-%d %H:%M:%S'))  \n",
    "\n",
    "plt.figure(figsize=(20,15))\n",
    "plt.plot_date(x, y, fmt='b.')\n",
    "plt.xticks(rotation=45)"
   ]
  },
  {
   "cell_type": "code",
   "execution_count": null,
   "metadata": {},
   "outputs": [],
   "source": [
    "# Calculate first and third quartile\n",
    "first_quartile = df_verrohrung_eindrehen['Crowd-Force [t]'].describe()['25%']\n",
    "third_quartile = df_verrohrung_eindrehen['Crowd-Force [t]'].describe()['75%']\n",
    "\n",
    "iqr = third_quartile - first_quartile\n",
    "third_quartile + 3.0 * iqr"
   ]
  },
  {
   "cell_type": "code",
   "execution_count": null,
   "metadata": {},
   "outputs": [],
   "source": [
    "first_quartile - 3.0 * iqr"
   ]
  },
  {
   "cell_type": "code",
   "execution_count": null,
   "metadata": {},
   "outputs": [],
   "source": [
    "df_verrohrung_eindrehen_crowd_force = df_verrohrung_eindrehen[(df_verrohrung_eindrehen['Crowd-Force [t]'] > (third_quartile + 3.0 * iqr))]\n",
    "df_verrohrung_eindrehen_crowd_force.describe()"
   ]
  },
  {
   "cell_type": "code",
   "execution_count": null,
   "metadata": {},
   "outputs": [],
   "source": [
    "df_verrohrung_eindrehen_crowd_force = df_verrohrung_eindrehen[(df_verrohrung_eindrehen['Crowd-Force [t]'] < (first_quartile - 3.0 * iqr))]\n",
    "df_verrohrung_eindrehen_crowd_force.describe()"
   ]
  },
  {
   "cell_type": "code",
   "execution_count": null,
   "metadata": {},
   "outputs": [],
   "source": [
    "# Remove outliers\n",
    "df_verrohrung_eindrehen = df_verrohrung_eindrehen[(df_verrohrung_eindrehen['Crowd-Force [t]'] > (first_quartile - 3.0 * iqr)) &\n",
    "            (df_verrohrung_eindrehen['Crowd-Force [t]'] < (third_quartile + 3.0 * iqr))]"
   ]
  },
  {
   "cell_type": "code",
   "execution_count": null,
   "metadata": {},
   "outputs": [],
   "source": [
    "df_verrohrung_eindrehen.describe()"
   ]
  },
  {
   "cell_type": "code",
   "execution_count": null,
   "metadata": {},
   "outputs": [],
   "source": [
    "# Calculate first and third quartile\n",
    "first_quartile = df_verrohrung_eindrehen['Depth [m]'].describe()['25%']\n",
    "third_quartile = df_verrohrung_eindrehen['Depth [m]'].describe()['75%']\n",
    "\n",
    "iqr = third_quartile - first_quartile\n",
    "third_quartile + 3.0 * iqr"
   ]
  },
  {
   "cell_type": "code",
   "execution_count": null,
   "metadata": {},
   "outputs": [],
   "source": [
    "first_quartile - 3.0 * iqr"
   ]
  },
  {
   "cell_type": "code",
   "execution_count": null,
   "metadata": {},
   "outputs": [],
   "source": [
    "df_verrohrung_eindrehen_depth = df_verrohrung_eindrehen[(df_verrohrung_eindrehen['Depth [m]'] > (third_quartile + 3.0 * iqr))]\n",
    "df_verrohrung_eindrehen_depth.describe()"
   ]
  },
  {
   "cell_type": "code",
   "execution_count": null,
   "metadata": {},
   "outputs": [],
   "source": [
    "df_verrohrung_eindrehen_depth = df_verrohrung_eindrehen[(df_verrohrung_eindrehen['Depth [m]'] < (first_quartile - 3.0 * iqr))]\n",
    "df_verrohrung_eindrehen_depth.describe()"
   ]
  },
  {
   "cell_type": "code",
   "execution_count": null,
   "metadata": {},
   "outputs": [],
   "source": [
    "# Remove outliers\n",
    "df_verrohrung_eindrehen = df_verrohrung_eindrehen[(df_verrohrung_eindrehen['Depth [m]'] > (first_quartile - 3.0 * iqr)) &\n",
    "            (df_verrohrung_eindrehen['Depth [m]'] < (third_quartile + 3.0 * iqr))]"
   ]
  },
  {
   "cell_type": "code",
   "execution_count": null,
   "metadata": {},
   "outputs": [],
   "source": [
    "df_verrohrung_eindrehen.describe()"
   ]
  },
  {
   "cell_type": "code",
   "execution_count": null,
   "metadata": {},
   "outputs": [],
   "source": [
    "# Calculate first and third quartile\n",
    "first_quartile = df_verrohrung_eindrehen['Pressure Pump 4 [bar]'].describe()['25%']\n",
    "third_quartile = df_verrohrung_eindrehen['Pressure Pump 4 [bar]'].describe()['75%']\n",
    "\n",
    "iqr = third_quartile - first_quartile\n",
    "third_quartile + 3.0 * iqr"
   ]
  },
  {
   "cell_type": "code",
   "execution_count": null,
   "metadata": {},
   "outputs": [],
   "source": [
    "first_quartile - 3.0 * iqr"
   ]
  },
  {
   "cell_type": "code",
   "execution_count": null,
   "metadata": {},
   "outputs": [],
   "source": [
    "df_verrohrung_eindrehen_depth = df_verrohrung_eindrehen[(df_verrohrung_eindrehen['Pressure Pump 4 [bar]'] > (third_quartile + 3.0 * iqr))]\n",
    "df_verrohrung_eindrehen_depth.describe()"
   ]
  },
  {
   "cell_type": "code",
   "execution_count": null,
   "metadata": {},
   "outputs": [],
   "source": [
    "# Remove outliers\n",
    "df_verrohrung_eindrehen = df_verrohrung_eindrehen[(df_verrohrung_eindrehen['Pressure Pump 4 [bar]'] > (first_quartile - 3.0 * iqr)) &\n",
    "            (df_verrohrung_eindrehen['Pressure Pump 4 [bar]'] < (third_quartile + 3.0 * iqr))]"
   ]
  },
  {
   "cell_type": "code",
   "execution_count": null,
   "metadata": {},
   "outputs": [],
   "source": [
    "df_verrohrung_eindrehen.describe()"
   ]
  },
  {
   "cell_type": "code",
   "execution_count": null,
   "metadata": {},
   "outputs": [],
   "source": [
    "# Calculate first and third quartile\n",
    "first_quartile = df_verrohrung_eindrehen['Rope Force Main Winch [t]'].describe()['25%']\n",
    "third_quartile = df_verrohrung_eindrehen['Rope Force Main Winch [t]'].describe()['75%']\n",
    "\n",
    "iqr = third_quartile - first_quartile\n",
    "third_quartile + 3.0 * iqr"
   ]
  },
  {
   "cell_type": "code",
   "execution_count": null,
   "metadata": {},
   "outputs": [],
   "source": [
    "first_quartile - 3.0 * iqr"
   ]
  },
  {
   "cell_type": "code",
   "execution_count": null,
   "metadata": {},
   "outputs": [],
   "source": [
    "df_verrohrung_eindrehen_ropewinch = df_verrohrung_eindrehen[(df_verrohrung_eindrehen['Rope Force Main Winch [t]'] > (third_quartile + 3.0 * iqr))]\n",
    "df_verrohrung_eindrehen_ropewinch.describe()"
   ]
  },
  {
   "cell_type": "code",
   "execution_count": null,
   "metadata": {},
   "outputs": [],
   "source": [
    "df_verrohrung_eindrehen_ropewinch = df_verrohrung_eindrehen[(df_verrohrung_eindrehen['Rope Force Main Winch [t]'] < (first_quartile - 3.0 * iqr))]\n",
    "df_verrohrung_eindrehen_ropewinch.describe()"
   ]
  },
  {
   "cell_type": "code",
   "execution_count": null,
   "metadata": {},
   "outputs": [],
   "source": [
    "# Remove outliers\n",
    "df_verrohrung_eindrehen = df_verrohrung_eindrehen[(df_verrohrung_eindrehen['Rope Force Main Winch [t]'] > (first_quartile - 3.0 * iqr)) &\n",
    "            (df_verrohrung_eindrehen['Rope Force Main Winch [t]'] < (third_quartile + 3.0 * iqr))]"
   ]
  },
  {
   "cell_type": "code",
   "execution_count": null,
   "metadata": {},
   "outputs": [],
   "source": [
    "df_verrohrung_eindrehen.describe()"
   ]
  },
  {
   "cell_type": "markdown",
   "metadata": {},
   "source": [
    "Zusammenfassung: Ausreißer (für 'Crowd-Force [t], Depth [m], Pressure Pump 4 [bar], Rope Force Main Winch [t] werden gefiltert.   42244-24464.0= 17780 Punkte werden gefiltert. "
   ]
  },
  {
   "cell_type": "code",
   "execution_count": null,
   "metadata": {},
   "outputs": [],
   "source": [
    "Es besteht keine Aussage über Zuordnung der gefilgterte Daten. "
   ]
  },
  {
   "cell_type": "markdown",
   "metadata": {},
   "source": [
    "## Local Outlier Factor"
   ]
  },
  {
   "cell_type": "code",
   "execution_count": null,
   "metadata": {},
   "outputs": [],
   "source": [
    "import numpy as np\n",
    "import matplotlib.pyplot as plt\n",
    "from sklearn.neighbors import LocalOutlierFactor"
   ]
  },
  {
   "cell_type": "code",
   "execution_count": null,
   "metadata": {},
   "outputs": [],
   "source": [
    "def localoutlierfactor(data, predict, k):\n",
    "    from sklearn.neighbors import LocalOutlierFactor\n",
    "    clf = LocalOutlierFactor(n_neighbors=k + 1, algorithm='auto', contamination=0.1, n_jobs=-1)\n",
    "    clf.fit(data)\n",
    "    # 记录 k 邻域距离\n",
    "    predict['k distances'] = clf.kneighbors(predict)[0].max(axis=1)\n",
    "    # 记录 LOF 离群因子，做相反数处理\n",
    "    predict['local outlier factor'] = -clf._decision_function(predict.iloc[:, :-1])\n",
    "    return predict\n",
    "\n",
    "def plot_lof(result, method):\n",
    "    import matplotlib.pyplot as plt\n",
    "    plt.rcParams['font.sans-serif'] = ['SimHei']  # 用来正常显示中文标签\n",
    "    plt.rcParams['axes.unicode_minus'] = False  # 用来正常显示负号\n",
    "    plt.figure(figsize=(8, 4)).add_subplot(111)\n",
    "    plt.scatter(result[result['local outlier factor'] > method].index,\n",
    "                result[result['local outlier factor'] > method]['local outlier factor'], c='red', s=50,\n",
    "                marker='.', alpha=None,\n",
    "                label='离群点')\n",
    "    plt.scatter(result[result['local outlier factor'] <= method].index,\n",
    "                result[result['local outlier factor'] <= method]['local outlier factor'], c='black', s=50,\n",
    "                marker='.', alpha=None, label='正常点')\n",
    "    plt.hlines(method, -2, 2 + max(result.index), linestyles='--')\n",
    "    plt.xlim(-2, 2 + max(result.index))\n",
    "    plt.title('LOF局部离群点检测', fontsize=13)\n",
    "    plt.ylabel('局部离群因子', fontsize=15)\n",
    "    plt.legend()\n",
    "    plt.show()\n",
    "\n",
    "def lof(data, predict=None, k=5, method=1, plot=False):\n",
    "    import pandas as pd\n",
    "    # 判断是否传入测试数据，若没有传入则测试数据赋值为训练数据\n",
    "    try:\n",
    "        if predict == None:\n",
    "            predict = data.copy()\n",
    "    except Exception:\n",
    "        pass\n",
    "    predict = pd.DataFrame(predict)\n",
    "    # 计算 LOF 离群因子\n",
    "    predict = localoutlierfactor(data, predict, k)\n",
    "    if plot == True:\n",
    "        plot_lof(predict, method)\n",
    "    # 根据阈值划分离群点与正常点\n",
    "    outliers = predict[predict['local outlier factor'] > method].sort_values(by='local outlier factor')\n",
    "    inliers = predict[predict['local outlier factor'] <= method].sort_values(by='local outlier factor')\n",
    "    return outliers, inliers"
   ]
  },
  {
   "cell_type": "code",
   "execution_count": null,
   "metadata": {},
   "outputs": [],
   "source": [
    "df_verrohrung_eindrehen = df.loc[df['activity from avtivitydaten']=='Hauptzeit - Verrohrung eindrehen']\n",
    "df_verrohrung_eindrehen.reset_index(drop=True, inplace=True)\n",
    "df_verrohrung_eindrehen.describe()"
   ]
  },
  {
   "cell_type": "code",
   "execution_count": null,
   "metadata": {},
   "outputs": [],
   "source": [
    "df_verrohrung_eindrehen.head()"
   ]
  },
  {
   "cell_type": "code",
   "execution_count": null,
   "metadata": {},
   "outputs": [],
   "source": [
    "df1 = df_verrohrung_eindrehen.drop(['activity from avtivitydaten','time'], axis=1)"
   ]
  },
  {
   "cell_type": "code",
   "execution_count": null,
   "metadata": {},
   "outputs": [],
   "source": [
    "outliers1, inliers2 = lof(df1, k=5, method = 1)  # method 指的是阈值， 通常是1. k指的是K距离邻域 #k 的值影响不大"
   ]
  },
  {
   "cell_type": "code",
   "execution_count": null,
   "metadata": {},
   "outputs": [],
   "source": [
    "outliers1"
   ]
  },
  {
   "cell_type": "code",
   "execution_count": null,
   "metadata": {},
   "outputs": [],
   "source": [
    "inliers2.describe()"
   ]
  },
  {
   "cell_type": "code",
   "execution_count": null,
   "metadata": {},
   "outputs": [],
   "source": [
    "df_leeren = df.loc[df['activity from avtivitydaten']=='Nebenprozesszeit - Leeren']\n",
    "df_leeren.reset_index(drop=True, inplace=True)\n",
    "df_leeren.describe()"
   ]
  },
  {
   "cell_type": "code",
   "execution_count": null,
   "metadata": {},
   "outputs": [],
   "source": [
    "df2 = df_leeren.drop(['activity from avtivitydaten','time'], axis=1)"
   ]
  },
  {
   "cell_type": "code",
   "execution_count": null,
   "metadata": {},
   "outputs": [],
   "source": [
    "outliers1, inliers1 = lof(df2, k=5, method = 1)"
   ]
  },
  {
   "cell_type": "code",
   "execution_count": null,
   "metadata": {},
   "outputs": [],
   "source": [
    "outliers1"
   ]
  },
  {
   "cell_type": "code",
   "execution_count": null,
   "metadata": {},
   "outputs": [],
   "source": [
    "inliers1.describe()"
   ]
  },
  {
   "cell_type": "markdown",
   "metadata": {},
   "source": [
    "## Isolotion Forest "
   ]
  },
  {
   "cell_type": "code",
   "execution_count": null,
   "metadata": {},
   "outputs": [],
   "source": [
    "df2 = df_leeren.drop(['activity from avtivitydaten','time'], axis=1)\n",
    "df2.describe()"
   ]
  },
  {
   "cell_type": "code",
   "execution_count": null,
   "metadata": {},
   "outputs": [],
   "source": [
    "import pandas as pd                          \n",
    "import numpy as np\n",
    "from sklearn.ensemble import IsolationForest\n",
    "import matplotlib.pyplot as plt\n",
    "from scipy import stats\n",
    "from sklearn.preprocessing import MinMaxScaler\n",
    "\n",
    "#read data\n",
    "dataset = df2\n",
    "#set variable\n",
    "rs = np.random.RandomState(42);\n",
    "outliers_fraction = 0.05;lendata = dataset.shape[0]\n",
    "#label\n",
    "anomaly = [];test_data = []\n",
    "#sit normalize limited\n",
    "nmlz_a = -1;nmlz_b = 1;\n",
    "\n",
    "#some function is useful               ### 数值标准化\n",
    "def normalize(dataset,a,b):\n",
    "    scaler = MinMaxScaler(feature_range=(a, b))\n",
    "    normalize_data = scaler.fit_transform(dataset)\n",
    "    return normalize_data\n",
    "\n",
    "#read dataset x,y\n",
    "x = normalize(pd.DataFrame(dataset, columns=['Depth [m]']), nmlz_a, nmlz_b)\n",
    "y1 = normalize(pd.DataFrame(dataset, columns=['Inclination X [Grad]']), nmlz_a, nmlz_b)\n",
    "y2 = normalize(pd.DataFrame(dataset, columns=['Crowd Depth [m]']), nmlz_a, nmlz_b)\n",
    "y3 = normalize(pd.DataFrame(dataset, columns=['Crowd-Force [t]']), nmlz_a, nmlz_b)\n",
    "y4 = normalize(pd.DataFrame(dataset, columns=['Gear Mode Main Winch []']), nmlz_a, nmlz_b)\n",
    "y5 = normalize(pd.DataFrame(dataset, columns=['Inclination Y [Grad]']), nmlz_a, nmlz_b)\n",
    "y6 = normalize(pd.DataFrame(dataset, columns=['Main Winch Rope Speed [cm/min]']), nmlz_a, nmlz_b)\n",
    "y7 = normalize(pd.DataFrame(dataset, columns=['Pressure Pump 1 [bar]']), nmlz_a, nmlz_b)\n",
    "y8 = normalize(pd.DataFrame(dataset, columns=['Pressure Pump 2 [bar]']), nmlz_a, nmlz_b)\n",
    "y9 = normalize(pd.DataFrame(dataset, columns=['Pressure Pump 3 [bar]']), nmlz_a, nmlz_b)\n",
    "y10 = normalize(pd.DataFrame(dataset, columns=['Pressure Pump 4 [bar]']), nmlz_a, nmlz_b)\n",
    "y11 = normalize(pd.DataFrame(dataset, columns=['Rope Force Aux. Winch. [t]']), nmlz_a, nmlz_b)\n",
    "y12 = normalize(pd.DataFrame(dataset, columns=['Rope Force Main Winch [t]']), nmlz_a, nmlz_b)\n",
    "y13 = normalize(pd.DataFrame(dataset, columns=['Speed of Rotary Drive [U/min]']), nmlz_a, nmlz_b)\n",
    "y14 = normalize(pd.DataFrame(dataset, columns=['Status Rig [ ]']), nmlz_a, nmlz_b)\n",
    "y15 = normalize(pd.DataFrame(dataset, columns=['Torque Steps [K=1;M=2;G=3]']), nmlz_a, nmlz_b)\n",
    "y16 = normalize(pd.DataFrame(dataset, columns=['Torque [kNm]']), nmlz_a, nmlz_b)\n",
    "\n",
    "#\n",
    "ifm = IsolationForest(n_estimators=100, verbose=2, n_jobs=2,\n",
    "                      max_samples=lendata, random_state=rs)\n",
    "\n",
    "if __name__ == '__main__':\n",
    "    Iso_train_dt = np.column_stack((x, y1,y2,y3,y4,y5,y6,y7,y8,y9,y10,y11,y12,y13,y14,y15,y16))\n",
    "    ifm.fit(Iso_train_dt)\n",
    "    scores_pred = ifm.decision_function(Iso_train_dt)\n",
    "\n",
    "    threshold = stats.scoreatpercentile(scores_pred, 100 * outliers_fraction)\n",
    "    # 使用预测值取5%分位数来定义阈值（基于小概率事件5%）\n",
    "    # 根据训练样本中异常样本比例，得到阈值，用于绘图\n",
    "\n",
    "    for i in scores_pred:\n",
    "        if i <= threshold:\n",
    "            #print(i)\n",
    "            test_data.append(1)\n",
    "            anomaly.append(i)\n",
    "        else:\n",
    "            test_data.append(0)\n",
    "\n",
    "    print(\"孤立森林阈值  ：\",threshold)\n",
    "    print(\"全量数据样本数：\",len(dataset),\"个\")\n",
    "    print(\"检测异常样本数：\",len(anomaly),\"个\")\n",
    "    plt.show()"
   ]
  },
  {
   "cell_type": "code",
   "execution_count": null,
   "metadata": {},
   "outputs": [],
   "source": [
    "import pandas as pd                          \n",
    "import numpy as np\n",
    "from sklearn.ensemble import IsolationForest\n",
    "import matplotlib.pyplot as plt\n",
    "from scipy import stats\n",
    "from sklearn.preprocessing import MinMaxScaler\n",
    "\n",
    "#read data\n",
    "dataset = df2\n",
    "#set variable\n",
    "rs = np.random.RandomState(42);\n",
    "outliers_fraction = 0.05;lendata = dataset.shape[0]\n",
    "#label\n",
    "anomaly = [];test_data = []\n",
    "\n",
    "#\n",
    "ifm = IsolationForest(n_estimators=100, verbose=2, n_jobs=2,\n",
    "                      max_samples=lendata, random_state=rs)\n",
    "\n",
    "if __name__ == '__main__':\n",
    "    Iso_train_dt = df2\n",
    "    ifm.fit(Iso_train_dt)\n",
    "    scores_pred = ifm.decision_function(Iso_train_dt)\n",
    "\n",
    "    threshold = stats.scoreatpercentile(scores_pred, 100 * outliers_fraction)\n",
    "    # 使用预测值取5%分位数来定义阈值（基于小概率事件5%）\n",
    "    # 根据训练样本中异常样本比例，得到阈值，用于绘图\n",
    "\n",
    "    for i in scores_pred:\n",
    "        if i <= threshold:\n",
    "            #print(i)\n",
    "            test_data.append(1)\n",
    "            anomaly.append(i)\n",
    "        else:\n",
    "            test_data.append(0)\n",
    "\n",
    "    print(\"孤立森林阈值  ：\",threshold)\n",
    "    print(\"全量数据样本数：\",len(dataset),\"个\")\n",
    "    print(\"检测异常样本数：\",len(anomaly),\"个\")\n",
    "    plt.show()"
   ]
  },
  {
   "cell_type": "markdown",
   "metadata": {},
   "source": [
    "### Anwendung Kmean Ausreißer zu finden"
   ]
  },
  {
   "cell_type": "code",
   "execution_count": null,
   "metadata": {},
   "outputs": [],
   "source": [
    "pip install --upgrade pip"
   ]
  },
  {
   "cell_type": "code",
   "execution_count": null,
   "metadata": {},
   "outputs": [],
   "source": [
    "pip install pyod"
   ]
  },
  {
   "cell_type": "code",
   "execution_count": null,
   "metadata": {},
   "outputs": [],
   "source": [
    "df"
   ]
  },
  {
   "cell_type": "code",
   "execution_count": 221,
   "metadata": {},
   "outputs": [],
   "source": [
    "df_leeren = df.loc[df['activity from avtivitydaten']=='Nebenprozesszeit - Leeren']\n",
    "df_leeren.reset_index(drop=True, inplace=True)"
   ]
  },
  {
   "cell_type": "code",
   "execution_count": 222,
   "metadata": {},
   "outputs": [
    {
     "data": {
      "text/html": [
       "<div>\n",
       "<style scoped>\n",
       "    .dataframe tbody tr th:only-of-type {\n",
       "        vertical-align: middle;\n",
       "    }\n",
       "\n",
       "    .dataframe tbody tr th {\n",
       "        vertical-align: top;\n",
       "    }\n",
       "\n",
       "    .dataframe thead th {\n",
       "        text-align: right;\n",
       "    }\n",
       "</style>\n",
       "<table border=\"1\" class=\"dataframe\">\n",
       "  <thead>\n",
       "    <tr style=\"text-align: right;\">\n",
       "      <th></th>\n",
       "      <th>Boring threshold [m]</th>\n",
       "      <th>Casing Length [m]</th>\n",
       "      <th>Crowd Depth [m]</th>\n",
       "      <th>Crowd-Force [t]</th>\n",
       "      <th>Depth [m]</th>\n",
       "      <th>Gear Mode Main Winch []</th>\n",
       "      <th>Inclination X [Grad]</th>\n",
       "      <th>Inclination Y [Grad]</th>\n",
       "      <th>Main Winch Rope Speed [cm/min]</th>\n",
       "      <th>Pressure Pump 1 [bar]</th>\n",
       "      <th>Pressure Pump 2 [bar]</th>\n",
       "      <th>Pressure Pump 3 [bar]</th>\n",
       "      <th>Pressure Pump 4 [bar]</th>\n",
       "      <th>Rope Force Aux. Winch. [t]</th>\n",
       "      <th>Rope Force Main Winch [t]</th>\n",
       "      <th>Speed of Rotary Drive [U/min]</th>\n",
       "      <th>Status Rig [ ]</th>\n",
       "      <th>Torque Steps [K=1;M=2;G=3]</th>\n",
       "      <th>Torque [%]</th>\n",
       "      <th>Torque [kNm]</th>\n",
       "    </tr>\n",
       "  </thead>\n",
       "  <tbody>\n",
       "    <tr>\n",
       "      <td>count</td>\n",
       "      <td>27944.0</td>\n",
       "      <td>27944.0</td>\n",
       "      <td>27944.000000</td>\n",
       "      <td>27944.000000</td>\n",
       "      <td>27944.000000</td>\n",
       "      <td>27944.000000</td>\n",
       "      <td>27944.000000</td>\n",
       "      <td>27944.000000</td>\n",
       "      <td>27944.000000</td>\n",
       "      <td>27944.000000</td>\n",
       "      <td>27944.000000</td>\n",
       "      <td>27944.000000</td>\n",
       "      <td>27944.000000</td>\n",
       "      <td>27944.000000</td>\n",
       "      <td>27944.000000</td>\n",
       "      <td>27944.000000</td>\n",
       "      <td>27944.0</td>\n",
       "      <td>27944.000000</td>\n",
       "      <td>27944.000000</td>\n",
       "      <td>27944.000000</td>\n",
       "    </tr>\n",
       "    <tr>\n",
       "      <td>mean</td>\n",
       "      <td>0.0</td>\n",
       "      <td>0.0</td>\n",
       "      <td>0.001062</td>\n",
       "      <td>3.491722</td>\n",
       "      <td>-2.447470</td>\n",
       "      <td>1.461788</td>\n",
       "      <td>-0.239296</td>\n",
       "      <td>-0.286089</td>\n",
       "      <td>14.052940</td>\n",
       "      <td>21.060135</td>\n",
       "      <td>75.583066</td>\n",
       "      <td>102.850551</td>\n",
       "      <td>85.809541</td>\n",
       "      <td>0.001512</td>\n",
       "      <td>15.110775</td>\n",
       "      <td>2.349284</td>\n",
       "      <td>0.0</td>\n",
       "      <td>2.863541</td>\n",
       "      <td>1.393573</td>\n",
       "      <td>6.873819</td>\n",
       "    </tr>\n",
       "    <tr>\n",
       "      <td>std</td>\n",
       "      <td>0.0</td>\n",
       "      <td>0.0</td>\n",
       "      <td>0.022074</td>\n",
       "      <td>13.249462</td>\n",
       "      <td>2.910600</td>\n",
       "      <td>0.881487</td>\n",
       "      <td>0.686355</td>\n",
       "      <td>0.589579</td>\n",
       "      <td>11.994610</td>\n",
       "      <td>29.716705</td>\n",
       "      <td>64.663098</td>\n",
       "      <td>55.876465</td>\n",
       "      <td>68.594187</td>\n",
       "      <td>0.059598</td>\n",
       "      <td>1.737889</td>\n",
       "      <td>3.964373</td>\n",
       "      <td>0.0</td>\n",
       "      <td>0.449777</td>\n",
       "      <td>3.804210</td>\n",
       "      <td>11.947336</td>\n",
       "    </tr>\n",
       "    <tr>\n",
       "      <td>min</td>\n",
       "      <td>0.0</td>\n",
       "      <td>0.0</td>\n",
       "      <td>0.000000</td>\n",
       "      <td>-37.200000</td>\n",
       "      <td>-37.853999</td>\n",
       "      <td>0.000000</td>\n",
       "      <td>-3.580000</td>\n",
       "      <td>-3.900000</td>\n",
       "      <td>0.000000</td>\n",
       "      <td>1.000000</td>\n",
       "      <td>0.400000</td>\n",
       "      <td>0.000000</td>\n",
       "      <td>0.200000</td>\n",
       "      <td>0.000000</td>\n",
       "      <td>1.180000</td>\n",
       "      <td>0.000000</td>\n",
       "      <td>0.0</td>\n",
       "      <td>1.000000</td>\n",
       "      <td>0.000000</td>\n",
       "      <td>0.000000</td>\n",
       "    </tr>\n",
       "    <tr>\n",
       "      <td>25%</td>\n",
       "      <td>0.0</td>\n",
       "      <td>0.0</td>\n",
       "      <td>0.000000</td>\n",
       "      <td>0.000000</td>\n",
       "      <td>-3.632000</td>\n",
       "      <td>0.000000</td>\n",
       "      <td>-0.760000</td>\n",
       "      <td>-0.580000</td>\n",
       "      <td>4.622000</td>\n",
       "      <td>3.000000</td>\n",
       "      <td>19.400000</td>\n",
       "      <td>65.400000</td>\n",
       "      <td>17.600000</td>\n",
       "      <td>0.000000</td>\n",
       "      <td>14.360000</td>\n",
       "      <td>0.000000</td>\n",
       "      <td>0.0</td>\n",
       "      <td>3.000000</td>\n",
       "      <td>0.000000</td>\n",
       "      <td>0.000000</td>\n",
       "    </tr>\n",
       "    <tr>\n",
       "      <td>50%</td>\n",
       "      <td>0.0</td>\n",
       "      <td>0.0</td>\n",
       "      <td>0.000000</td>\n",
       "      <td>0.000000</td>\n",
       "      <td>-1.804000</td>\n",
       "      <td>2.000000</td>\n",
       "      <td>-0.120000</td>\n",
       "      <td>-0.100000</td>\n",
       "      <td>12.190000</td>\n",
       "      <td>7.600000</td>\n",
       "      <td>64.400000</td>\n",
       "      <td>102.200000</td>\n",
       "      <td>82.800000</td>\n",
       "      <td>0.000000</td>\n",
       "      <td>15.040000</td>\n",
       "      <td>0.000000</td>\n",
       "      <td>0.0</td>\n",
       "      <td>3.000000</td>\n",
       "      <td>0.000000</td>\n",
       "      <td>0.000000</td>\n",
       "    </tr>\n",
       "    <tr>\n",
       "      <td>75%</td>\n",
       "      <td>0.0</td>\n",
       "      <td>0.0</td>\n",
       "      <td>0.000000</td>\n",
       "      <td>12.700000</td>\n",
       "      <td>-0.570000</td>\n",
       "      <td>2.000000</td>\n",
       "      <td>0.180000</td>\n",
       "      <td>0.040000</td>\n",
       "      <td>21.114500</td>\n",
       "      <td>27.000000</td>\n",
       "      <td>111.000000</td>\n",
       "      <td>145.800000</td>\n",
       "      <td>135.400000</td>\n",
       "      <td>0.000000</td>\n",
       "      <td>16.400000</td>\n",
       "      <td>3.400000</td>\n",
       "      <td>0.0</td>\n",
       "      <td>3.000000</td>\n",
       "      <td>0.000000</td>\n",
       "      <td>9.400000</td>\n",
       "    </tr>\n",
       "    <tr>\n",
       "      <td>max</td>\n",
       "      <td>0.0</td>\n",
       "      <td>0.0</td>\n",
       "      <td>0.710000</td>\n",
       "      <td>31.400000</td>\n",
       "      <td>0.000000</td>\n",
       "      <td>2.000000</td>\n",
       "      <td>2.280000</td>\n",
       "      <td>3.900000</td>\n",
       "      <td>62.036001</td>\n",
       "      <td>267.600000</td>\n",
       "      <td>266.600000</td>\n",
       "      <td>343.200000</td>\n",
       "      <td>304.800000</td>\n",
       "      <td>4.220000</td>\n",
       "      <td>25.720000</td>\n",
       "      <td>35.800000</td>\n",
       "      <td>0.0</td>\n",
       "      <td>3.000000</td>\n",
       "      <td>48.000000</td>\n",
       "      <td>85.600000</td>\n",
       "    </tr>\n",
       "  </tbody>\n",
       "</table>\n",
       "</div>"
      ],
      "text/plain": [
       "       Boring threshold [m]  Casing Length [m]  Crowd Depth [m]  \\\n",
       "count               27944.0            27944.0     27944.000000   \n",
       "mean                    0.0                0.0         0.001062   \n",
       "std                     0.0                0.0         0.022074   \n",
       "min                     0.0                0.0         0.000000   \n",
       "25%                     0.0                0.0         0.000000   \n",
       "50%                     0.0                0.0         0.000000   \n",
       "75%                     0.0                0.0         0.000000   \n",
       "max                     0.0                0.0         0.710000   \n",
       "\n",
       "       Crowd-Force [t]     Depth [m]  Gear Mode Main Winch []  \\\n",
       "count     27944.000000  27944.000000             27944.000000   \n",
       "mean          3.491722     -2.447470                 1.461788   \n",
       "std          13.249462      2.910600                 0.881487   \n",
       "min         -37.200000    -37.853999                 0.000000   \n",
       "25%           0.000000     -3.632000                 0.000000   \n",
       "50%           0.000000     -1.804000                 2.000000   \n",
       "75%          12.700000     -0.570000                 2.000000   \n",
       "max          31.400000      0.000000                 2.000000   \n",
       "\n",
       "       Inclination X [Grad]  Inclination Y [Grad]  \\\n",
       "count          27944.000000          27944.000000   \n",
       "mean              -0.239296             -0.286089   \n",
       "std                0.686355              0.589579   \n",
       "min               -3.580000             -3.900000   \n",
       "25%               -0.760000             -0.580000   \n",
       "50%               -0.120000             -0.100000   \n",
       "75%                0.180000              0.040000   \n",
       "max                2.280000              3.900000   \n",
       "\n",
       "       Main Winch Rope Speed [cm/min]  Pressure Pump 1 [bar]  \\\n",
       "count                    27944.000000           27944.000000   \n",
       "mean                        14.052940              21.060135   \n",
       "std                         11.994610              29.716705   \n",
       "min                          0.000000               1.000000   \n",
       "25%                          4.622000               3.000000   \n",
       "50%                         12.190000               7.600000   \n",
       "75%                         21.114500              27.000000   \n",
       "max                         62.036001             267.600000   \n",
       "\n",
       "       Pressure Pump 2 [bar]  Pressure Pump 3 [bar]  Pressure Pump 4 [bar]  \\\n",
       "count           27944.000000           27944.000000           27944.000000   \n",
       "mean               75.583066             102.850551              85.809541   \n",
       "std                64.663098              55.876465              68.594187   \n",
       "min                 0.400000               0.000000               0.200000   \n",
       "25%                19.400000              65.400000              17.600000   \n",
       "50%                64.400000             102.200000              82.800000   \n",
       "75%               111.000000             145.800000             135.400000   \n",
       "max               266.600000             343.200000             304.800000   \n",
       "\n",
       "       Rope Force Aux. Winch. [t]  Rope Force Main Winch [t]  \\\n",
       "count                27944.000000               27944.000000   \n",
       "mean                     0.001512                  15.110775   \n",
       "std                      0.059598                   1.737889   \n",
       "min                      0.000000                   1.180000   \n",
       "25%                      0.000000                  14.360000   \n",
       "50%                      0.000000                  15.040000   \n",
       "75%                      0.000000                  16.400000   \n",
       "max                      4.220000                  25.720000   \n",
       "\n",
       "       Speed of Rotary Drive [U/min]  Status Rig [ ]  \\\n",
       "count                   27944.000000         27944.0   \n",
       "mean                        2.349284             0.0   \n",
       "std                         3.964373             0.0   \n",
       "min                         0.000000             0.0   \n",
       "25%                         0.000000             0.0   \n",
       "50%                         0.000000             0.0   \n",
       "75%                         3.400000             0.0   \n",
       "max                        35.800000             0.0   \n",
       "\n",
       "       Torque Steps [K=1;M=2;G=3]    Torque [%]  Torque [kNm]  \n",
       "count                27944.000000  27944.000000  27944.000000  \n",
       "mean                     2.863541      1.393573      6.873819  \n",
       "std                      0.449777      3.804210     11.947336  \n",
       "min                      1.000000      0.000000      0.000000  \n",
       "25%                      3.000000      0.000000      0.000000  \n",
       "50%                      3.000000      0.000000      0.000000  \n",
       "75%                      3.000000      0.000000      9.400000  \n",
       "max                      3.000000     48.000000     85.600000  "
      ]
     },
     "execution_count": 222,
     "metadata": {},
     "output_type": "execute_result"
    }
   ],
   "source": [
    "df_leeren.describe()"
   ]
  },
  {
   "cell_type": "code",
   "execution_count": 223,
   "metadata": {},
   "outputs": [],
   "source": [
    "from sklearn.cluster import KMeans"
   ]
  },
  {
   "cell_type": "code",
   "execution_count": 224,
   "metadata": {},
   "outputs": [
    {
     "data": {
      "image/png": "[encoded data removed]",
      "text/plain": [
       "<Figure size 720x432 with 1 Axes>"
      ]
     },
     "metadata": {
      "needs_background": "light"
     },
     "output_type": "display_data"
    }
   ],
   "source": [
    "data = df_leeren[['Crowd Depth [m]', 'Crowd-Force [t]', 'Depth [m]','Gear Mode Main Winch []','Inclination X [Grad]','Inclination Y [Grad]','Main Winch Rope Speed [cm/min]','Pressure Pump 1 [bar]','Pressure Pump 2 [bar]','Pressure Pump 3 [bar]','Pressure Pump 4 [bar]','Rope Force Aux. Winch. [t]','Rope Force Main Winch [t]','Speed of Rotary Drive [U/min]','Torque Steps [K=1;M=2;G=3]','Torque [kNm]']]\n",
    "n_cluster = range(1, 20)\n",
    "kmeans = [KMeans(n_clusters=i).fit(data) for i in n_cluster]\n",
    "scores = [kmeans[i].score(data) for i in range(len(kmeans))]\n",
    "  \n",
    "fig, ax = plt.subplots(figsize=(10,6))\n",
    "ax.plot(n_cluster, scores)\n",
    "plt.xlabel('Cluster')\n",
    "plt.ylabel('score')\n",
    "plt.title('Elbow kurve')\n",
    "plt.show()"
   ]
  },
  {
   "cell_type": "code",
   "execution_count": 225,
   "metadata": {},
   "outputs": [
    {
     "data": {
      "text/plain": [
       "KMeans(algorithm='auto', copy_x=True, init='k-means++', max_iter=300,\n",
       "       n_clusters=10, n_init=10, n_jobs=None, precompute_distances='auto',\n",
       "       random_state=None, tol=0.0001, verbose=0)"
      ]
     },
     "execution_count": 225,
     "metadata": {},
     "output_type": "execute_result"
    }
   ],
   "source": [
    "X = df_leeren[['Crowd Depth [m]', 'Crowd-Force [t]', 'Depth [m]','Gear Mode Main Winch []','Inclination X [Grad]','Inclination Y [Grad]','Main Winch Rope Speed [cm/min]','Pressure Pump 1 [bar]','Pressure Pump 2 [bar]','Pressure Pump 3 [bar]','Pressure Pump 4 [bar]','Rope Force Aux. Winch. [t]','Rope Force Main Winch [t]','Speed of Rotary Drive [U/min]','Torque Steps [K=1;M=2;G=3]','Torque [kNm]']]\n",
    "X = X.reset_index(drop=True)\n",
    "\n",
    "X_std = StandardScaler().fit_transform(X)\n",
    "data = pd.DataFrame(X_std)\n",
    "km = KMeans(n_clusters=10)\n",
    "km.fit(data)\n",
    "km.predict(data)\n",
    "km"
   ]
  },
  {
   "cell_type": "code",
   "execution_count": 226,
   "metadata": {},
   "outputs": [
    {
     "data": {
      "text/html": [
       "<div>\n",
       "<style scoped>\n",
       "    .dataframe tbody tr th:only-of-type {\n",
       "        vertical-align: middle;\n",
       "    }\n",
       "\n",
       "    .dataframe tbody tr th {\n",
       "        vertical-align: top;\n",
       "    }\n",
       "\n",
       "    .dataframe thead th {\n",
       "        text-align: right;\n",
       "    }\n",
       "</style>\n",
       "<table border=\"1\" class=\"dataframe\">\n",
       "  <thead>\n",
       "    <tr style=\"text-align: right;\">\n",
       "      <th></th>\n",
       "      <th>cluster</th>\n",
       "    </tr>\n",
       "  </thead>\n",
       "  <tbody>\n",
       "    <tr>\n",
       "      <td>0</td>\n",
       "      <td>7</td>\n",
       "    </tr>\n",
       "    <tr>\n",
       "      <td>1</td>\n",
       "      <td>7</td>\n",
       "    </tr>\n",
       "    <tr>\n",
       "      <td>2</td>\n",
       "      <td>5</td>\n",
       "    </tr>\n",
       "    <tr>\n",
       "      <td>3</td>\n",
       "      <td>5</td>\n",
       "    </tr>\n",
       "    <tr>\n",
       "      <td>4</td>\n",
       "      <td>5</td>\n",
       "    </tr>\n",
       "    <tr>\n",
       "      <td>...</td>\n",
       "      <td>...</td>\n",
       "    </tr>\n",
       "    <tr>\n",
       "      <td>27939</td>\n",
       "      <td>1</td>\n",
       "    </tr>\n",
       "    <tr>\n",
       "      <td>27940</td>\n",
       "      <td>1</td>\n",
       "    </tr>\n",
       "    <tr>\n",
       "      <td>27941</td>\n",
       "      <td>1</td>\n",
       "    </tr>\n",
       "    <tr>\n",
       "      <td>27942</td>\n",
       "      <td>1</td>\n",
       "    </tr>\n",
       "    <tr>\n",
       "      <td>27943</td>\n",
       "      <td>1</td>\n",
       "    </tr>\n",
       "  </tbody>\n",
       "</table>\n",
       "<p>27944 rows × 1 columns</p>\n",
       "</div>"
      ],
      "text/plain": [
       "       cluster\n",
       "0            7\n",
       "1            7\n",
       "2            5\n",
       "3            5\n",
       "4            5\n",
       "...        ...\n",
       "27939        1\n",
       "27940        1\n",
       "27941        1\n",
       "27942        1\n",
       "27943        1\n",
       "\n",
       "[27944 rows x 1 columns]"
      ]
     },
     "execution_count": 226,
     "metadata": {},
     "output_type": "execute_result"
    }
   ],
   "source": [
    "labels = km.labels_\n",
    "df1 = pd.DataFrame(data=labels,columns=['cluster'])\n",
    "df1"
   ]
  },
  {
   "cell_type": "code",
   "execution_count": 227,
   "metadata": {},
   "outputs": [],
   "source": [
    "from sklearn.preprocessing import StandardScaler\n",
    "from sklearn import preprocessing"
   ]
  },
  {
   "cell_type": "code",
   "execution_count": 228,
   "metadata": {},
   "outputs": [],
   "source": [
    "data.columns = ['Crowd Depth [m]', 'Crowd-Force [t]', 'Depth [m]','Gear Mode Main Winch []','Inclination X [Grad]','Inclination Y [Grad]','Main Winch Rope Speed [cm/min]','Pressure Pump 1 [bar]','Pressure Pump 2 [bar]','Pressure Pump 3 [bar]','Pressure Pump 4 [bar]','Rope Force Aux. Winch. [t]','Rope Force Main Winch [t]','Speed of Rotary Drive [U/min]','Torque Steps [K=1;M=2;G=3]','Torque [kNm]']"
   ]
  },
  {
   "cell_type": "code",
   "execution_count": 170,
   "metadata": {},
   "outputs": [],
   "source": [
    "data1=data.drop(['cluster'], axis=1)"
   ]
  },
  {
   "cell_type": "code",
   "execution_count": 229,
   "metadata": {},
   "outputs": [
    {
     "name": "stderr",
     "output_type": "stream",
     "text": [
      "C:\\Users\\moxi\\Anaconda3\\lib\\site-packages\\ipykernel_launcher.py:6: FutureWarning: set_value is deprecated and will be removed in a future release. Please use .at[] or .iat[] accessors instead\n",
      "  \n"
     ]
    }
   ],
   "source": [
    "def getDistanceByPoint(data, model):\n",
    "    distance = pd.Series()\n",
    "    for i in range(0,len(data)):\n",
    "        Xa = np.array(data.loc[i])\n",
    "        Xb = model.cluster_centers_[model.labels_[i]]\n",
    "        distance.set_value(i, np.linalg.norm(Xa-Xb))\n",
    "    return distance\n",
    "  \n",
    "#设置异常值比例\n",
    "outliers_fraction = 0.1\n",
    "  \n",
    "# 得到每个点到取聚类中心的距离，我们设置了10个聚类中心，kmeans[9]表示有10个聚类中心的模型\n",
    "distance = getDistanceByPoint(data, kmeans[9])\n",
    "  \n",
    "#根据异常值比例outliers_fraction计算异常值的数量\n",
    "number_of_outliers = int(outliers_fraction*len(distance))\n",
    "  \n",
    "#设定异常值的阈值\n",
    "threshold = distance.nlargest(number_of_outliers).min()\n",
    "  \n",
    "#根据阈值来判断是否为异常值\n",
    "data['anomaly1'] = (distance >= threshold).astype(int)\n"
   ]
  },
  {
   "cell_type": "code",
   "execution_count": 230,
   "metadata": {},
   "outputs": [
    {
     "data": {
      "text/plain": [
       "array([0, 1], dtype=int64)"
      ]
     },
     "execution_count": 230,
     "metadata": {},
     "output_type": "execute_result"
    }
   ],
   "source": [
    "data['anomaly1'].unique()  #按照异常值的筛选不太符合想要的结果"
   ]
  },
  {
   "cell_type": "code",
   "execution_count": 234,
   "metadata": {},
   "outputs": [
    {
     "data": {
      "text/html": [
       "<div>\n",
       "<style scoped>\n",
       "    .dataframe tbody tr th:only-of-type {\n",
       "        vertical-align: middle;\n",
       "    }\n",
       "\n",
       "    .dataframe tbody tr th {\n",
       "        vertical-align: top;\n",
       "    }\n",
       "\n",
       "    .dataframe thead th {\n",
       "        text-align: right;\n",
       "    }\n",
       "</style>\n",
       "<table border=\"1\" class=\"dataframe\">\n",
       "  <thead>\n",
       "    <tr style=\"text-align: right;\">\n",
       "      <th></th>\n",
       "      <th>Crowd Depth [m]</th>\n",
       "      <th>Crowd-Force [t]</th>\n",
       "      <th>Depth [m]</th>\n",
       "      <th>Gear Mode Main Winch []</th>\n",
       "      <th>Inclination X [Grad]</th>\n",
       "      <th>Inclination Y [Grad]</th>\n",
       "      <th>Main Winch Rope Speed [cm/min]</th>\n",
       "      <th>Pressure Pump 1 [bar]</th>\n",
       "      <th>Pressure Pump 2 [bar]</th>\n",
       "      <th>Pressure Pump 3 [bar]</th>\n",
       "      <th>Pressure Pump 4 [bar]</th>\n",
       "      <th>Rope Force Aux. Winch. [t]</th>\n",
       "      <th>Rope Force Main Winch [t]</th>\n",
       "      <th>Speed of Rotary Drive [U/min]</th>\n",
       "      <th>Torque Steps [K=1;M=2;G=3]</th>\n",
       "      <th>Torque [kNm]</th>\n",
       "      <th>anomaly1</th>\n",
       "      <th>cluster</th>\n",
       "    </tr>\n",
       "  </thead>\n",
       "  <tbody>\n",
       "    <tr>\n",
       "      <td>0</td>\n",
       "      <td>-0.048108</td>\n",
       "      <td>1.114652</td>\n",
       "      <td>0.675292</td>\n",
       "      <td>-1.658351</td>\n",
       "      <td>0.465213</td>\n",
       "      <td>0.451328</td>\n",
       "      <td>0.810634</td>\n",
       "      <td>-0.601024</td>\n",
       "      <td>1.107559</td>\n",
       "      <td>1.595503</td>\n",
       "      <td>1.081605</td>\n",
       "      <td>-0.025364</td>\n",
       "      <td>0.281510</td>\n",
       "      <td>-0.59261</td>\n",
       "      <td>-4.143328</td>\n",
       "      <td>-0.575354</td>\n",
       "      <td>0</td>\n",
       "      <td>7</td>\n",
       "    </tr>\n",
       "    <tr>\n",
       "      <td>1</td>\n",
       "      <td>-0.048108</td>\n",
       "      <td>1.114652</td>\n",
       "      <td>0.743321</td>\n",
       "      <td>-1.658351</td>\n",
       "      <td>0.290374</td>\n",
       "      <td>0.451328</td>\n",
       "      <td>0.693412</td>\n",
       "      <td>-0.594294</td>\n",
       "      <td>1.107559</td>\n",
       "      <td>1.752996</td>\n",
       "      <td>1.970909</td>\n",
       "      <td>-0.025364</td>\n",
       "      <td>0.246985</td>\n",
       "      <td>-0.59261</td>\n",
       "      <td>-4.143328</td>\n",
       "      <td>-0.575354</td>\n",
       "      <td>1</td>\n",
       "      <td>7</td>\n",
       "    </tr>\n",
       "    <tr>\n",
       "      <td>2</td>\n",
       "      <td>-0.048108</td>\n",
       "      <td>0.879167</td>\n",
       "      <td>0.804477</td>\n",
       "      <td>-1.658351</td>\n",
       "      <td>0.057254</td>\n",
       "      <td>0.587020</td>\n",
       "      <td>0.514995</td>\n",
       "      <td>-0.587563</td>\n",
       "      <td>0.389981</td>\n",
       "      <td>1.362842</td>\n",
       "      <td>1.495641</td>\n",
       "      <td>-0.025364</td>\n",
       "      <td>-0.017709</td>\n",
       "      <td>-0.59261</td>\n",
       "      <td>-4.143328</td>\n",
       "      <td>-0.575354</td>\n",
       "      <td>0</td>\n",
       "      <td>5</td>\n",
       "    </tr>\n",
       "    <tr>\n",
       "      <td>3</td>\n",
       "      <td>-0.048108</td>\n",
       "      <td>-0.210708</td>\n",
       "      <td>0.840897</td>\n",
       "      <td>-1.658351</td>\n",
       "      <td>-0.001026</td>\n",
       "      <td>0.688790</td>\n",
       "      <td>0.112474</td>\n",
       "      <td>-0.587563</td>\n",
       "      <td>0.266261</td>\n",
       "      <td>0.904681</td>\n",
       "      <td>1.367348</td>\n",
       "      <td>-0.025364</td>\n",
       "      <td>-0.247877</td>\n",
       "      <td>-0.59261</td>\n",
       "      <td>-4.143328</td>\n",
       "      <td>-0.575354</td>\n",
       "      <td>0</td>\n",
       "      <td>5</td>\n",
       "    </tr>\n",
       "    <tr>\n",
       "      <td>4</td>\n",
       "      <td>-0.048108</td>\n",
       "      <td>-1.113403</td>\n",
       "      <td>0.840210</td>\n",
       "      <td>-1.658351</td>\n",
       "      <td>0.057254</td>\n",
       "      <td>0.756636</td>\n",
       "      <td>0.249038</td>\n",
       "      <td>-0.580833</td>\n",
       "      <td>0.009541</td>\n",
       "      <td>0.324820</td>\n",
       "      <td>1.119509</td>\n",
       "      <td>-0.025364</td>\n",
       "      <td>-0.305419</td>\n",
       "      <td>-0.59261</td>\n",
       "      <td>-4.143328</td>\n",
       "      <td>-0.575354</td>\n",
       "      <td>0</td>\n",
       "      <td>5</td>\n",
       "    </tr>\n",
       "  </tbody>\n",
       "</table>\n",
       "</div>"
      ],
      "text/plain": [
       "   Crowd Depth [m]  Crowd-Force [t]  Depth [m]  Gear Mode Main Winch []  \\\n",
       "0        -0.048108         1.114652   0.675292                -1.658351   \n",
       "1        -0.048108         1.114652   0.743321                -1.658351   \n",
       "2        -0.048108         0.879167   0.804477                -1.658351   \n",
       "3        -0.048108        -0.210708   0.840897                -1.658351   \n",
       "4        -0.048108        -1.113403   0.840210                -1.658351   \n",
       "\n",
       "   Inclination X [Grad]  Inclination Y [Grad]  Main Winch Rope Speed [cm/min]  \\\n",
       "0              0.465213              0.451328                        0.810634   \n",
       "1              0.290374              0.451328                        0.693412   \n",
       "2              0.057254              0.587020                        0.514995   \n",
       "3             -0.001026              0.688790                        0.112474   \n",
       "4              0.057254              0.756636                        0.249038   \n",
       "\n",
       "   Pressure Pump 1 [bar]  Pressure Pump 2 [bar]  Pressure Pump 3 [bar]  \\\n",
       "0              -0.601024               1.107559               1.595503   \n",
       "1              -0.594294               1.107559               1.752996   \n",
       "2              -0.587563               0.389981               1.362842   \n",
       "3              -0.587563               0.266261               0.904681   \n",
       "4              -0.580833               0.009541               0.324820   \n",
       "\n",
       "   Pressure Pump 4 [bar]  Rope Force Aux. Winch. [t]  \\\n",
       "0               1.081605                   -0.025364   \n",
       "1               1.970909                   -0.025364   \n",
       "2               1.495641                   -0.025364   \n",
       "3               1.367348                   -0.025364   \n",
       "4               1.119509                   -0.025364   \n",
       "\n",
       "   Rope Force Main Winch [t]  Speed of Rotary Drive [U/min]  \\\n",
       "0                   0.281510                       -0.59261   \n",
       "1                   0.246985                       -0.59261   \n",
       "2                  -0.017709                       -0.59261   \n",
       "3                  -0.247877                       -0.59261   \n",
       "4                  -0.305419                       -0.59261   \n",
       "\n",
       "   Torque Steps [K=1;M=2;G=3]  Torque [kNm]  anomaly1  cluster  \n",
       "0                   -4.143328     -0.575354         0        7  \n",
       "1                   -4.143328     -0.575354         1        7  \n",
       "2                   -4.143328     -0.575354         0        5  \n",
       "3                   -4.143328     -0.575354         0        5  \n",
       "4                   -4.143328     -0.575354         0        5  "
      ]
     },
     "execution_count": 234,
     "metadata": {},
     "output_type": "execute_result"
    }
   ],
   "source": [
    "data1 = pd.concat([data,df1],axis=1)\n",
    "data1.head()"
   ]
  },
  {
   "cell_type": "code",
   "execution_count": 232,
   "metadata": {},
   "outputs": [
    {
     "name": "stderr",
     "output_type": "stream",
     "text": [
      "C:\\Users\\moxi\\Anaconda3\\lib\\site-packages\\ipykernel_launcher.py:1: SettingWithCopyWarning: \n",
      "A value is trying to be set on a copy of a slice from a DataFrame.\n",
      "Try using .loc[row_indexer,col_indexer] = value instead\n",
      "\n",
      "See the caveats in the documentation: http://pandas.pydata.org/pandas-docs/stable/user_guide/indexing.html#returning-a-view-versus-a-copy\n",
      "  \"\"\"Entry point for launching an IPython kernel.\n"
     ]
    }
   ],
   "source": [
    "df_leeren['anomaly1'] = (distance >= threshold).astype(int)"
   ]
  },
  {
   "cell_type": "code",
   "execution_count": 233,
   "metadata": {},
   "outputs": [
    {
     "data": {
      "text/html": [
       "<div>\n",
       "<style scoped>\n",
       "    .dataframe tbody tr th:only-of-type {\n",
       "        vertical-align: middle;\n",
       "    }\n",
       "\n",
       "    .dataframe tbody tr th {\n",
       "        vertical-align: top;\n",
       "    }\n",
       "\n",
       "    .dataframe thead th {\n",
       "        text-align: right;\n",
       "    }\n",
       "</style>\n",
       "<table border=\"1\" class=\"dataframe\">\n",
       "  <thead>\n",
       "    <tr style=\"text-align: right;\">\n",
       "      <th></th>\n",
       "      <th>Boring threshold [m]</th>\n",
       "      <th>Casing Length [m]</th>\n",
       "      <th>Crowd Depth [m]</th>\n",
       "      <th>Crowd-Force [t]</th>\n",
       "      <th>Depth [m]</th>\n",
       "      <th>Gear Mode Main Winch []</th>\n",
       "      <th>Inclination X [Grad]</th>\n",
       "      <th>Inclination Y [Grad]</th>\n",
       "      <th>Main Winch Rope Speed [cm/min]</th>\n",
       "      <th>Pressure Pump 1 [bar]</th>\n",
       "      <th>...</th>\n",
       "      <th>Rope Force Aux. Winch. [t]</th>\n",
       "      <th>Rope Force Main Winch [t]</th>\n",
       "      <th>Speed of Rotary Drive [U/min]</th>\n",
       "      <th>Status Rig [ ]</th>\n",
       "      <th>Torque Steps [K=1;M=2;G=3]</th>\n",
       "      <th>Torque [%]</th>\n",
       "      <th>Torque [kNm]</th>\n",
       "      <th>activity from avtivitydaten</th>\n",
       "      <th>time</th>\n",
       "      <th>anomaly1</th>\n",
       "    </tr>\n",
       "  </thead>\n",
       "  <tbody>\n",
       "    <tr>\n",
       "      <td>0</td>\n",
       "      <td>0</td>\n",
       "      <td>0</td>\n",
       "      <td>0.0</td>\n",
       "      <td>18.26</td>\n",
       "      <td>-0.482</td>\n",
       "      <td>0.0</td>\n",
       "      <td>0.08</td>\n",
       "      <td>-0.02</td>\n",
       "      <td>23.776</td>\n",
       "      <td>3.2</td>\n",
       "      <td>...</td>\n",
       "      <td>0.0</td>\n",
       "      <td>15.60</td>\n",
       "      <td>0.0</td>\n",
       "      <td>0</td>\n",
       "      <td>1.0</td>\n",
       "      <td>0</td>\n",
       "      <td>0.0</td>\n",
       "      <td>Nebenprozesszeit - Leeren</td>\n",
       "      <td>2019-10-14 07:24:22</td>\n",
       "      <td>0</td>\n",
       "    </tr>\n",
       "    <tr>\n",
       "      <td>1</td>\n",
       "      <td>0</td>\n",
       "      <td>0</td>\n",
       "      <td>0.0</td>\n",
       "      <td>18.26</td>\n",
       "      <td>-0.284</td>\n",
       "      <td>0.0</td>\n",
       "      <td>-0.04</td>\n",
       "      <td>-0.02</td>\n",
       "      <td>22.370</td>\n",
       "      <td>3.4</td>\n",
       "      <td>...</td>\n",
       "      <td>0.0</td>\n",
       "      <td>15.54</td>\n",
       "      <td>0.0</td>\n",
       "      <td>0</td>\n",
       "      <td>1.0</td>\n",
       "      <td>0</td>\n",
       "      <td>0.0</td>\n",
       "      <td>Nebenprozesszeit - Leeren</td>\n",
       "      <td>2019-10-14 07:24:23</td>\n",
       "      <td>1</td>\n",
       "    </tr>\n",
       "    <tr>\n",
       "      <td>2</td>\n",
       "      <td>0</td>\n",
       "      <td>0</td>\n",
       "      <td>0.0</td>\n",
       "      <td>15.14</td>\n",
       "      <td>-0.106</td>\n",
       "      <td>0.0</td>\n",
       "      <td>-0.20</td>\n",
       "      <td>0.06</td>\n",
       "      <td>20.230</td>\n",
       "      <td>3.6</td>\n",
       "      <td>...</td>\n",
       "      <td>0.0</td>\n",
       "      <td>15.08</td>\n",
       "      <td>0.0</td>\n",
       "      <td>0</td>\n",
       "      <td>1.0</td>\n",
       "      <td>0</td>\n",
       "      <td>0.0</td>\n",
       "      <td>Nebenprozesszeit - Leeren</td>\n",
       "      <td>2019-10-14 07:24:24</td>\n",
       "      <td>0</td>\n",
       "    </tr>\n",
       "    <tr>\n",
       "      <td>3</td>\n",
       "      <td>0</td>\n",
       "      <td>0</td>\n",
       "      <td>0.0</td>\n",
       "      <td>0.70</td>\n",
       "      <td>0.000</td>\n",
       "      <td>0.0</td>\n",
       "      <td>-0.24</td>\n",
       "      <td>0.12</td>\n",
       "      <td>15.402</td>\n",
       "      <td>3.6</td>\n",
       "      <td>...</td>\n",
       "      <td>0.0</td>\n",
       "      <td>14.68</td>\n",
       "      <td>0.0</td>\n",
       "      <td>0</td>\n",
       "      <td>1.0</td>\n",
       "      <td>0</td>\n",
       "      <td>0.0</td>\n",
       "      <td>Nebenprozesszeit - Leeren</td>\n",
       "      <td>2019-10-14 07:24:25</td>\n",
       "      <td>0</td>\n",
       "    </tr>\n",
       "    <tr>\n",
       "      <td>4</td>\n",
       "      <td>0</td>\n",
       "      <td>0</td>\n",
       "      <td>0.0</td>\n",
       "      <td>-11.26</td>\n",
       "      <td>-0.002</td>\n",
       "      <td>0.0</td>\n",
       "      <td>-0.20</td>\n",
       "      <td>0.16</td>\n",
       "      <td>17.040</td>\n",
       "      <td>3.8</td>\n",
       "      <td>...</td>\n",
       "      <td>0.0</td>\n",
       "      <td>14.58</td>\n",
       "      <td>0.0</td>\n",
       "      <td>0</td>\n",
       "      <td>1.0</td>\n",
       "      <td>0</td>\n",
       "      <td>0.0</td>\n",
       "      <td>Nebenprozesszeit - Leeren</td>\n",
       "      <td>2019-10-14 07:24:26</td>\n",
       "      <td>0</td>\n",
       "    </tr>\n",
       "  </tbody>\n",
       "</table>\n",
       "<p>5 rows × 23 columns</p>\n",
       "</div>"
      ],
      "text/plain": [
       "   Boring threshold [m]  Casing Length [m]  Crowd Depth [m]  Crowd-Force [t]  \\\n",
       "0                     0                  0              0.0            18.26   \n",
       "1                     0                  0              0.0            18.26   \n",
       "2                     0                  0              0.0            15.14   \n",
       "3                     0                  0              0.0             0.70   \n",
       "4                     0                  0              0.0           -11.26   \n",
       "\n",
       "   Depth [m]  Gear Mode Main Winch []  Inclination X [Grad]  \\\n",
       "0     -0.482                      0.0                  0.08   \n",
       "1     -0.284                      0.0                 -0.04   \n",
       "2     -0.106                      0.0                 -0.20   \n",
       "3      0.000                      0.0                 -0.24   \n",
       "4     -0.002                      0.0                 -0.20   \n",
       "\n",
       "   Inclination Y [Grad]  Main Winch Rope Speed [cm/min]  \\\n",
       "0                 -0.02                          23.776   \n",
       "1                 -0.02                          22.370   \n",
       "2                  0.06                          20.230   \n",
       "3                  0.12                          15.402   \n",
       "4                  0.16                          17.040   \n",
       "\n",
       "   Pressure Pump 1 [bar]  ...  Rope Force Aux. Winch. [t]  \\\n",
       "0                    3.2  ...                         0.0   \n",
       "1                    3.4  ...                         0.0   \n",
       "2                    3.6  ...                         0.0   \n",
       "3                    3.6  ...                         0.0   \n",
       "4                    3.8  ...                         0.0   \n",
       "\n",
       "   Rope Force Main Winch [t]  Speed of Rotary Drive [U/min]  Status Rig [ ]  \\\n",
       "0                      15.60                            0.0               0   \n",
       "1                      15.54                            0.0               0   \n",
       "2                      15.08                            0.0               0   \n",
       "3                      14.68                            0.0               0   \n",
       "4                      14.58                            0.0               0   \n",
       "\n",
       "   Torque Steps [K=1;M=2;G=3]  Torque [%]  Torque [kNm]  \\\n",
       "0                         1.0           0           0.0   \n",
       "1                         1.0           0           0.0   \n",
       "2                         1.0           0           0.0   \n",
       "3                         1.0           0           0.0   \n",
       "4                         1.0           0           0.0   \n",
       "\n",
       "   activity from avtivitydaten                time  anomaly1  \n",
       "0    Nebenprozesszeit - Leeren 2019-10-14 07:24:22         0  \n",
       "1    Nebenprozesszeit - Leeren 2019-10-14 07:24:23         1  \n",
       "2    Nebenprozesszeit - Leeren 2019-10-14 07:24:24         0  \n",
       "3    Nebenprozesszeit - Leeren 2019-10-14 07:24:25         0  \n",
       "4    Nebenprozesszeit - Leeren 2019-10-14 07:24:26         0  \n",
       "\n",
       "[5 rows x 23 columns]"
      ]
     },
     "execution_count": 233,
     "metadata": {},
     "output_type": "execute_result"
    }
   ],
   "source": [
    "df_leeren.head()"
   ]
  },
  {
   "cell_type": "code",
   "execution_count": 238,
   "metadata": {},
   "outputs": [
    {
     "data": {
      "text/plain": [
       "array([[<matplotlib.axes._subplots.AxesSubplot object at 0x000002F80CDF6648>,\n",
       "        <matplotlib.axes._subplots.AxesSubplot object at 0x000002F80CD1B688>,\n",
       "        <matplotlib.axes._subplots.AxesSubplot object at 0x000002F80CE2C648>,\n",
       "        <matplotlib.axes._subplots.AxesSubplot object at 0x000002F80CE48088>,\n",
       "        <matplotlib.axes._subplots.AxesSubplot object at 0x000002F80DC3CA48>],\n",
       "       [<matplotlib.axes._subplots.AxesSubplot object at 0x000002F80DC76448>,\n",
       "        <matplotlib.axes._subplots.AxesSubplot object at 0x000002F80DCADE08>,\n",
       "        <matplotlib.axes._subplots.AxesSubplot object at 0x000002F80DCE7848>,\n",
       "        <matplotlib.axes._subplots.AxesSubplot object at 0x000002F80DD215C8>,\n",
       "        <matplotlib.axes._subplots.AxesSubplot object at 0x000002F80DD596C8>],\n",
       "       [<matplotlib.axes._subplots.AxesSubplot object at 0x000002F80DD927C8>,\n",
       "        <matplotlib.axes._subplots.AxesSubplot object at 0x000002F80DDCA848>,\n",
       "        <matplotlib.axes._subplots.AxesSubplot object at 0x000002F80DE04948>,\n",
       "        <matplotlib.axes._subplots.AxesSubplot object at 0x000002F80DE3DA88>,\n",
       "        <matplotlib.axes._subplots.AxesSubplot object at 0x000002F80DE74B88>],\n",
       "       [<matplotlib.axes._subplots.AxesSubplot object at 0x000002F80DEAEC88>,\n",
       "        <matplotlib.axes._subplots.AxesSubplot object at 0x000002F80F0F6D48>,\n",
       "        <matplotlib.axes._subplots.AxesSubplot object at 0x000002F80FBBFE48>,\n",
       "        <matplotlib.axes._subplots.AxesSubplot object at 0x000002F80FBF7F48>,\n",
       "        <matplotlib.axes._subplots.AxesSubplot object at 0x000002F80FC340C8>],\n",
       "       [<matplotlib.axes._subplots.AxesSubplot object at 0x000002F80FC6F208>,\n",
       "        <matplotlib.axes._subplots.AxesSubplot object at 0x000002F80FCA7308>,\n",
       "        <matplotlib.axes._subplots.AxesSubplot object at 0x000002F80FCDE448>,\n",
       "        <matplotlib.axes._subplots.AxesSubplot object at 0x000002F80FD17648>,\n",
       "        <matplotlib.axes._subplots.AxesSubplot object at 0x000002F80FD50808>]],\n",
       "      dtype=object)"
      ]
     },
     "execution_count": 238,
     "metadata": {},
     "output_type": "execute_result"
    },
    {
     "data": {
      "image/png": "[encoded data removed]",
      "text/plain": [
       "<Figure size 1440x1080 with 25 Axes>"
      ]
     },
     "metadata": {
      "needs_background": "light"
     },
     "output_type": "display_data"
    }
   ],
   "source": [
    "data_anomaly = df_leeren.loc[df_leeren['anomaly1']==1]\n",
    "data_anomaly.reset_index(drop=True, inplace=True)\n",
    "data_anomaly.hist(figsize=(20,15))"
   ]
  },
  {
   "cell_type": "code",
   "execution_count": 236,
   "metadata": {},
   "outputs": [
    {
     "data": {
      "text/html": [
       "<div>\n",
       "<style scoped>\n",
       "    .dataframe tbody tr th:only-of-type {\n",
       "        vertical-align: middle;\n",
       "    }\n",
       "\n",
       "    .dataframe tbody tr th {\n",
       "        vertical-align: top;\n",
       "    }\n",
       "\n",
       "    .dataframe thead th {\n",
       "        text-align: right;\n",
       "    }\n",
       "</style>\n",
       "<table border=\"1\" class=\"dataframe\">\n",
       "  <thead>\n",
       "    <tr style=\"text-align: right;\">\n",
       "      <th></th>\n",
       "      <th>Boring threshold [m]</th>\n",
       "      <th>Casing Length [m]</th>\n",
       "      <th>Crowd Depth [m]</th>\n",
       "      <th>Crowd-Force [t]</th>\n",
       "      <th>Depth [m]</th>\n",
       "      <th>Gear Mode Main Winch []</th>\n",
       "      <th>Inclination X [Grad]</th>\n",
       "      <th>Inclination Y [Grad]</th>\n",
       "      <th>Main Winch Rope Speed [cm/min]</th>\n",
       "      <th>Pressure Pump 1 [bar]</th>\n",
       "      <th>...</th>\n",
       "      <th>Pressure Pump 3 [bar]</th>\n",
       "      <th>Pressure Pump 4 [bar]</th>\n",
       "      <th>Rope Force Aux. Winch. [t]</th>\n",
       "      <th>Rope Force Main Winch [t]</th>\n",
       "      <th>Speed of Rotary Drive [U/min]</th>\n",
       "      <th>Status Rig [ ]</th>\n",
       "      <th>Torque Steps [K=1;M=2;G=3]</th>\n",
       "      <th>Torque [%]</th>\n",
       "      <th>Torque [kNm]</th>\n",
       "      <th>anomaly1</th>\n",
       "    </tr>\n",
       "  </thead>\n",
       "  <tbody>\n",
       "    <tr>\n",
       "      <td>count</td>\n",
       "      <td>25150.0</td>\n",
       "      <td>25150.0</td>\n",
       "      <td>25150.000000</td>\n",
       "      <td>25150.000000</td>\n",
       "      <td>25150.000000</td>\n",
       "      <td>25150.000000</td>\n",
       "      <td>25150.000000</td>\n",
       "      <td>25150.000000</td>\n",
       "      <td>25150.000000</td>\n",
       "      <td>25150.000000</td>\n",
       "      <td>...</td>\n",
       "      <td>25150.000000</td>\n",
       "      <td>25150.000000</td>\n",
       "      <td>25150.000000</td>\n",
       "      <td>25150.000000</td>\n",
       "      <td>25150.000000</td>\n",
       "      <td>25150.0</td>\n",
       "      <td>25150.000000</td>\n",
       "      <td>25150.000000</td>\n",
       "      <td>25150.000000</td>\n",
       "      <td>25150.0</td>\n",
       "    </tr>\n",
       "    <tr>\n",
       "      <td>mean</td>\n",
       "      <td>0.0</td>\n",
       "      <td>0.0</td>\n",
       "      <td>0.001146</td>\n",
       "      <td>1.157764</td>\n",
       "      <td>-2.452211</td>\n",
       "      <td>1.460748</td>\n",
       "      <td>-0.232445</td>\n",
       "      <td>-0.266996</td>\n",
       "      <td>13.271904</td>\n",
       "      <td>22.302934</td>\n",
       "      <td>...</td>\n",
       "      <td>95.722433</td>\n",
       "      <td>72.878704</td>\n",
       "      <td>0.001680</td>\n",
       "      <td>15.071664</td>\n",
       "      <td>2.545074</td>\n",
       "      <td>0.0</td>\n",
       "      <td>2.852652</td>\n",
       "      <td>1.511133</td>\n",
       "      <td>7.285956</td>\n",
       "      <td>0.0</td>\n",
       "    </tr>\n",
       "    <tr>\n",
       "      <td>std</td>\n",
       "      <td>0.0</td>\n",
       "      <td>0.0</td>\n",
       "      <td>0.023235</td>\n",
       "      <td>11.762038</td>\n",
       "      <td>3.022520</td>\n",
       "      <td>0.882047</td>\n",
       "      <td>0.696313</td>\n",
       "      <td>0.588910</td>\n",
       "      <td>12.026839</td>\n",
       "      <td>30.705882</td>\n",
       "      <td>...</td>\n",
       "      <td>53.227076</td>\n",
       "      <td>59.074557</td>\n",
       "      <td>0.062819</td>\n",
       "      <td>1.804485</td>\n",
       "      <td>4.096687</td>\n",
       "      <td>0.0</td>\n",
       "      <td>0.466755</td>\n",
       "      <td>3.948103</td>\n",
       "      <td>12.273673</td>\n",
       "      <td>0.0</td>\n",
       "    </tr>\n",
       "    <tr>\n",
       "      <td>min</td>\n",
       "      <td>0.0</td>\n",
       "      <td>0.0</td>\n",
       "      <td>0.000000</td>\n",
       "      <td>-37.200000</td>\n",
       "      <td>-37.853999</td>\n",
       "      <td>0.000000</td>\n",
       "      <td>-3.580000</td>\n",
       "      <td>-3.900000</td>\n",
       "      <td>0.000000</td>\n",
       "      <td>1.000000</td>\n",
       "      <td>...</td>\n",
       "      <td>0.000000</td>\n",
       "      <td>0.200000</td>\n",
       "      <td>0.000000</td>\n",
       "      <td>1.180000</td>\n",
       "      <td>0.000000</td>\n",
       "      <td>0.0</td>\n",
       "      <td>1.000000</td>\n",
       "      <td>0.000000</td>\n",
       "      <td>0.000000</td>\n",
       "      <td>0.0</td>\n",
       "    </tr>\n",
       "    <tr>\n",
       "      <td>25%</td>\n",
       "      <td>0.0</td>\n",
       "      <td>0.0</td>\n",
       "      <td>0.000000</td>\n",
       "      <td>0.000000</td>\n",
       "      <td>-3.654000</td>\n",
       "      <td>0.000000</td>\n",
       "      <td>-0.760000</td>\n",
       "      <td>-0.560000</td>\n",
       "      <td>3.850000</td>\n",
       "      <td>2.800000</td>\n",
       "      <td>...</td>\n",
       "      <td>61.000000</td>\n",
       "      <td>9.000000</td>\n",
       "      <td>0.000000</td>\n",
       "      <td>14.280000</td>\n",
       "      <td>0.000000</td>\n",
       "      <td>0.0</td>\n",
       "      <td>3.000000</td>\n",
       "      <td>0.000000</td>\n",
       "      <td>0.000000</td>\n",
       "      <td>0.0</td>\n",
       "    </tr>\n",
       "    <tr>\n",
       "      <td>50%</td>\n",
       "      <td>0.0</td>\n",
       "      <td>0.0</td>\n",
       "      <td>0.000000</td>\n",
       "      <td>0.000000</td>\n",
       "      <td>-1.700000</td>\n",
       "      <td>2.000000</td>\n",
       "      <td>-0.100000</td>\n",
       "      <td>-0.080000</td>\n",
       "      <td>11.238000</td>\n",
       "      <td>9.000000</td>\n",
       "      <td>...</td>\n",
       "      <td>96.600000</td>\n",
       "      <td>70.400000</td>\n",
       "      <td>0.000000</td>\n",
       "      <td>14.980000</td>\n",
       "      <td>0.200000</td>\n",
       "      <td>0.0</td>\n",
       "      <td>3.000000</td>\n",
       "      <td>0.000000</td>\n",
       "      <td>0.900000</td>\n",
       "      <td>0.0</td>\n",
       "    </tr>\n",
       "    <tr>\n",
       "      <td>75%</td>\n",
       "      <td>0.0</td>\n",
       "      <td>0.0</td>\n",
       "      <td>0.000000</td>\n",
       "      <td>7.760000</td>\n",
       "      <td>-0.544000</td>\n",
       "      <td>2.000000</td>\n",
       "      <td>0.180000</td>\n",
       "      <td>0.060000</td>\n",
       "      <td>19.653500</td>\n",
       "      <td>29.000000</td>\n",
       "      <td>...</td>\n",
       "      <td>133.000000</td>\n",
       "      <td>112.800000</td>\n",
       "      <td>0.000000</td>\n",
       "      <td>16.460000</td>\n",
       "      <td>3.800000</td>\n",
       "      <td>0.0</td>\n",
       "      <td>3.000000</td>\n",
       "      <td>0.000000</td>\n",
       "      <td>10.200000</td>\n",
       "      <td>0.0</td>\n",
       "    </tr>\n",
       "    <tr>\n",
       "      <td>max</td>\n",
       "      <td>0.0</td>\n",
       "      <td>0.0</td>\n",
       "      <td>0.710000</td>\n",
       "      <td>30.180000</td>\n",
       "      <td>0.000000</td>\n",
       "      <td>2.000000</td>\n",
       "      <td>2.280000</td>\n",
       "      <td>3.900000</td>\n",
       "      <td>62.036001</td>\n",
       "      <td>267.600000</td>\n",
       "      <td>...</td>\n",
       "      <td>343.200000</td>\n",
       "      <td>304.800000</td>\n",
       "      <td>4.220000</td>\n",
       "      <td>25.720000</td>\n",
       "      <td>35.800000</td>\n",
       "      <td>0.0</td>\n",
       "      <td>3.000000</td>\n",
       "      <td>48.000000</td>\n",
       "      <td>85.600000</td>\n",
       "      <td>0.0</td>\n",
       "    </tr>\n",
       "  </tbody>\n",
       "</table>\n",
       "<p>8 rows × 21 columns</p>\n",
       "</div>"
      ],
      "text/plain": [
       "       Boring threshold [m]  Casing Length [m]  Crowd Depth [m]  \\\n",
       "count               25150.0            25150.0     25150.000000   \n",
       "mean                    0.0                0.0         0.001146   \n",
       "std                     0.0                0.0         0.023235   \n",
       "min                     0.0                0.0         0.000000   \n",
       "25%                     0.0                0.0         0.000000   \n",
       "50%                     0.0                0.0         0.000000   \n",
       "75%                     0.0                0.0         0.000000   \n",
       "max                     0.0                0.0         0.710000   \n",
       "\n",
       "       Crowd-Force [t]     Depth [m]  Gear Mode Main Winch []  \\\n",
       "count     25150.000000  25150.000000             25150.000000   \n",
       "mean          1.157764     -2.452211                 1.460748   \n",
       "std          11.762038      3.022520                 0.882047   \n",
       "min         -37.200000    -37.853999                 0.000000   \n",
       "25%           0.000000     -3.654000                 0.000000   \n",
       "50%           0.000000     -1.700000                 2.000000   \n",
       "75%           7.760000     -0.544000                 2.000000   \n",
       "max          30.180000      0.000000                 2.000000   \n",
       "\n",
       "       Inclination X [Grad]  Inclination Y [Grad]  \\\n",
       "count          25150.000000          25150.000000   \n",
       "mean              -0.232445             -0.266996   \n",
       "std                0.696313              0.588910   \n",
       "min               -3.580000             -3.900000   \n",
       "25%               -0.760000             -0.560000   \n",
       "50%               -0.100000             -0.080000   \n",
       "75%                0.180000              0.060000   \n",
       "max                2.280000              3.900000   \n",
       "\n",
       "       Main Winch Rope Speed [cm/min]  Pressure Pump 1 [bar]  ...  \\\n",
       "count                    25150.000000           25150.000000  ...   \n",
       "mean                        13.271904              22.302934  ...   \n",
       "std                         12.026839              30.705882  ...   \n",
       "min                          0.000000               1.000000  ...   \n",
       "25%                          3.850000               2.800000  ...   \n",
       "50%                         11.238000               9.000000  ...   \n",
       "75%                         19.653500              29.000000  ...   \n",
       "max                         62.036001             267.600000  ...   \n",
       "\n",
       "       Pressure Pump 3 [bar]  Pressure Pump 4 [bar]  \\\n",
       "count           25150.000000           25150.000000   \n",
       "mean               95.722433              72.878704   \n",
       "std                53.227076              59.074557   \n",
       "min                 0.000000               0.200000   \n",
       "25%                61.000000               9.000000   \n",
       "50%                96.600000              70.400000   \n",
       "75%               133.000000             112.800000   \n",
       "max               343.200000             304.800000   \n",
       "\n",
       "       Rope Force Aux. Winch. [t]  Rope Force Main Winch [t]  \\\n",
       "count                25150.000000               25150.000000   \n",
       "mean                     0.001680                  15.071664   \n",
       "std                      0.062819                   1.804485   \n",
       "min                      0.000000                   1.180000   \n",
       "25%                      0.000000                  14.280000   \n",
       "50%                      0.000000                  14.980000   \n",
       "75%                      0.000000                  16.460000   \n",
       "max                      4.220000                  25.720000   \n",
       "\n",
       "       Speed of Rotary Drive [U/min]  Status Rig [ ]  \\\n",
       "count                   25150.000000         25150.0   \n",
       "mean                        2.545074             0.0   \n",
       "std                         4.096687             0.0   \n",
       "min                         0.000000             0.0   \n",
       "25%                         0.000000             0.0   \n",
       "50%                         0.200000             0.0   \n",
       "75%                         3.800000             0.0   \n",
       "max                        35.800000             0.0   \n",
       "\n",
       "       Torque Steps [K=1;M=2;G=3]    Torque [%]  Torque [kNm]  anomaly1  \n",
       "count                25150.000000  25150.000000  25150.000000   25150.0  \n",
       "mean                     2.852652      1.511133      7.285956       0.0  \n",
       "std                      0.466755      3.948103     12.273673       0.0  \n",
       "min                      1.000000      0.000000      0.000000       0.0  \n",
       "25%                      3.000000      0.000000      0.000000       0.0  \n",
       "50%                      3.000000      0.000000      0.900000       0.0  \n",
       "75%                      3.000000      0.000000     10.200000       0.0  \n",
       "max                      3.000000     48.000000     85.600000       0.0  \n",
       "\n",
       "[8 rows x 21 columns]"
      ]
     },
     "execution_count": 236,
     "metadata": {},
     "output_type": "execute_result"
    }
   ],
   "source": [
    "data_nomaly = df_leeren.loc[df_leeren['anomaly1']==0]\n",
    "data_nomaly.reset_index(drop=True, inplace=True)\n",
    "data_nomaly.describe()"
   ]
  },
  {
   "cell_type": "code",
   "execution_count": null,
   "metadata": {},
   "outputs": [],
   "source": []
  },
  {
   "cell_type": "code",
   "execution_count": null,
   "metadata": {},
   "outputs": [],
   "source": []
  },
  {
   "cell_type": "code",
   "execution_count": null,
   "metadata": {},
   "outputs": [],
   "source": []
  }
 ],
 "metadata": {
  "kernelspec": {
   "display_name": "Python 3",
   "language": "python",
   "name": "python3"
  },
  "language_info": {
   "codemirror_mode": {
    "name": "ipython",
    "version": 3
   },
   "file_extension": ".py",
   "mimetype": "text/x-python",
   "name": "python",
   "nbconvert_exporter": "python",
   "pygments_lexer": "ipython3",
   "version": "3.7.4"
  }
 },
 "nbformat": 4,
 "nbformat_minor": 4
}
